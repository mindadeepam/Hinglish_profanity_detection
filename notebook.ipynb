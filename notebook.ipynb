{
  "cells": [
    {
      "cell_type": "markdown",
      "metadata": {
        "id": "83yZSmn8sAzI"
      },
      "source": [
        "# Imports"
      ]
    },
    {
      "cell_type": "code",
      "execution_count": null,
      "metadata": {
        "id": "uCguMBSOW-3q"
      },
      "outputs": [],
      "source": [
        "! pip install -U tensorflow-text==2.8.2\n",
        "# pip install -U tensorflow_transform==1.8.0\n",
        "# ! pip install mlflow"
      ]
    },
    {
      "cell_type": "code",
      "execution_count": null,
      "metadata": {
        "id": "1zyev0Oko6It"
      },
      "outputs": [],
      "source": [
        "!pip install wandb\n",
        "import os\n",
        "# 46c39bbac8b187eeb815386597ca25ba414d4c5e\n",
        "!WANDB_API_KEY=$46c39bbac8b187eeb815386597ca25ba414d4c5e\n",
        "os.environ['WANDB_API_KEY'] = '46c39bbac8b187eeb815386597ca25ba414d4c5e'\n",
        "import wandb\n",
        "\n",
        "from wandb.keras import WandbCallback\n"
      ]
    },
    {
      "cell_type": "code",
      "execution_count": null,
      "metadata": {
        "id": "yUp1bovvZL0q"
      },
      "outputs": [],
      "source": [
        "import tensorflow_text as tf_text\n",
        "# import tensorflow_transform as tft\n",
        "import tensorflow as tf\n",
        "# import unicodedata\n",
        "import string\n",
        "import pandas as pd\n",
        "import numpy as np\n",
        "from tensorflow import keras\n",
        "from tensorflow.keras.layers import Dense, LSTM, TextVectorization, Embedding, Flatten, Dropout, Softmax\n",
        "from sklearn.model_selection import train_test_split\n",
        "from sklearn.model_selection import KFold, StratifiedShuffleSplit\n",
        "seed=69\n",
        "\n",
        "import matplotlib as mlp\n",
        "import matplotlib.pyplot as plt\n",
        "\n",
        "# mlp.rcParams['figure.figsize'] = (15, 10)\n",
        "\n",
        "## returns a dictionary with 10 color values\n",
        "colors = plt.rcParams['axes.prop_cycle'].by_key()['color']\n",
        "\n",
        "from datetime import datetime\n",
        "from pprint import pprint\n",
        "import subprocess\n",
        "from keras.callbacks import CSVLogger\n",
        "\n",
        "# import mlflow\n",
        "# mlflow.tensorflow.autolog()"
      ]
    },
    {
      "cell_type": "markdown",
      "metadata": {
        "id": "hCR9NBdCNeBg"
      },
      "source": [
        "# Utils"
      ]
    },
    {
      "cell_type": "code",
      "source": [
        "def runcmd(cmd, verbose = False, *args, **kwargs):\n",
        "\n",
        "    process = subprocess.Popen(\n",
        "        cmd,\n",
        "        stdout = subprocess.PIPE,\n",
        "        stderr = subprocess.PIPE,\n",
        "        text = True,\n",
        "        shell = True\n",
        "    )\n",
        "    std_out, std_err = process.communicate()\n",
        "    if verbose:\n",
        "        print(std_out.strip(), std_err)\n",
        "    pass"
      ],
      "metadata": {
        "id": "FWClK9dxTGQO"
      },
      "execution_count": null,
      "outputs": []
    },
    {
      "cell_type": "code",
      "execution_count": null,
      "metadata": {
        "id": "r1e6Wug-NjcI"
      },
      "outputs": [],
      "source": [
        "def getClassWeights(y):\n",
        "  'pass array of labels and get class weights dictionary'  \n",
        "  neg, pos = np.bincount(y.reshape(-1))\n",
        "  total = neg + pos\n",
        "  weight_for_0 = (1 / neg) * (total / 2.0)\n",
        "  weight_for_1 = (1 / pos) * (total / 2.0)\n",
        "  class_weight = {0: weight_for_0, 1: weight_for_1} \n",
        "\n",
        "  return class_weight"
      ]
    },
    {
      "cell_type": "code",
      "execution_count": null,
      "metadata": {
        "id": "PFJaEpplhbR-"
      },
      "outputs": [],
      "source": [
        "def getBatchedDataset(data=None, X=None, y=None, batch_size=64,):\n",
        "  'pass df or X and y and get shuffled and batched dataset'\n",
        "  if(type(data) == pd.core.frame.DataFrame):\n",
        "    X = data.iloc[:,:-1].values\n",
        "    y = data.iloc[:,-1:].values\n",
        "  elif(type(data)==type(None) and type(X)==type(None) and type(y)==type(None)):\n",
        "    print(\"pass dataset or X and y as argument to function\")\n",
        "\n",
        "  dataset = tf.data.Dataset.from_tensor_slices((X, y))\n",
        "  \n",
        "  batch_size = batch_size\n",
        "  AUTOTUNE = tf.data.experimental.AUTOTUNE\n",
        "  dataset = dataset.shuffle(buffer_size=len(dataset))\\\n",
        "              .batch(batch_size)\\\n",
        "              .cache()\\\n",
        "              .prefetch(AUTOTUNE)\n",
        "\n",
        "  return dataset"
      ]
    },
    {
      "cell_type": "code",
      "execution_count": null,
      "metadata": {
        "id": "jGTGk1GzhxRA"
      },
      "outputs": [],
      "source": [
        "def getValData(frac=0.3, testdata_id=\"1DHHBfPgoTGEDltyw_-ox7JBI8pdyKiMm\", random_state=69):\n",
        "  'sample test set and get val data. returns dataframe'\n",
        "  testdata_id = testdata_id\n",
        "  path = \"test_labelled.xlsx\"\n",
        "  if not (os.path.isfile(path)):\n",
        "    ! gdown -q $testdata_id\n",
        "\n",
        "  test = pd.read_excel(\"test_labelled.xlsx\", usecols=[1,2])\n",
        "  val_data = test.groupby('label', group_keys=False).apply(lambda x: x.sample(frac=frac, random_state=random_state))\n",
        "  return val_data"
      ]
    },
    {
      "cell_type": "code",
      "execution_count": null,
      "metadata": {
        "id": "S3IA3jqg2qel"
      },
      "outputs": [],
      "source": [
        "def getCallbacks(i='', patience=10, checkpoint_filepath=None):\n",
        "  csv_logger = CSVLogger(f'training.log{i}', separator=',', append=False)\n",
        "  stop_early = tf.keras.callbacks.EarlyStopping(monitor='val_loss', patience=patience, mode='min')\n",
        "  # log_dir = \"logs/fit/\" + datetime.now().strftime(\"%Y%m%d-%H%M%S\")\n",
        "  # tensorboard_callback = tf.keras.callbacks.TensorBoard(log_dir=log_dir, histogram_freq=1)\n",
        "  \n",
        "  runcmd(f\"mkdir tmp{i}\")\n",
        "\n",
        "  if(checkpoint_filepath==None):\n",
        "    print(f\"setting tmp{i} as checkpoint path\")\n",
        "    checkpoint_filepath = f'tmp{i}/'\n",
        "  else : print(checkpoint_filepath)\n",
        "    \n",
        "  model_checkpoint_callback = tf.keras.callbacks.ModelCheckpoint(\n",
        "  filepath=checkpoint_filepath,\n",
        "  save_weights_only=True,\n",
        "  monitor='val_loss',\n",
        "  mode='min',\n",
        "  save_best_only=True)\n",
        "\n",
        "  return [csv_logger, stop_early, model_checkpoint_callback]"
      ]
    },
    {
      "cell_type": "code",
      "execution_count": null,
      "metadata": {
        "id": "iKHqmbrbh0hC"
      },
      "outputs": [],
      "source": [
        "def getTrainData(trainid = \"1BdFMY_cdiPtxBXVWjNxryqArpKEVETIB\", return_dataframe=False):\n",
        "  'pass id of drive file (default=train data) and get a tuple of comments and labels as numpy arrays'\n",
        "\n",
        "  trainid = \"1BdFMY_cdiPtxBXVWjNxryqArpKEVETIB\"\n",
        "  path = \"13k_labelled.csv\"\n",
        "  if not (os.path.isfile(path)):\n",
        "    runcmd(f\"gdown -q {trainid}\")\n",
        "\n",
        "  data = pd.read_csv('13k_labelled.csv', index_col=None, header=None, names=['comment', 'label'])\n",
        "  X = data.comment.values.reshape(-1,1)\n",
        "  y = data.label.values.reshape(-1,1)\n",
        "\n",
        "  if(return_dataframe == True):\n",
        "    return data\n",
        "    \n",
        "  return X, y"
      ]
    },
    {
      "cell_type": "markdown",
      "metadata": {
        "id": "m5OUPGTRE1vE"
      },
      "source": [
        "# load data"
      ]
    },
    {
      "cell_type": "code",
      "execution_count": null,
      "metadata": {
        "id": "n6gVOp6BGPJW"
      },
      "outputs": [],
      "source": [
        "trainid = \"1BdFMY_cdiPtxBXVWjNxryqArpKEVETIB\"\n",
        "X,y = getTrainData(trainid)\n",
        "train_ds = tf.data.Dataset.from_tensor_slices((X, y))"
      ]
    },
    {
      "cell_type": "code",
      "execution_count": null,
      "metadata": {
        "colab": {
          "base_uri": "https://localhost:8080/",
          "height": 35
        },
        "id": "RcauDW4TGQBb",
        "outputId": "3f7cae5c-4ef3-4f87-9c1c-74a65b1971b7"
      },
      "outputs": [
        {
          "output_type": "execute_result",
          "data": {
            "text/plain": [
              "'train_text_ds = tf.data.Dataset.from_tensor_slices(tf.cast(X, tf.string))'"
            ],
            "application/vnd.google.colaboratory.intrinsic+json": {
              "type": "string"
            }
          },
          "metadata": {},
          "execution_count": 7
        }
      ],
      "source": [
        "'train_text_ds = tf.data.Dataset.from_tensor_slices(tf.cast(X, tf.string))' # not req"
      ]
    },
    {
      "cell_type": "markdown",
      "metadata": {
        "id": "j43wcWwdU-Zc"
      },
      "source": [
        "# Build model layers"
      ]
    },
    {
      "cell_type": "markdown",
      "metadata": {
        "id": "sjc4p3iVVGMY"
      },
      "source": [
        "### custom preprocessing"
      ]
    },
    {
      "cell_type": "code",
      "execution_count": null,
      "metadata": {
        "id": "XsYlOxVRFnc9"
      },
      "outputs": [],
      "source": [
        "## apparently only bottom decorator works. both shouldddd\n",
        "\n",
        "\n",
        "# @tf.keras.utils.register_keras_serializable(package='Custom', name=\"tf_normalize\")\n",
        "@tf.function\n",
        "def tf_normalize(text):\n",
        "\n",
        "  # print(\"testingggggg\")\n",
        "\n",
        "  # Split accecented characters.\n",
        "  text = tf_text.normalize_utf8(text, 'NFKD')\n",
        "  ## text = text.map(lambda line: tf.py_function(tf_text.normalize_utf8, [line], tf.string))\n",
        "\n",
        "  text = tf.strings.lower(text)\n",
        "  \n",
        "  # remove special chars \n",
        "  # text = tf.strings.regex_replace(text, '[\\\\\\!\"#$%&\\'()*+,-./:;<=>?@[\\]^_`{|}~]', '')  \n",
        "\n",
        "  # Keep space, a to z only  (un-normalized unicode and emojis will get removed!).\n",
        "  text = tf.strings.regex_replace(text, '[^a-z]', ' ')    # will replace all except alphabets with space, so 'bhench**d' becomes 'bhenc d', keeps spaces\n",
        "  # text = tf.strings.regex_replace(text, '[^a-z]\\s', '')   # will replace all special chars with '' , but keeps spaces too\n",
        "\n",
        "  # remove repeated chars (better algo required)\n",
        "  \n",
        "  text = tf.strings.regex_replace(text, 'a{3,}', 'aa')\n",
        "  text = tf.strings.regex_replace(text, 'b{3,}', 'b')\n",
        "  text = tf.strings.regex_replace(text, 'c{3,}', 'c')\n",
        "  text = tf.strings.regex_replace(text, 'd{3,}', 'dd')\n",
        "  text = tf.strings.regex_replace(text, 'e{3,}', 'ee')\n",
        "  text = tf.strings.regex_replace(text, 'f{3,}', 'f')\n",
        "  text = tf.strings.regex_replace(text, 'g{3,}', 'g')\n",
        "  text = tf.strings.regex_replace(text, 'h{3,}', 'h')\n",
        "  text = tf.strings.regex_replace(text, 'i{3,}', 'i')\n",
        "  text = tf.strings.regex_replace(text, 'j{3,}', 'j')\n",
        "  text = tf.strings.regex_replace(text, 'k{3,}', 'k')\n",
        "  text = tf.strings.regex_replace(text, 'l{3,}', 'l')\n",
        "  text = tf.strings.regex_replace(text, 'm{3,}', 'm')\n",
        "  text = tf.strings.regex_replace(text, 'o{3,}', 'oo')\n",
        "  text = tf.strings.regex_replace(text, 'n{3,}', 'n')\n",
        "  text = tf.strings.regex_replace(text, 'p{3,}', 'p')\n",
        "  text = tf.strings.regex_replace(text, 'q{3,}', 'q')\n",
        "  text = tf.strings.regex_replace(text, 'r{3,}', 'r')\n",
        "  text = tf.strings.regex_replace(text, 's{3,}', 's')\n",
        "  text = tf.strings.regex_replace(text, 't{3,}', 'tt')\n",
        "  text = tf.strings.regex_replace(text, 'u{3,}', 'u')\n",
        "  text = tf.strings.regex_replace(text, 'v{3,}', 'v')\n",
        "  text = tf.strings.regex_replace(text, 'w{3,}', 'w')\n",
        "  text = tf.strings.regex_replace(text, 'x{3,}', 'x')\n",
        "  text = tf.strings.regex_replace(text, 'y{3,}', 'y')\n",
        "  text = tf.strings.regex_replace(text, 'z{3,}', 'z')\n",
        "\n",
        "\n",
        "  # strip and remove extra whitespace\n",
        "  text = tf.strings.regex_replace(text, '\\s\\s+', ' ')\n",
        "  text = tf.strings.strip(text)\n",
        "\n",
        "  # remove all spaces\n",
        "  # text = tf.strings.regex_replace(text, '\\s+', '')\n",
        "\n",
        "  text = tf.strings.join(['_', text, '_'], separator=' ')\n",
        "\n",
        "\n",
        "\n",
        "  # Add spaces around punctuation.\n",
        "  # text = tf.strings.regex_replace(text, '[.?!,¿]', r' \\0 ')\n",
        "\n",
        "  # text = tf.strings.join(['[START]', text, '[END]'], separator=' ')\n",
        "\n",
        "  return text"
      ]
    },
    {
      "cell_type": "code",
      "execution_count": null,
      "metadata": {
        "id": "pO0mWVlwBARC"
      },
      "outputs": [],
      "source": [
        "# tf.keras.utils.get_custom_objects()"
      ]
    },
    {
      "cell_type": "code",
      "execution_count": null,
      "metadata": {
        "colab": {
          "base_uri": "https://localhost:8080/"
        },
        "id": "CT0w42Z4IJyi",
        "outputId": "e2531bc4-893c-4fe0-e123-1bd00b67883c"
      },
      "outputs": [
        {
          "output_type": "execute_result",
          "data": {
            "text/plain": [
              "<tf.Tensor: shape=(), dtype=string, numpy=b'_ hey there bitcch _'>"
            ]
          },
          "metadata": {},
          "execution_count": 15
        }
      ],
      "source": [
        "tf_normalize(\"23635476576874 hey there bitcchhh65$^%&*^%\")"
      ]
    },
    {
      "cell_type": "markdown",
      "metadata": {
        "id": "FlygH0Gn12dJ"
      },
      "source": [
        "### vectorize layer"
      ]
    },
    {
      "cell_type": "code",
      "execution_count": null,
      "metadata": {
        "id": "6iLAKe11JdAZ"
      },
      "outputs": [],
      "source": [
        "vocab_size = 30000\n",
        "sequence_length = 200\n",
        "\n",
        "vectorize_layer = TextVectorization(\n",
        "    max_tokens=vocab_size,\n",
        "    standardize=tf_normalize,\n",
        "    split='character',\n",
        "    ngrams=None,\n",
        "    output_mode='int',\n",
        "    output_sequence_length=sequence_length,\n",
        "    pad_to_max_tokens=True,\n",
        "    vocabulary=None,\n",
        "    idf_weights=None,\n",
        "    sparse=False,\n",
        "    ragged=False\n",
        ")"
      ]
    },
    {
      "cell_type": "code",
      "execution_count": null,
      "metadata": {
        "id": "zyoDlvml6_oR"
      },
      "outputs": [],
      "source": [
        "# config = vectorize_layer.get_config()\n",
        "# config"
      ]
    },
    {
      "cell_type": "code",
      "execution_count": null,
      "metadata": {
        "id": "2B-_1vVbQMV9"
      },
      "outputs": [],
      "source": [
        "# load data for vocab\n",
        "file_id = \"19_b0lDdLoe5BlEsqvDdfc2AImSWRA5bo\"\n",
        "file_name = 'train_vocab_file.txt'\n",
        "vocab_dir = \"train_vocab\"\n",
        "\n",
        "if not os.path.exists(vocab_dir):  \n",
        "  runcmd(f\"mkdir {vocab_dir}\")\n",
        "if not os.path.exists(os.path.join(vocab_dir,file_name)) or os.path.exists(file_name):\n",
        "  runcmd(f\"gdown -q {file_id} -O {file_name}\", verbose=False)\n",
        "  runcmd(f\"mv {file_name} {vocab_dir}\")\n"
      ]
    },
    {
      "cell_type": "code",
      "execution_count": null,
      "metadata": {
        "colab": {
          "base_uri": "https://localhost:8080/"
        },
        "id": "ZDSEpfVnQpzp",
        "outputId": "4759de9c-26b8-4802-f67b-75faca1aa2f6"
      },
      "outputs": [
        {
          "output_type": "stream",
          "name": "stdout",
          "text": [
            "Found 1 files belonging to 1 classes.\n"
          ]
        }
      ],
      "source": [
        "vocab_train_data = tf.keras.utils.text_dataset_from_directory(\n",
        "    directory=\"train_vocab/\",\n",
        "    labels=None,\n",
        "    label_mode=None,\n",
        "    batch_size=32,\n",
        "    max_length=None,\n",
        "    shuffle=True,\n",
        "    seed=69,\n",
        "    validation_split=None,\n",
        "    subset=None,\n",
        "    follow_links=False\n",
        ")"
      ]
    },
    {
      "cell_type": "code",
      "execution_count": null,
      "metadata": {
        "id": "i3NX4ugCKZtZ"
      },
      "outputs": [],
      "source": [
        "# Make a text-only dataset (no labels) and call adapt to build the vocabulary.\n",
        "vectorize_layer.adapt(vocab_train_data)"
      ]
    },
    {
      "cell_type": "code",
      "execution_count": null,
      "metadata": {
        "colab": {
          "base_uri": "https://localhost:8080/"
        },
        "id": "42EY4zddT97C",
        "outputId": "b094a77b-24d6-4485-bdaf-0211d1daf88c"
      },
      "outputs": [
        {
          "output_type": "execute_result",
          "data": {
            "text/plain": [
              "30"
            ]
          },
          "metadata": {},
          "execution_count": 26
        }
      ],
      "source": [
        "vocab = (vectorize_layer.get_vocabulary())\n",
        "len(vocab)\n",
        "vectorize_layer.vocabulary_size()"
      ]
    },
    {
      "cell_type": "code",
      "execution_count": null,
      "metadata": {
        "id": "F15hA_-ro6yI"
      },
      "outputs": [],
      "source": [
        "# '_' in vocab \n",
        "# # vocab.index('_')\n",
        "# sent = 'teri maa ki choooot'\n",
        "# [vocab[i] for i in vectorize_layer([sent]).numpy().flatten() if i !=0]\n",
        "# # lstm_layer1(embedding_layer(vectorize_layer([\"66789975\"])))\n"
      ]
    },
    {
      "cell_type": "markdown",
      "metadata": {
        "id": "Dzb041R31-HO"
      },
      "source": [
        "### embedding layer"
      ]
    },
    {
      "cell_type": "code",
      "execution_count": null,
      "metadata": {
        "id": "q2JnMlAi2XmU"
      },
      "outputs": [],
      "source": [
        "def getEmbeddingLayer(config):\n",
        "  \n",
        "  embedding_dim = config['embedding_dimensions']\n",
        "  input_dim = vectorize_layer.vocabulary_size()\n",
        "  input_length = sequence_length\n",
        "\n",
        "  embedding_layer = Embedding(\n",
        "      input_dim=input_dim,\n",
        "      output_dim=embedding_dim,\n",
        "      embeddings_initializer='uniform',\n",
        "      mask_zero=True,\n",
        "      input_length=input_length,\n",
        "  )\n",
        "  embedding_layer.embeddings_regularizer = tf.keras.regularizers.l2(1e-5)\n",
        "  return embedding_layer\n",
        "# input shape  -- (batch_size, input_length)\n",
        "# output shape -- (batch_size, input_length, output_dim)."
      ]
    },
    {
      "cell_type": "markdown",
      "metadata": {
        "id": "87bU264M7GeU"
      },
      "source": [
        "# Model val and train"
      ]
    },
    {
      "cell_type": "markdown",
      "metadata": {
        "id": "uYFjpkPHEVB0"
      },
      "source": [
        "## Utils for val_metrics and training and plotting"
      ]
    },
    {
      "cell_type": "code",
      "execution_count": null,
      "metadata": {
        "id": "NX7t723GWIUS"
      },
      "outputs": [],
      "source": [
        "METRICS = [\n",
        "  keras.metrics.TruePositives(name='tp'),\n",
        "  keras.metrics.FalsePositives(name='fp'),\n",
        "  keras.metrics.TrueNegatives(name='tn'),\n",
        "  keras.metrics.FalseNegatives(name='fn'), \n",
        "  keras.metrics.BinaryAccuracy(name='accuracy'),\n",
        "  keras.metrics.Precision(name='precision'),\n",
        "  keras.metrics.Recall(name='recall'),\n",
        "\n",
        "  keras.metrics.AUC(name='auc', curve='ROC'),      \n",
        "  # AUC refers to the Area Under the Curve of a Receiver Operating Characteristic curve (ROC-AUC). \n",
        "  # This metric is equal to the probability that a classifier will rank a random positive sample higher than a random negative sample.\n",
        "\n",
        "  keras.metrics.AUC(name='prc', curve='PR'),\n",
        "  # AUPRC refers to Area Under the Curve of the Precision-Recall Curve. \n",
        "  # This metric computes precision-recall pairs for different probability thresholds.\n",
        "]"
      ]
    },
    {
      "cell_type": "code",
      "execution_count": null,
      "metadata": {
        "id": "5n3KGuBqEYXE"
      },
      "outputs": [],
      "source": [
        "def create_model(config=None):\n",
        "  model = tf.keras.models.Sequential(name=\"rnn_model\")\n",
        "  model.add(vectorize_layer)\n",
        "  model.add(getEmbeddingLayer(config))\n",
        "  # model.add()\n",
        "  model.add(Dropout(config['dropout_1']))\n",
        "\n",
        "  lstm_layer1 = LSTM(\n",
        "    units=config['lstm_units'], \n",
        "    activation='tanh',\n",
        "    input_shape = (100,100),\n",
        "    return_sequences=True,\n",
        "    go_backwards = True,\n",
        "  )\n",
        "  model.add(lstm_layer1)\n",
        "  model.add(Dropout(config['dropout_2']))\n",
        "\n",
        "  # model.add(Dense(32, activation='tanh'))\n",
        "  # model.add(Dropout(.2))\n",
        "  model.add(Dense(config['dense_units'], activation='tanh'))\n",
        "  model.add(Dropout(config['dropout_3']))\n",
        "  model.add(Flatten())\n",
        "  model.add(Dense(1, activation='sigmoid'))\n",
        "\n",
        "  # opt1 = tf.keras.optimizers.SGD(learning_rate=0.001, momentum=0.01, nesterov=True)\n",
        "  opt2 = tf.keras.optimizers.Adam(config['learning_rate'])\n",
        "  model.compile(loss=tf.keras.losses.BinaryCrossentropy(from_logits=False),\n",
        "                optimizer=opt2,\n",
        "              metrics=METRICS)\n",
        "  return model\n"
      ]
    },
    {
      "cell_type": "code",
      "execution_count": null,
      "metadata": {
        "id": "k1kUBNmZgy2w"
      },
      "outputs": [],
      "source": [
        "def getValScores(X, y, config=None):\n",
        "  '''\n",
        "  arguments:\n",
        "    model: tf model\n",
        "    X:\n",
        "    y:\n",
        "    n: splits for StratifiedKfold\n",
        "    epochs: in model.fit\n",
        "    test_size: kfold, split testsize acts as val set for model.fit too\n",
        "  '''\n",
        "  n_splits = config['n_splits']\n",
        "  epochs = config['epochs']\n",
        "  test_size = config['test_size']\n",
        "\n",
        "  sss = StratifiedShuffleSplit(n_splits=n_splits, test_size=test_size, random_state=100)\n",
        "  i=1\n",
        "  histories = []\n",
        "  # X,y = \n",
        "  val_scores = []\n",
        "  \n",
        "\n",
        "  for train_index,test_index in sss.split(X,y):\n",
        "\n",
        "    run = wandb.init( project = \"medusa\", name=f'val-{i}', group=\"trial\", job_type=\"cross-val 2\", config=config, resume=False) \n",
        "\n",
        "    x_train,x_test=X[train_index],X[test_index]\n",
        "    y_train,y_test=y[train_index],y[test_index]\n",
        "    print(len(x_train), len(x_test), len(y_train[y_train==1]))\n",
        "    # print(x_train, y_train)\n",
        "\n",
        "    #class weights\n",
        "    class_weights = getClassWeights(y_train)\n",
        "\n",
        "    \n",
        "\n",
        "    ## batch and shuffle\n",
        "    train_ds = getBatchedDataset(X=x_train, y=y_train, batch_size=64)\n",
        "    test_ds = getBatchedDataset(X=x_test, y=y_test, batch_size=64)  \n",
        "\n",
        "    ## callbacks\n",
        "    callbacks = getCallbacks(i)\n",
        "    wandbcallback = WandbCallback(monitor='val_loss', mode='min', \n",
        "                                labels=[\"not profane\", \"profane\"], \n",
        "                                save_model=False, \n",
        "                                # log_weights=True,\n",
        "                                # log_gradients=True,\n",
        "                                # training_data=(X,y), # nai horha...\n",
        "                                # validation_data=(val_X,val_y), #\n",
        "                                # save_weights_only=True #\n",
        "                                )\n",
        "    ## fit model\n",
        "    model=create_model(config)\n",
        "    history = model.fit(train_ds, epochs=epochs, validation_data=test_ds , \n",
        "                        class_weight=class_weights, callbacks=[*callbacks, wandbcallback], use_multiprocessing = True)\n",
        "\n",
        "    histories.append(history)\n",
        "\n",
        "    # model.save(f'model{i}')\n",
        "    # tf.keras.models.save_model(model, f'model{i}')\n",
        "    i=i+1\n",
        "    val_score = model.evaluate(test_ds)\n",
        "    val_scores.append(val_score)\n",
        "    # print('Model evaluation ',val_score)\n",
        "\n",
        "  # val_scores\n",
        "  run.finish()\n",
        "\n",
        "  return histories, val_scores\n",
        "\n"
      ]
    },
    {
      "cell_type": "code",
      "execution_count": null,
      "metadata": {
        "id": "vKkQIQALNwNR"
      },
      "outputs": [],
      "source": [
        "# modelload = create_model(0.001)\n",
        "# i=1\n",
        "# checkpoint_filepath = f'tmp{i}/model_checkpoint'\n",
        "# modelload.load_weights(checkpoint_filepath)"
      ]
    },
    {
      "cell_type": "code",
      "source": [
        "def logDataset(run, make_dir=False ):\n",
        "\n",
        "  if(make_dir==True):\n",
        "    ! mkdir test\n",
        "    ! mkdir train\n",
        "    ! mv \"13k_labelled.csv\" \"train/13k_labelled.csv\"\n",
        "    # ! mv \"13k_labelled.csv\" \"train/13k_labelled.csv\"\n",
        "    \n",
        "  train_data_artifact = wandb.Artifact('train-data', type='datasets', description='around 13k manually labelled comments each for training and testing')\n",
        "  test_data_artifact = wandb.Artifact('train-data', type='datasets', description='around 13k manually labelled comments each for training and testing')\n",
        "  train_data_artifact.add_dir('train')\n",
        "  test_data_artifact.add_dir('test')\n",
        "  run.log_artifact(train_data_artifact)\n",
        "  run.log_artifact(test_data_artifact)\n"
      ],
      "metadata": {
        "id": "vCMlZHNSUN8i"
      },
      "execution_count": null,
      "outputs": []
    },
    {
      "cell_type": "code",
      "source": [
        "def logPredictions(model, X, y, table_name):\n",
        "  pred = model.predict(X);\n",
        "  label_predictions = np.array([0 if x<0.5 else 1 for x in pred])\n",
        "  df_dict = {'comments': X.flatten(),\n",
        "             'true_label': y.flatten(),\n",
        "             'label predictions': label_predictions.flatten(),\n",
        "             'model probability': pred.flatten()}\n",
        "  df = pd.DataFrame(df_dict)\n",
        "  wandb.log({table_name: df})\n",
        "  pass"
      ],
      "metadata": {
        "id": "bLdZ3Qb6Anft"
      },
      "execution_count": null,
      "outputs": []
    },
    {
      "cell_type": "code",
      "source": [
        "config = {\n",
        "    'model':'RNN (lstm)',\n",
        "    'architecture': 'V-EmDr-LDr-DDr-Fl-D',\n",
        "    'tokenization':'character',\n",
        "    'epochs': 50,\n",
        "    'batch_size': 64,\n",
        "    'optimizer': 'Adam',\n",
        "    'learning_rate': 1e-3 ,\n",
        "    'vect_sequence_len': 200,\n",
        "    'embedding_dimensions': 120,\n",
        "    'dropout_1': 0.3,\n",
        "    'dropout_2': 0.4,\n",
        "    'dropout_3': 0.4,\n",
        "    'lstm_units': 16,\n",
        "    'dense_units': 32,\n",
        "}"
      ],
      "metadata": {
        "id": "iPoMW5vo8IPF"
      },
      "execution_count": null,
      "outputs": []
    },
    {
      "cell_type": "code",
      "execution_count": null,
      "metadata": {
        "id": "WPmVoJBlP0Z4"
      },
      "outputs": [],
      "source": [
        "def trainModel(train_data=None, class_weights=None, val_data=None, log_predictions=False, log_model_checkpoint=False , log_data=False):\n",
        "  'returns model and history'\n",
        "\n",
        "  # run = wandb.init( project = \"medusa\", name='dataset', group=\"train-test\", job_type=\"log data\", resume=False) \n",
        "  # logDataset(run, make_dir=True)\n",
        "  # if(config == None):\n",
        "  run = wandb.init(config=config)\n",
        "  \n",
        "  epochs = config['epochs']\n",
        "  batch_size = config['batch_size']\n",
        "\n",
        "  # get val set sampled from test set and convert to batched dataset\n",
        "  if(val_data is None):\n",
        "    val_data = getValData()\n",
        "    val_X = val_data.iloc[:,:-1].values\n",
        "    val_y = val_data.iloc[:,-1:].values\n",
        "    val_ds = getBatchedDataset(val_data, batch_size=batch_size)\n",
        "\n",
        "  # get batched train dataset\n",
        "  if(train_data==None):\n",
        "    X,y = getTrainData()\n",
        "    train_ds = getBatchedDataset(X=X,y=y, batch_size=batch_size)\n",
        "  else:\n",
        "    X = train_data.iloc[:,:-1].values\n",
        "    y = train_data.iloc[:,-1:].values\n",
        "    train_ds = getBatchedDataset(train_data, batch_size=batch_size)\n",
        "\n",
        "  # class weights\n",
        "  if(class_weights==None):\n",
        "    class_weights = getClassWeights(y)\n",
        "\n",
        "  #callbacks\n",
        "  # reduce_lr = ReduceLROnPlateau(monitor='val_loss', mode='min', factor=0.5, patience=3, min_lr=0.000001, verbose=1, cooldown=0)\n",
        "  \n",
        "  checkpoint_filepath = f'tmp/checkpoint/model_checkpoint'\n",
        "  callbacks = getCallbacks('', patience=10, checkpoint_filepath=checkpoint_filepath)\n",
        "  wandbcallback = WandbCallback(monitor='val_loss', mode='min', \n",
        "                                labels=[\"not profane\", \"profane\"], \n",
        "                                save_model=False, \n",
        "                                log_weights=True,\n",
        "                                log_gradients=True,\n",
        "                                training_data=(X,y), # nai horha...\n",
        "                                validation_data=(val_X,val_y), #\n",
        "                                save_weights_only=True) #\n",
        "\n",
        "  \n",
        "  # train model\n",
        "  model = create_model(config)\n",
        "  history = model.fit(X,y, epochs=epochs, validation_data=(val_X,val_y) , \n",
        "                      class_weight=class_weights, \n",
        "                      callbacks=[*callbacks, wandbcallback],  #\n",
        "                      use_multiprocessing = True)\n",
        "  \n",
        "\n",
        "  if(log_predictions==True):\n",
        "    logPredictions(model, val_X, val_y, \"val_data predictions\")\n",
        "    logPredictions(model, X, y, \"train_data predictions\")\n",
        "\n",
        "\n",
        "  # wandb.log(history)\n",
        "  if(log_model_checkpoint==True):\n",
        "    trained_model_artifact = wandb.Artifact('lstm_model', type='model', description='lstm model with character tokenization')\n",
        "    trained_model_artifact.add_dir('tmp/')\n",
        "    run.log_artifact(trained_model_artifact)\n",
        "\n",
        "  wandb.finish()\n",
        "  \n",
        "  return model, history"
      ]
    },
    {
      "cell_type": "code",
      "execution_count": null,
      "metadata": {
        "id": "OE9uuDQZ8D1B"
      },
      "outputs": [],
      "source": [
        "## edit this function to make it general??\n",
        "\n",
        "def plot_metrics(history, i):\n",
        "  metrics = ['loss', 'precision', 'recall', 'auc', 'prc']\n",
        "  plt.figure(figsize=(15,15))\n",
        "  plt.suptitle(f'Model{i}')\n",
        "\n",
        "\n",
        "  for n, metric in enumerate(metrics):\n",
        "    name = metric.replace(\"_\",\" \").capitalize()\n",
        "    plt.subplot(3,2,n+1)\n",
        "    plt.plot(history.epoch, history.history[metric], color=colors[n], label='Train')\n",
        "    plt.plot(history.epoch, history.history['val_'+metric],\n",
        "             color=colors[n], linestyle=\"--\", label='Val')\n",
        "    plt.xlabel('Epoch')\n",
        "    plt.ylabel(name)\n",
        "    if metric == 'loss':\n",
        "      plt.ylim([plt.ylim()[0]-.1, 1])\n",
        "    elif metric == 'auc' or metric == 'prc':\n",
        "      plt.ylim([plt.ylim()[0]-.1, 1])\n",
        "    else:\n",
        "      plt.ylim([plt.ylim()[0]-.1, plt.ylim()[1]+.1])\n",
        "\n",
        "    plt.legend();\n",
        "    plt.savefig(f'Model{i}_train_metrics.png') "
      ]
    },
    {
      "cell_type": "markdown",
      "metadata": {
        "id": "FVCL_9z57PwW"
      },
      "source": [
        "## Cross Validation"
      ]
    },
    {
      "cell_type": "code",
      "source": [
        "val_config = dict (\n",
        "    model= 'RNN (lstm)',\n",
        "    architecture = 'V-EmDr-LDr-DDr-Fl-D',\n",
        "    tokenization ='character',\n",
        "    test_size  = 0.2,\n",
        "    n_splits   = 1,\n",
        "    epochs     = 1,\n",
        "    batch_size = 64,\n",
        "    optimizer  = 'Adam',\n",
        "    learning_rate= 1e-3 ,\n",
        "    vect_sequence_len= 200,\n",
        "    embedding_dimensions= 120,\n",
        "    dropout_1 = 0.3,\n",
        "    dropout_2 = 0.4,\n",
        "    dropout_3 = 0.4,\n",
        "    lstm_units = 16,\n",
        "    dense_units = 32,   \n",
        ")"
      ],
      "metadata": {
        "id": "Dl1NG4ErFnPe"
      },
      "execution_count": null,
      "outputs": []
    },
    {
      "cell_type": "code",
      "execution_count": null,
      "metadata": {
        "id": "PSx_W6Dv7UB3"
      },
      "outputs": [],
      "source": [
        "X,y = getTrainData()\n",
        "histories, val_scores = getValScores(X, y, config=val_config)"
      ]
    },
    {
      "cell_type": "code",
      "execution_count": null,
      "metadata": {
        "id": "SdHHRAf67r8h"
      },
      "outputs": [],
      "source": [
        "val_metrics = pd.DataFrame(val_scores, index=range(1, 1+len(val_scores)), columns=['val-loss', 'tp', 'fp','tn', 'fn', 'accuracy', 'precision', 'recall', 'roc-auc', 'prc-auc'] )\n",
        "print(val_metrics,\"\\n\\n\")\n",
        "print(val_metrics.apply(np.mean, axis=0))"
      ]
    },
    {
      "cell_type": "code",
      "execution_count": null,
      "metadata": {
        "id": "z2hjuMsn8GA6"
      },
      "outputs": [],
      "source": [
        "## plot metrics in Kfold runs\n",
        "for i, history in enumerate(histories):\n",
        "  plot_metrics(histories[i],i+1)"
      ]
    },
    {
      "cell_type": "markdown",
      "metadata": {
        "id": "aYy4tghdawTG"
      },
      "source": [
        "## Train model \n",
        "and log metrics in wandb"
      ]
    },
    {
      "cell_type": "code",
      "execution_count": null,
      "metadata": {
        "id": "CvfD2m4Atc7G"
      },
      "outputs": [],
      "source": [
        "config = {\n",
        "    'model':'RNN (lstm)',\n",
        "    'architecture': 'V-EmDr-LDr-DDr-Fl-D',\n",
        "    'tokenization':'character',\n",
        "    'epochs': 50,\n",
        "    'batch_size': 64,\n",
        "    'optimizer': 'Adam',\n",
        "    'learning_rate': 1e-3 ,\n",
        "    'vect_sequence_len': 200,\n",
        "    'embedding_dimensions': 120,\n",
        "    'dropout_1': 0.3,\n",
        "    'dropout_2': 0.4,\n",
        "    'dropout_3': 0.4,\n",
        "    'lstm_units': 16,\n",
        "    'dense_units': 32,\n",
        "}"
      ]
    },
    {
      "cell_type": "code",
      "execution_count": null,
      "metadata": {
        "id": "bqR6XwOUaxUI"
      },
      "outputs": [],
      "source": [
        "# wandb.config.update(config)"
      ]
    },
    {
      "cell_type": "code",
      "source": [
        "# run = wandb.init()\n",
        "# logDataset(run, make_dir=True)"
      ],
      "metadata": {
        "id": "k014cGsra2BO"
      },
      "execution_count": null,
      "outputs": []
    },
    {
      "cell_type": "code",
      "execution_count": null,
      "metadata": {
        "id": "m0_cy527hqtJ"
      },
      "outputs": [],
      "source": [
        "model, history = trainModel(config=config, log_predictions=True, log_model_checkpoint=True)"
      ]
    },
    {
      "cell_type": "code",
      "execution_count": null,
      "metadata": {
        "id": "fDdcq1czkJp9"
      },
      "outputs": [],
      "source": [
        "wandb.finish()"
      ]
    },
    {
      "cell_type": "markdown",
      "source": [
        "## Hyperparam sweep"
      ],
      "metadata": {
        "id": "Ce69upNvmyFq"
      }
    },
    {
      "cell_type": "code",
      "source": [
        "sweep_config = {\n",
        "  \"name\" : \"trial-sweep\",\n",
        "  \"method\" : \"random\", \n",
        "}\n"
      ],
      "metadata": {
        "id": "OPoIwVuSmw20"
      },
      "execution_count": null,
      "outputs": []
    },
    {
      "cell_type": "code",
      "source": [
        "metric = {\n",
        "    'name' : 'val_loss',\n",
        "    'goal' : \"minimize\",\n",
        "}\n",
        "sweep_config['metric'] = metric"
      ],
      "metadata": {
        "id": "NRg6-BDBnh76"
      },
      "execution_count": null,
      "outputs": []
    },
    {
      "cell_type": "code",
      "source": [
        "sweep_config['early_terminate'] =  {\n",
        "      'type': 'hyperband',\n",
        "      'min_iter': 3,\n",
        "}"
      ],
      "metadata": {
        "id": "RIzNkPWdoPCw"
      },
      "execution_count": null,
      "outputs": []
    },
    {
      "cell_type": "code",
      "source": [
        "parameter_dict = {\n",
        "    'model': { \n",
        "      'value': 'RNN (lstm)',\n",
        "      # 'distribution': 'categorical'   \n",
        "    },\n",
        "    'tokenization':{\n",
        "      'value':  'character',\n",
        "      # 'distribution': 'categorical',\n",
        "    },\n",
        "    # 'architecture':{\n",
        "    #   'values': 'V-EmDr-LDr-DDr-Fl-D',\n",
        "    #   'distribution': 'categorical',\n",
        "    # }, \n",
        "    \"epochs\" : {\n",
        "      \"values\" : [15, 20, 25, 30, 50]\n",
        "    },\n",
        "    'optimizer': {\n",
        "      'value':'Adam',\n",
        "      # 'distribution': 'categorical'\n",
        "    },\n",
        "    \"learning_rate\" :{\n",
        "      \"distribution\": 'log_uniform_values',\n",
        "      # 'q': 1,\n",
        "      \"min\": 0.00001,\n",
        "      \"max\": 0.1\n",
        "    },\n",
        "    'embedding_dimensions': {\n",
        "      # 'max': 240,\n",
        "      # 'min': 60,\n",
        "      # 'distribution': 'int_uniform'\n",
        "      'values' : [50,100,150],\n",
        "    },\n",
        "    'dense_units': {\n",
        "        'values':[16,32,64],\n",
        "      # 'max': 64,\n",
        "      # 'min': 16,\n",
        "      # 'distribution': 'int_uniform',\n",
        "    },\n",
        "    'lstm_units': {\n",
        "       'values': [8,16,32],\n",
        "    #  'max': 32,\n",
        "    #   'min': 8,\n",
        "    #   'distribution': 'int_uniform'\n",
        "  },\n",
        "    'dropout_1': {\n",
        "      # 'values': [0.1,0.2,0.3,0.4,0.5]\n",
        "      'values': [0.4,0.5,0.6]\n",
        "  },\n",
        "    'dropout_2': {\n",
        "    # 'values': [0.1,0.2,0.3,0.4,0.5]\n",
        "    'values': [0.4,0.5,0.6]\n",
        "  },\n",
        "    'dropout_3': {\n",
        "    # 'values': [0.1,0.2,0.3,0.4,0.5]\n",
        "    'values': [0.4,0.5,0.6]\n",
        "},\n",
        "  \n",
        "}\n",
        "\n",
        "sweep_config[\"parameters\"] = parameter_dict\n"
      ],
      "metadata": {
        "id": "jFCbNiPltTRn"
      },
      "execution_count": null,
      "outputs": []
    },
    {
      "cell_type": "code",
      "source": [
        "pprint(sweep_config)"
      ],
      "metadata": {
        "colab": {
          "base_uri": "https://localhost:8080/"
        },
        "id": "y6-n22FKeuwC",
        "outputId": "f1a69ba4-fcc4-4437-8eb0-fdbff2b45b0a"
      },
      "execution_count": null,
      "outputs": [
        {
          "output_type": "stream",
          "name": "stdout",
          "text": [
            "Pretty printing has been turned OFF\n"
          ]
        }
      ]
    },
    {
      "cell_type": "code",
      "source": [
        "# sweep_id = wandb.sweep(sweep_config, project='medusa-sweeps')\n",
        "# sweep_id = 'kgd9j04y'"
      ],
      "metadata": {
        "colab": {
          "base_uri": "https://localhost:8080/",
          "height": 187
        },
        "id": "kBGN070-gQJK",
        "outputId": "d1595877-8690-4abc-a243-8658e6e5b0e4"
      },
      "execution_count": null,
      "outputs": [
        {
          "output_type": "error",
          "ename": "NameError",
          "evalue": "ignored",
          "traceback": [
            "\u001b[0;31m---------------------------------------------------------------------------\u001b[0m",
            "\u001b[0;31mNameError\u001b[0m                                 Traceback (most recent call last)",
            "\u001b[0;32m<ipython-input-8-afa00b05903a>\u001b[0m in \u001b[0;36m<module>\u001b[0;34m\u001b[0m\n\u001b[0;32m----> 1\u001b[0;31m \u001b[0msweep_id\u001b[0m \u001b[0;34m=\u001b[0m \u001b[0mwandb\u001b[0m\u001b[0;34m.\u001b[0m\u001b[0msweep\u001b[0m\u001b[0;34m(\u001b[0m\u001b[0msweep_config\u001b[0m\u001b[0;34m,\u001b[0m \u001b[0mproject\u001b[0m\u001b[0;34m=\u001b[0m\u001b[0;34m'medusa-sweeps'\u001b[0m\u001b[0;34m)\u001b[0m\u001b[0;34m\u001b[0m\u001b[0;34m\u001b[0m\u001b[0m\n\u001b[0m\u001b[1;32m      2\u001b[0m \u001b[0;31m# sweep_id = 'kgd9j04y'\u001b[0m\u001b[0;34m\u001b[0m\u001b[0;34m\u001b[0m\u001b[0;34m\u001b[0m\u001b[0m\n",
            "\u001b[0;31mNameError\u001b[0m: name 'wandb' is not defined"
          ]
        }
      ]
    },
    {
      "cell_type": "code",
      "source": [
        "# sweep_id = 'hsb4t0em'\n",
        "sweep_id = '0hljr5r1'  #curr\n",
        "# wandb.init(sweep_config)\n",
        "# wandb.finish()"
      ],
      "metadata": {
        "id": "7MU16OrqPd5o"
      },
      "execution_count": null,
      "outputs": []
    },
    {
      "cell_type": "code",
      "source": [
        "count = 10 # number of runs to execute\n",
        "wandb.agent(sweep_id, function=trainModel, count=count, project='medusa-sweeps')"
      ],
      "metadata": {
        "id": "xgKWDF8FgoEp",
        "colab": {
          "base_uri": "https://localhost:8080/",
          "height": 1000,
          "referenced_widgets": [
            "4d0ac2d2bc8847179e83e11a5ed85997",
            "2c657be3c917429097f6bec1fbc8c85f",
            "c5147825e2674297ab99bd11dbb5d2ad",
            "f5a1871362ac4d64a9ecd58d43dba205",
            "5a9d5d48c70e431abf687a96b2f8e0bd",
            "efd5cb9f98644db38ad371e62ed18dc5",
            "10bc9101bfb44dd49e4dcbeb3b6bc147",
            "9104d8d8847f491896708d415ddfe2ea",
            "b53a5d6f1f834844bbc18948c28cadb3",
            "0b0a92c0e89644958da9e42b5102fece",
            "6dd16984eaed46ebbc7a14747c4b6604",
            "027b6bcf343f41d7a8c4269a75c73209",
            "72d33befb7184f7d808de1ce7c05d50d",
            "e0d4b78027a248aab0bf7eda4dd52c48",
            "729da6057ba142af80f7f9aeb819aa42",
            "0c23f6040bab42e9886ff46e01fa1c72",
            "dadfd585230b4dd594510b3e1ff8cc40",
            "c1e3695ccfb84ce885fe9903051b2270",
            "f4eb19f51e9048e09e98d0afb14bb2f1",
            "80a65cee7e814342b87ccf3e7fd535d5",
            "5a50543feb0a4fe7884426cda9037bd3",
            "8ff38b3e6f304e8bb54cb2ca6e87573d",
            "48d56962d90247fd8bb79debc55b1ce1",
            "2e00046aa2c345438f4e7f36fc673cc4",
            "69290cbbf028456982dfcc436c452431",
            "a6c54fd5e3464d9287f51b71f0eb0cd4",
            "619b88757f624ac0a68eb124ebcb7b91",
            "8d0135d2eb044f058780ca4ea14a5f7c",
            "47ed850b3c0e473a963bbb5fd7f6c97c",
            "7e0ae411d3e840a2a1bdce158d8b86f2",
            "3a9f4257dad54700b2153300e0e9e97a",
            "3437480dd6ad4ae3a6cce3be965ae9fc",
            "3b1c9bd3c5ed4e0da8d9bfe53f532d85",
            "07a9bdfd6f034d4ab3039176e6186a39",
            "9755ff50c4524ea2bc005b42acd45c61",
            "0b3eed4f297744df9ba8a378ce95bca0",
            "a84c38e570014081aa7f3c7962ff6567",
            "ebe854f67a6e4ea3805cb8a8591baed8",
            "ea91543420ee4ca8b6781b04087f144a",
            "bf0360e7a2244b0a90a26df7c644ccc9",
            "6e340a2959df42a9bf4f9cf9eeefc3c4",
            "bd29e30dd49c45fa9f16eb94221e7f7e",
            "29a425a4531a4b6896e2085da8aa792f",
            "d8ea5d812b44414faa22f617bdb80849",
            "2e42134cf31142ceab4a929d504b2b29",
            "d841161e9b174fea81dde134dad6d778",
            "0792ebc5d5874c04b83926b1f7b9033e",
            "9010f2d5238348288d82a6bda8a2cc18",
            "6fad187ed646489a9c96486f65323689",
            "dab377889f624f7aa4d0a44760f1b38a",
            "7b658235df204e8887d6f295e9642b7c",
            "29250a1f43974cf79b174ef6a369defd",
            "98797cde4d8f4369b687f0088514c003",
            "6b3d7dedc7e849619fc751bf9cebc0c8",
            "2be8dc2a8fcc4d94b495c1a7c2d86e1e",
            "1a53a90699ca496891f230ae40ecd635",
            "f264f028dbcb43d7bde6a7bcdb8f718b",
            "79d7883430f54658bf2035c886d64f40",
            "97d734e01f8746849ada2f42dfd8005c",
            "4c93d2860b72421d9392568d119e75df",
            "780e23713a0445b699056af272876c7d",
            "633c4940d8ff4114955fc311481fbf3c",
            "d8660a0a00a94c33940343f70e73ce8e",
            "f352bc62425343ec8265d75c6fb8100e",
            "1cd509a3661e45a38efe77c94bb9302b",
            "512a5900e7a24d79ad645b4635c26eb9",
            "d6956a5becb84b14a515fbd1170be4da",
            "c7cdf290734845288ea29a7db220f99c",
            "780af00b046e465ab338114ff754eeff",
            "a9cf21617e3b4b4a808603ae5005a765",
            "2ccb802a096b41748d3ceaec9a3b1501",
            "553648478bfd4c34844543fe1f5cb5e3",
            "3493229ba9f542df9c0c61613d64637f",
            "f1fcb7cae03d403db9086c25951635f2",
            "b1dadb2785ee4f2ab46523f892f141b1",
            "fb09fa767a33448c94586c4f16140953",
            "d7c7b2af6465418bb2e17cc990c86c71",
            "a770bef1075a4210b38965c044e7bcf7",
            "069c615c19a04f94848ea2aab42e06ab",
            "45caa0831eeb426bb9dd2c044590fbc0"
          ]
        },
        "outputId": "a51455f9-0796-49f3-e823-663440679ce9"
      },
      "execution_count": null,
      "outputs": [
        {
          "output_type": "stream",
          "name": "stderr",
          "text": [
            "\u001b[34m\u001b[1mwandb\u001b[0m: Agent Starting Run: hqj6mr3f with config:\n",
            "\u001b[34m\u001b[1mwandb\u001b[0m: \tdense_units: 16\n",
            "\u001b[34m\u001b[1mwandb\u001b[0m: \tdropout_1: 0.6\n",
            "\u001b[34m\u001b[1mwandb\u001b[0m: \tdropout_2: 0.5\n",
            "\u001b[34m\u001b[1mwandb\u001b[0m: \tdropout_3: 0.6\n",
            "\u001b[34m\u001b[1mwandb\u001b[0m: \tembedding_dimensions: 50\n",
            "\u001b[34m\u001b[1mwandb\u001b[0m: \tepochs: 30\n",
            "\u001b[34m\u001b[1mwandb\u001b[0m: \tlearning_rate: 0.0001473231451411038\n",
            "\u001b[34m\u001b[1mwandb\u001b[0m: \tlstm_units: 32\n",
            "\u001b[34m\u001b[1mwandb\u001b[0m: \tmodel: RNN (lstm)\n",
            "\u001b[34m\u001b[1mwandb\u001b[0m: \toptimizer: Adam\n",
            "\u001b[34m\u001b[1mwandb\u001b[0m: \ttokenization: character\n"
          ]
        },
        {
          "output_type": "display_data",
          "data": {
            "text/plain": [
              "<IPython.core.display.HTML object>"
            ],
            "text/html": [
              "Tracking run with wandb version 0.13.2"
            ]
          },
          "metadata": {}
        },
        {
          "output_type": "display_data",
          "data": {
            "text/plain": [
              "<IPython.core.display.HTML object>"
            ],
            "text/html": [
              "Run data is saved locally in <code>/content/wandb/run-20220831_180608-hqj6mr3f</code>"
            ]
          },
          "metadata": {}
        },
        {
          "output_type": "display_data",
          "data": {
            "text/plain": [
              "<IPython.core.display.HTML object>"
            ],
            "text/html": [
              "Syncing run <strong><a href=\"https://wandb.ai/mindadeepam/medusa-sweeps/runs/hqj6mr3f\" target=\"_blank\">absurd-sweep-17</a></strong> to <a href=\"https://wandb.ai/mindadeepam/medusa-sweeps\" target=\"_blank\">Weights & Biases</a> (<a href=\"https://wandb.me/run\" target=\"_blank\">docs</a>)<br/>Sweep page:  <a href=\"https://wandb.ai/mindadeepam/medusa-sweeps/sweeps/0hljr5r1\" target=\"_blank\">https://wandb.ai/mindadeepam/medusa-sweeps/sweeps/0hljr5r1</a>"
            ]
          },
          "metadata": {}
        },
        {
          "output_type": "stream",
          "name": "stdout",
          "text": [
            "Epoch 1/50\n",
            "416/417 [============================>.] - ETA: 0s - loss: 0.6353 - tp: 1633.0000 - fp: 5834.0000 - tn: 7874.0000 - fn: 636.0000 - accuracy: 0.5950 - precision: 0.2187 - recall: 0.7197 - auc: 0.7095 - prc: 0.2981"
          ]
        },
        {
          "output_type": "stream",
          "name": "stderr",
          "text": [
            "\u001b[34m\u001b[1mwandb\u001b[0m: \u001b[33mWARNING\u001b[0m Non-numeric values found in layer: parameters/text_vectorization.weights, not logging this layer\n"
          ]
        },
        {
          "output_type": "stream",
          "name": "stdout",
          "text": [
            "\b\b\b\b\b\b\b\b\b\b\b\b\b\b\b\b\b\b\b\b\b\b\b\b\b\b\b\b\b\b\b\b\b\b\b\b\b\b\b\b\b\b\b\b\b\b\b\b\b\b\b\b\b\b\b\b\b\b\b\b\b\b\b\b\b\b\b\b\b\b\b\b\b\b\b\b\b\b\b\b\b\b\b\b\b\b\b\b\b\b\b\b\b\b\b\b\b\b\b\b\b\b\b\b\b\b\b\b\b\b\b\b\b\b\b\b\b\b\b\b\b\b\b\b\b\b\b\b\b\b\b\b\b\b\b\b\b\b\b\b\b\b\b\b\b\b\b\b\b\b\b\b\b\b\b\b\b\b\b\b\b\b\b\b\b\b\b\b\b\b\b\b\b\b\b\b\b\b\b\b\b\b\b\b\b\b\b\b\b\b\b\b\b\b\b\b\b\b\b\b\b\b\b\b\b\b\b\b\b\b\b\b\r417/417 [==============================] - 29s 57ms/step - loss: 0.6352 - tp: 1633.0000 - fp: 5837.0000 - tn: 7880.0000 - fn: 637.0000 - accuracy: 0.5950 - precision: 0.2186 - recall: 0.7194 - auc: 0.7094 - prc: 0.2978 - val_loss: 0.5371 - val_tp: 379.0000 - val_fp: 715.0000 - val_tn: 2475.0000 - val_fn: 303.0000 - val_accuracy: 0.7371 - val_precision: 0.3464 - val_recall: 0.5557 - val_auc: 0.7253 - val_prc: 0.3747\n",
            "Epoch 2/50\n",
            "417/417 [==============================] - 17s 41ms/step - loss: 0.5851 - tp: 1289.0000 - fp: 3353.0000 - tn: 8077.0000 - fn: 603.0000 - accuracy: 0.7030 - precision: 0.2777 - recall: 0.6813 - auc: 0.7609 - prc: 0.3714 - val_loss: 0.5909 - val_tp: 464.0000 - val_fp: 947.0000 - val_tn: 2243.0000 - val_fn: 218.0000 - val_accuracy: 0.6991 - val_precision: 0.3288 - val_recall: 0.6804 - val_auc: 0.7543 - val_prc: 0.4066\n",
            "Epoch 3/50\n",
            "417/417 [==============================] - 19s 45ms/step - loss: 0.5573 - tp: 1346.0000 - fp: 3218.0000 - tn: 8212.0000 - fn: 546.0000 - accuracy: 0.7175 - precision: 0.2949 - recall: 0.7114 - auc: 0.7890 - prc: 0.4228 - val_loss: 0.4954 - val_tp: 402.0000 - val_fp: 549.0000 - val_tn: 2641.0000 - val_fn: 280.0000 - val_accuracy: 0.7859 - val_precision: 0.4227 - val_recall: 0.5894 - val_auc: 0.7828 - val_prc: 0.4562\n",
            "Epoch 4/50\n",
            "417/417 [==============================] - 19s 45ms/step - loss: 0.5225 - tp: 1388.0000 - fp: 2884.0000 - tn: 8546.0000 - fn: 504.0000 - accuracy: 0.7457 - precision: 0.3249 - recall: 0.7336 - auc: 0.8199 - prc: 0.4782 - val_loss: 0.4579 - val_tp: 403.0000 - val_fp: 484.0000 - val_tn: 2706.0000 - val_fn: 279.0000 - val_accuracy: 0.8029 - val_precision: 0.4543 - val_recall: 0.5909 - val_auc: 0.8084 - val_prc: 0.4929\n",
            "Epoch 5/50\n",
            "417/417 [==============================] - 19s 45ms/step - loss: 0.4953 - tp: 1431.0000 - fp: 2566.0000 - tn: 8864.0000 - fn: 461.0000 - accuracy: 0.7728 - precision: 0.3580 - recall: 0.7563 - auc: 0.8412 - prc: 0.5224 - val_loss: 0.4582 - val_tp: 467.0000 - val_fp: 562.0000 - val_tn: 2628.0000 - val_fn: 215.0000 - val_accuracy: 0.7993 - val_precision: 0.4538 - val_recall: 0.6848 - val_auc: 0.8371 - val_prc: 0.5396\n",
            "Epoch 6/50\n",
            "417/417 [==============================] - 19s 45ms/step - loss: 0.4572 - tp: 1473.0000 - fp: 2289.0000 - tn: 9141.0000 - fn: 419.0000 - accuracy: 0.7967 - precision: 0.3915 - recall: 0.7785 - auc: 0.8689 - prc: 0.5813 - val_loss: 0.4302 - val_tp: 499.0000 - val_fp: 503.0000 - val_tn: 2687.0000 - val_fn: 183.0000 - val_accuracy: 0.8228 - val_precision: 0.4980 - val_recall: 0.7317 - val_auc: 0.8608 - val_prc: 0.6098\n",
            "Epoch 7/50\n",
            "417/417 [==============================] - 19s 45ms/step - loss: 0.4339 - tp: 1486.0000 - fp: 1975.0000 - tn: 9455.0000 - fn: 406.0000 - accuracy: 0.8213 - precision: 0.4294 - recall: 0.7854 - auc: 0.8827 - prc: 0.6277 - val_loss: 0.5331 - val_tp: 558.0000 - val_fp: 756.0000 - val_tn: 2434.0000 - val_fn: 124.0000 - val_accuracy: 0.7727 - val_precision: 0.4247 - val_recall: 0.8182 - val_auc: 0.8698 - val_prc: 0.6096\n",
            "Epoch 8/50\n",
            "417/417 [==============================] - 19s 45ms/step - loss: 0.4002 - tp: 1511.0000 - fp: 1737.0000 - tn: 9693.0000 - fn: 381.0000 - accuracy: 0.8410 - precision: 0.4652 - recall: 0.7986 - auc: 0.9019 - prc: 0.6661 - val_loss: 0.4183 - val_tp: 526.0000 - val_fp: 483.0000 - val_tn: 2707.0000 - val_fn: 156.0000 - val_accuracy: 0.8350 - val_precision: 0.5213 - val_recall: 0.7713 - val_auc: 0.8816 - val_prc: 0.6629\n",
            "Epoch 9/50\n",
            "417/417 [==============================] - 19s 46ms/step - loss: 0.3710 - tp: 1537.0000 - fp: 1476.0000 - tn: 9954.0000 - fn: 355.0000 - accuracy: 0.8626 - precision: 0.5101 - recall: 0.8124 - auc: 0.9164 - prc: 0.7126 - val_loss: 0.3818 - val_tp: 500.0000 - val_fp: 317.0000 - val_tn: 2873.0000 - val_fn: 182.0000 - val_accuracy: 0.8711 - val_precision: 0.6120 - val_recall: 0.7331 - val_auc: 0.8870 - val_prc: 0.6610\n",
            "Epoch 10/50\n",
            "417/417 [==============================] - 17s 41ms/step - loss: 0.3538 - tp: 1545.0000 - fp: 1387.0000 - tn: 10043.0000 - fn: 347.0000 - accuracy: 0.8698 - precision: 0.5269 - recall: 0.8166 - auc: 0.9241 - prc: 0.7301 - val_loss: 0.3825 - val_tp: 493.0000 - val_fp: 339.0000 - val_tn: 2851.0000 - val_fn: 189.0000 - val_accuracy: 0.8636 - val_precision: 0.5925 - val_recall: 0.7229 - val_auc: 0.8914 - val_prc: 0.6796\n",
            "Epoch 11/50\n",
            "417/417 [==============================] - 19s 45ms/step - loss: 0.3312 - tp: 1581.0000 - fp: 1194.0000 - tn: 10236.0000 - fn: 311.0000 - accuracy: 0.8870 - precision: 0.5697 - recall: 0.8356 - auc: 0.9323 - prc: 0.7676 - val_loss: 0.3562 - val_tp: 455.0000 - val_fp: 235.0000 - val_tn: 2955.0000 - val_fn: 227.0000 - val_accuracy: 0.8807 - val_precision: 0.6594 - val_recall: 0.6672 - val_auc: 0.8772 - val_prc: 0.6829\n",
            "Epoch 12/50\n",
            "417/417 [==============================] - 17s 41ms/step - loss: 0.3148 - tp: 1596.0000 - fp: 1080.0000 - tn: 10350.0000 - fn: 296.0000 - accuracy: 0.8967 - precision: 0.5964 - recall: 0.8436 - auc: 0.9397 - prc: 0.7768 - val_loss: 0.3672 - val_tp: 498.0000 - val_fp: 272.0000 - val_tn: 2918.0000 - val_fn: 184.0000 - val_accuracy: 0.8822 - val_precision: 0.6468 - val_recall: 0.7302 - val_auc: 0.8937 - val_prc: 0.7006\n",
            "Epoch 13/50\n",
            "417/417 [==============================] - 19s 45ms/step - loss: 0.3032 - tp: 1622.0000 - fp: 1033.0000 - tn: 10397.0000 - fn: 270.0000 - accuracy: 0.9022 - precision: 0.6109 - recall: 0.8573 - auc: 0.9442 - prc: 0.7837 - val_loss: 0.3526 - val_tp: 442.0000 - val_fp: 204.0000 - val_tn: 2986.0000 - val_fn: 240.0000 - val_accuracy: 0.8853 - val_precision: 0.6842 - val_recall: 0.6481 - val_auc: 0.8863 - val_prc: 0.6762\n",
            "Epoch 14/50\n",
            "417/417 [==============================] - 19s 45ms/step - loss: 0.2909 - tp: 1622.0000 - fp: 1018.0000 - tn: 10412.0000 - fn: 270.0000 - accuracy: 0.9033 - precision: 0.6144 - recall: 0.8573 - auc: 0.9487 - prc: 0.8020 - val_loss: 0.3202 - val_tp: 501.0000 - val_fp: 214.0000 - val_tn: 2976.0000 - val_fn: 181.0000 - val_accuracy: 0.8980 - val_precision: 0.7007 - val_recall: 0.7346 - val_auc: 0.9063 - val_prc: 0.7375\n",
            "Epoch 15/50\n",
            "417/417 [==============================] - 19s 46ms/step - loss: 0.2819 - tp: 1636.0000 - fp: 1005.0000 - tn: 10425.0000 - fn: 256.0000 - accuracy: 0.9053 - precision: 0.6195 - recall: 0.8647 - auc: 0.9522 - prc: 0.8072 - val_loss: 0.3713 - val_tp: 517.0000 - val_fp: 308.0000 - val_tn: 2882.0000 - val_fn: 165.0000 - val_accuracy: 0.8778 - val_precision: 0.6267 - val_recall: 0.7581 - val_auc: 0.9001 - val_prc: 0.7113\n",
            "Epoch 16/50\n",
            "417/417 [==============================] - 19s 45ms/step - loss: 0.2740 - tp: 1647.0000 - fp: 931.0000 - tn: 10499.0000 - fn: 245.0000 - accuracy: 0.9117 - precision: 0.6389 - recall: 0.8705 - auc: 0.9543 - prc: 0.8129 - val_loss: 0.3964 - val_tp: 518.0000 - val_fp: 302.0000 - val_tn: 2888.0000 - val_fn: 164.0000 - val_accuracy: 0.8796 - val_precision: 0.6317 - val_recall: 0.7595 - val_auc: 0.9005 - val_prc: 0.7033\n",
            "Epoch 17/50\n",
            "417/417 [==============================] - 17s 41ms/step - loss: 0.2626 - tp: 1650.0000 - fp: 880.0000 - tn: 10550.0000 - fn: 242.0000 - accuracy: 0.9158 - precision: 0.6522 - recall: 0.8721 - auc: 0.9583 - prc: 0.8163 - val_loss: 0.3376 - val_tp: 496.0000 - val_fp: 216.0000 - val_tn: 2974.0000 - val_fn: 186.0000 - val_accuracy: 0.8962 - val_precision: 0.6966 - val_recall: 0.7273 - val_auc: 0.9051 - val_prc: 0.7211\n",
            "Epoch 18/50\n",
            "417/417 [==============================] - 19s 45ms/step - loss: 0.2469 - tp: 1686.0000 - fp: 839.0000 - tn: 10591.0000 - fn: 206.0000 - accuracy: 0.9216 - precision: 0.6677 - recall: 0.8911 - auc: 0.9626 - prc: 0.8385 - val_loss: 0.3528 - val_tp: 501.0000 - val_fp: 214.0000 - val_tn: 2976.0000 - val_fn: 181.0000 - val_accuracy: 0.8980 - val_precision: 0.7007 - val_recall: 0.7346 - val_auc: 0.9030 - val_prc: 0.7191\n",
            "Epoch 19/50\n",
            "417/417 [==============================] - 19s 45ms/step - loss: 0.2546 - tp: 1676.0000 - fp: 816.0000 - tn: 10614.0000 - fn: 216.0000 - accuracy: 0.9225 - precision: 0.6726 - recall: 0.8858 - auc: 0.9595 - prc: 0.8245 - val_loss: 0.3217 - val_tp: 512.0000 - val_fp: 201.0000 - val_tn: 2989.0000 - val_fn: 170.0000 - val_accuracy: 0.9042 - val_precision: 0.7181 - val_recall: 0.7507 - val_auc: 0.9052 - val_prc: 0.7363\n",
            "Epoch 20/50\n",
            "417/417 [==============================] - 19s 45ms/step - loss: 0.2398 - tp: 1688.0000 - fp: 852.0000 - tn: 10578.0000 - fn: 204.0000 - accuracy: 0.9207 - precision: 0.6646 - recall: 0.8922 - auc: 0.9653 - prc: 0.8384 - val_loss: 0.3395 - val_tp: 510.0000 - val_fp: 209.0000 - val_tn: 2981.0000 - val_fn: 172.0000 - val_accuracy: 0.9016 - val_precision: 0.7093 - val_recall: 0.7478 - val_auc: 0.9064 - val_prc: 0.7328\n",
            "Epoch 21/50\n",
            "417/417 [==============================] - 17s 41ms/step - loss: 0.2391 - tp: 1687.0000 - fp: 823.0000 - tn: 10607.0000 - fn: 205.0000 - accuracy: 0.9228 - precision: 0.6721 - recall: 0.8916 - auc: 0.9651 - prc: 0.8482 - val_loss: 0.3286 - val_tp: 497.0000 - val_fp: 188.0000 - val_tn: 3002.0000 - val_fn: 185.0000 - val_accuracy: 0.9037 - val_precision: 0.7255 - val_recall: 0.7287 - val_auc: 0.9049 - val_prc: 0.7367\n",
            "Epoch 22/50\n",
            "417/417 [==============================] - 17s 41ms/step - loss: 0.2373 - tp: 1692.0000 - fp: 805.0000 - tn: 10625.0000 - fn: 200.0000 - accuracy: 0.9246 - precision: 0.6776 - recall: 0.8943 - auc: 0.9656 - prc: 0.8375 - val_loss: 0.3220 - val_tp: 493.0000 - val_fp: 177.0000 - val_tn: 3013.0000 - val_fn: 189.0000 - val_accuracy: 0.9055 - val_precision: 0.7358 - val_recall: 0.7229 - val_auc: 0.9100 - val_prc: 0.7346\n",
            "Epoch 23/50\n",
            "417/417 [==============================] - 17s 41ms/step - loss: 0.2303 - tp: 1713.0000 - fp: 786.0000 - tn: 10644.0000 - fn: 179.0000 - accuracy: 0.9276 - precision: 0.6855 - recall: 0.9054 - auc: 0.9670 - prc: 0.8503 - val_loss: 0.3211 - val_tp: 488.0000 - val_fp: 173.0000 - val_tn: 3017.0000 - val_fn: 194.0000 - val_accuracy: 0.9052 - val_precision: 0.7383 - val_recall: 0.7155 - val_auc: 0.9100 - val_prc: 0.7381\n",
            "Epoch 24/50\n",
            "417/417 [==============================] - 19s 45ms/step - loss: 0.2254 - tp: 1704.0000 - fp: 723.0000 - tn: 10707.0000 - fn: 188.0000 - accuracy: 0.9316 - precision: 0.7021 - recall: 0.9006 - auc: 0.9684 - prc: 0.8472 - val_loss: 0.3642 - val_tp: 508.0000 - val_fp: 224.0000 - val_tn: 2966.0000 - val_fn: 174.0000 - val_accuracy: 0.8972 - val_precision: 0.6940 - val_recall: 0.7449 - val_auc: 0.9097 - val_prc: 0.7195\n"
          ]
        },
        {
          "output_type": "display_data",
          "data": {
            "text/plain": [
              "<IPython.core.display.HTML object>"
            ],
            "text/html": [
              "Waiting for W&B process to finish... <strong style=\"color:green\">(success).</strong>"
            ]
          },
          "metadata": {}
        },
        {
          "output_type": "display_data",
          "data": {
            "text/plain": [
              "VBox(children=(Label(value='0.002 MB of 0.002 MB uploaded (0.000 MB deduped)\\r'), FloatProgress(value=1.0, max…"
            ],
            "application/vnd.jupyter.widget-view+json": {
              "version_major": 2,
              "version_minor": 0,
              "model_id": "4d0ac2d2bc8847179e83e11a5ed85997"
            }
          },
          "metadata": {}
        },
        {
          "output_type": "display_data",
          "data": {
            "text/plain": [
              "<IPython.core.display.HTML object>"
            ],
            "text/html": [
              "<style>\n",
              "    table.wandb td:nth-child(1) { padding: 0 10px; text-align: left ; width: auto;} td:nth-child(2) {text-align: left ; width: 100%}\n",
              "    .wandb-row { display: flex; flex-direction: row; flex-wrap: wrap; justify-content: flex-start; width: 100% }\n",
              "    .wandb-col { display: flex; flex-direction: column; flex-basis: 100%; flex: 1; padding: 10px; }\n",
              "    </style>\n",
              "<div class=\"wandb-row\"><div class=\"wandb-col\"><h3>Run history:</h3><br/><table class=\"wandb\"><tr><td>accuracy</td><td>▁▃▄▄▅▅▆▆▇▇▇▇▇▇▇█████████</td></tr><tr><td>auc</td><td>▁▂▃▄▅▅▆▆▇▇▇▇▇▇██████████</td></tr><tr><td>epoch</td><td>▁▁▂▂▂▃▃▃▃▄▄▄▅▅▅▆▆▆▆▇▇▇██</td></tr><tr><td>fn</td><td>█▇▇▆▅▅▄▄▄▄▃▃▂▂▂▂▂▁▂▁▁▁▁▁</td></tr><tr><td>fp</td><td>█▅▄▄▄▃▃▂▂▂▂▁▁▁▁▁▁▁▁▁▁▁▁▁</td></tr><tr><td>loss</td><td>█▇▇▆▆▅▅▄▃▃▃▃▂▂▂▂▂▁▁▁▁▁▁▁</td></tr><tr><td>prc</td><td>▁▂▃▃▄▅▅▆▆▆▇▇▇▇▇█████████</td></tr><tr><td>precision</td><td>▁▂▂▃▃▄▄▅▅▅▆▆▇▇▇▇▇██▇████</td></tr><tr><td>recall</td><td>▂▁▂▃▃▄▄▅▅▅▆▆▆▆▇▇▇█▇█████</td></tr><tr><td>tn</td><td>▁▁▂▃▃▄▅▅▆▆▇▇▇▇▇▇████████</td></tr><tr><td>tp</td><td>▇▁▂▃▃▄▄▅▅▅▆▆▆▆▇▇▇█▇█████</td></tr><tr><td>val_accuracy</td><td>▂▁▄▅▄▅▃▆▇▇▇▇▇█▇▇████████</td></tr><tr><td>val_auc</td><td>▁▂▃▄▅▆▆▇▇▇▇▇▇███████████</td></tr><tr><td>val_fn</td><td>█▅▇▇▅▃▁▂▃▄▅▃▆▃▃▃▃▃▃▃▃▄▄▃</td></tr><tr><td>val_fp</td><td>▆█▄▄▅▄▆▄▂▃▂▂▁▁▂▂▁▁▁▁▁▁▁▁</td></tr><tr><td>val_loss</td><td>▇█▆▅▅▄▇▄▃▃▂▂▂▁▂▃▁▂▁▂▁▁▁▂</td></tr><tr><td>val_prc</td><td>▁▂▃▃▄▆▆▇▇▇▇▇▇█▇▇████████</td></tr><tr><td>val_precision</td><td>▁▁▃▃▃▄▃▄▆▆▇▆▇▇▆▆▇▇█████▇</td></tr><tr><td>val_recall</td><td>▁▄▂▂▄▆█▇▆▅▄▆▃▆▆▆▆▆▆▆▆▅▅▆</td></tr><tr><td>val_tn</td><td>▃▁▅▅▄▅▃▅▇▆▇▇██▇▇████████</td></tr><tr><td>val_tp</td><td>▁▄▂▂▄▆█▇▆▅▄▆▃▆▆▆▆▆▆▆▆▅▅▆</td></tr></table><br/></div><div class=\"wandb-col\"><h3>Run summary:</h3><br/><table class=\"wandb\"><tr><td>GFLOPs</td><td>0.00011</td></tr><tr><td>accuracy</td><td>0.93162</td></tr><tr><td>auc</td><td>0.96836</td></tr><tr><td>best_epoch</td><td>13</td></tr><tr><td>best_val_loss</td><td>0.32016</td></tr><tr><td>epoch</td><td>23</td></tr><tr><td>fn</td><td>188.0</td></tr><tr><td>fp</td><td>723.0</td></tr><tr><td>loss</td><td>0.22537</td></tr><tr><td>prc</td><td>0.84721</td></tr><tr><td>precision</td><td>0.7021</td></tr><tr><td>recall</td><td>0.90063</td></tr><tr><td>tn</td><td>10707.0</td></tr><tr><td>tp</td><td>1704.0</td></tr><tr><td>val_accuracy</td><td>0.89721</td></tr><tr><td>val_auc</td><td>0.90967</td></tr><tr><td>val_fn</td><td>174.0</td></tr><tr><td>val_fp</td><td>224.0</td></tr><tr><td>val_loss</td><td>0.36424</td></tr><tr><td>val_prc</td><td>0.71949</td></tr><tr><td>val_precision</td><td>0.69399</td></tr><tr><td>val_recall</td><td>0.74487</td></tr><tr><td>val_tn</td><td>2966.0</td></tr><tr><td>val_tp</td><td>508.0</td></tr></table><br/></div></div>"
            ]
          },
          "metadata": {}
        },
        {
          "output_type": "display_data",
          "data": {
            "text/plain": [
              "<IPython.core.display.HTML object>"
            ],
            "text/html": [
              "Synced <strong style=\"color:#cdcd00\">absurd-sweep-17</strong>: <a href=\"https://wandb.ai/mindadeepam/medusa-sweeps/runs/hqj6mr3f\" target=\"_blank\">https://wandb.ai/mindadeepam/medusa-sweeps/runs/hqj6mr3f</a><br/>Synced 5 W&B file(s), 1 media file(s), 0 artifact file(s) and 0 other file(s)"
            ]
          },
          "metadata": {}
        },
        {
          "output_type": "display_data",
          "data": {
            "text/plain": [
              "<IPython.core.display.HTML object>"
            ],
            "text/html": [
              "Find logs at: <code>./wandb/run-20220831_180608-hqj6mr3f/logs</code>"
            ]
          },
          "metadata": {}
        },
        {
          "output_type": "stream",
          "name": "stderr",
          "text": [
            "\u001b[34m\u001b[1mwandb\u001b[0m: Agent Starting Run: ky748lut with config:\n",
            "\u001b[34m\u001b[1mwandb\u001b[0m: \tdense_units: 16\n",
            "\u001b[34m\u001b[1mwandb\u001b[0m: \tdropout_1: 0.6\n",
            "\u001b[34m\u001b[1mwandb\u001b[0m: \tdropout_2: 0.4\n",
            "\u001b[34m\u001b[1mwandb\u001b[0m: \tdropout_3: 0.5\n",
            "\u001b[34m\u001b[1mwandb\u001b[0m: \tembedding_dimensions: 100\n",
            "\u001b[34m\u001b[1mwandb\u001b[0m: \tepochs: 50\n",
            "\u001b[34m\u001b[1mwandb\u001b[0m: \tlearning_rate: 0.0015026643354145374\n",
            "\u001b[34m\u001b[1mwandb\u001b[0m: \tlstm_units: 32\n",
            "\u001b[34m\u001b[1mwandb\u001b[0m: \tmodel: RNN (lstm)\n",
            "\u001b[34m\u001b[1mwandb\u001b[0m: \toptimizer: Adam\n",
            "\u001b[34m\u001b[1mwandb\u001b[0m: \ttokenization: character\n"
          ]
        },
        {
          "output_type": "display_data",
          "data": {
            "text/plain": [
              "<IPython.core.display.HTML object>"
            ],
            "text/html": [
              "Tracking run with wandb version 0.13.2"
            ]
          },
          "metadata": {}
        },
        {
          "output_type": "display_data",
          "data": {
            "text/plain": [
              "<IPython.core.display.HTML object>"
            ],
            "text/html": [
              "Run data is saved locally in <code>/content/wandb/run-20220831_181407-ky748lut</code>"
            ]
          },
          "metadata": {}
        },
        {
          "output_type": "display_data",
          "data": {
            "text/plain": [
              "<IPython.core.display.HTML object>"
            ],
            "text/html": [
              "Syncing run <strong><a href=\"https://wandb.ai/mindadeepam/medusa-sweeps/runs/ky748lut\" target=\"_blank\">serene-sweep-18</a></strong> to <a href=\"https://wandb.ai/mindadeepam/medusa-sweeps\" target=\"_blank\">Weights & Biases</a> (<a href=\"https://wandb.me/run\" target=\"_blank\">docs</a>)<br/>Sweep page:  <a href=\"https://wandb.ai/mindadeepam/medusa-sweeps/sweeps/0hljr5r1\" target=\"_blank\">https://wandb.ai/mindadeepam/medusa-sweeps/sweeps/0hljr5r1</a>"
            ]
          },
          "metadata": {}
        },
        {
          "output_type": "stream",
          "name": "stdout",
          "text": [
            "mkdir: cannot create directory ‘tmp’: File exists\n",
            "Epoch 1/50\n",
            "417/417 [==============================] - 28s 55ms/step - loss: 0.6367 - tp: 1709.0000 - fp: 4246.0000 - tn: 10374.0000 - fn: 865.0000 - accuracy: 0.7027 - precision: 0.2870 - recall: 0.6639 - auc: 0.7602 - prc: 0.4334 - val_loss: 0.5615 - val_tp: 408.0000 - val_fp: 782.0000 - val_tn: 2408.0000 - val_fn: 274.0000 - val_accuracy: 0.7273 - val_precision: 0.3429 - val_recall: 0.5982 - val_auc: 0.7423 - val_prc: 0.3863\n",
            "Epoch 2/50\n",
            "417/417 [==============================] - 19s 45ms/step - loss: 0.5857 - tp: 1325.0000 - fp: 3466.0000 - tn: 7964.0000 - fn: 567.0000 - accuracy: 0.6973 - precision: 0.2766 - recall: 0.7003 - auc: 0.7595 - prc: 0.3678 - val_loss: 0.5647 - val_tp: 438.0000 - val_fp: 870.0000 - val_tn: 2320.0000 - val_fn: 244.0000 - val_accuracy: 0.7123 - val_precision: 0.3349 - val_recall: 0.6422 - val_auc: 0.7517 - val_prc: 0.3973\n",
            "Epoch 3/50\n",
            "417/417 [==============================] - 19s 45ms/step - loss: 0.5536 - tp: 1365.0000 - fp: 3180.0000 - tn: 8250.0000 - fn: 527.0000 - accuracy: 0.7217 - precision: 0.3003 - recall: 0.7215 - auc: 0.7933 - prc: 0.4215 - val_loss: 0.5753 - val_tp: 482.0000 - val_fp: 986.0000 - val_tn: 2204.0000 - val_fn: 200.0000 - val_accuracy: 0.6937 - val_precision: 0.3283 - val_recall: 0.7067 - val_auc: 0.7720 - val_prc: 0.4331\n",
            "Epoch 4/50\n",
            "417/417 [==============================] - 19s 45ms/step - loss: 0.5202 - tp: 1396.0000 - fp: 2971.0000 - tn: 8459.0000 - fn: 496.0000 - accuracy: 0.7398 - precision: 0.3197 - recall: 0.7378 - auc: 0.8199 - prc: 0.4779 - val_loss: 0.4976 - val_tp: 472.0000 - val_fp: 729.0000 - val_tn: 2461.0000 - val_fn: 210.0000 - val_accuracy: 0.7575 - val_precision: 0.3930 - val_recall: 0.6921 - val_auc: 0.8094 - val_prc: 0.4910\n",
            "Epoch 5/50\n",
            "417/417 [==============================] - 19s 45ms/step - loss: 0.4945 - tp: 1435.0000 - fp: 2699.0000 - tn: 8731.0000 - fn: 457.0000 - accuracy: 0.7631 - precision: 0.3471 - recall: 0.7585 - auc: 0.8424 - prc: 0.5139 - val_loss: 0.5618 - val_tp: 522.0000 - val_fp: 950.0000 - val_tn: 2240.0000 - val_fn: 160.0000 - val_accuracy: 0.7133 - val_precision: 0.3546 - val_recall: 0.7654 - val_auc: 0.8135 - val_prc: 0.4802\n",
            "Epoch 6/50\n",
            "417/417 [==============================] - 19s 45ms/step - loss: 0.4701 - tp: 1451.0000 - fp: 2401.0000 - tn: 9029.0000 - fn: 441.0000 - accuracy: 0.7867 - precision: 0.3767 - recall: 0.7669 - auc: 0.8603 - prc: 0.5580 - val_loss: 0.4701 - val_tp: 443.0000 - val_fp: 526.0000 - val_tn: 2664.0000 - val_fn: 239.0000 - val_accuracy: 0.8024 - val_precision: 0.4572 - val_recall: 0.6496 - val_auc: 0.8364 - val_prc: 0.5435\n",
            "Epoch 7/50\n",
            "417/417 [==============================] - 17s 40ms/step - loss: 0.4316 - tp: 1495.0000 - fp: 2071.0000 - tn: 9359.0000 - fn: 397.0000 - accuracy: 0.8147 - precision: 0.4192 - recall: 0.7902 - auc: 0.8842 - prc: 0.6197 - val_loss: 0.3862 - val_tp: 426.0000 - val_fp: 351.0000 - val_tn: 2839.0000 - val_fn: 256.0000 - val_accuracy: 0.8432 - val_precision: 0.5483 - val_recall: 0.6246 - val_auc: 0.8614 - val_prc: 0.6027\n",
            "Epoch 8/50\n",
            "417/417 [==============================] - 19s 45ms/step - loss: 0.4006 - tp: 1510.0000 - fp: 1667.0000 - tn: 9763.0000 - fn: 382.0000 - accuracy: 0.8462 - precision: 0.4753 - recall: 0.7981 - auc: 0.9025 - prc: 0.6613 - val_loss: 0.3706 - val_tp: 399.0000 - val_fp: 265.0000 - val_tn: 2925.0000 - val_fn: 283.0000 - val_accuracy: 0.8585 - val_precision: 0.6009 - val_recall: 0.5850 - val_auc: 0.8530 - val_prc: 0.6308\n",
            "Epoch 9/50\n",
            "417/417 [==============================] - 17s 41ms/step - loss: 0.3816 - tp: 1555.0000 - fp: 1534.0000 - tn: 9896.0000 - fn: 337.0000 - accuracy: 0.8596 - precision: 0.5034 - recall: 0.8219 - auc: 0.9115 - prc: 0.6941 - val_loss: 0.4296 - val_tp: 496.0000 - val_fp: 428.0000 - val_tn: 2762.0000 - val_fn: 186.0000 - val_accuracy: 0.8414 - val_precision: 0.5368 - val_recall: 0.7273 - val_auc: 0.8679 - val_prc: 0.6389\n",
            "Epoch 10/50\n",
            "417/417 [==============================] - 19s 45ms/step - loss: 0.3558 - tp: 1554.0000 - fp: 1365.0000 - tn: 10065.0000 - fn: 338.0000 - accuracy: 0.8722 - precision: 0.5324 - recall: 0.8214 - auc: 0.9240 - prc: 0.7249 - val_loss: 0.3913 - val_tp: 472.0000 - val_fp: 364.0000 - val_tn: 2826.0000 - val_fn: 210.0000 - val_accuracy: 0.8518 - val_precision: 0.5646 - val_recall: 0.6921 - val_auc: 0.8753 - val_prc: 0.6582\n",
            "Epoch 11/50\n",
            "417/417 [==============================] - 19s 45ms/step - loss: 0.3473 - tp: 1569.0000 - fp: 1352.0000 - tn: 10078.0000 - fn: 323.0000 - accuracy: 0.8743 - precision: 0.5371 - recall: 0.8293 - auc: 0.9261 - prc: 0.7401 - val_loss: 0.4601 - val_tp: 534.0000 - val_fp: 520.0000 - val_tn: 2670.0000 - val_fn: 148.0000 - val_accuracy: 0.8275 - val_precision: 0.5066 - val_recall: 0.7830 - val_auc: 0.8806 - val_prc: 0.6640\n",
            "Epoch 12/50\n",
            "417/417 [==============================] - 19s 45ms/step - loss: 0.3323 - tp: 1571.0000 - fp: 1261.0000 - tn: 10169.0000 - fn: 321.0000 - accuracy: 0.8812 - precision: 0.5547 - recall: 0.8303 - auc: 0.9326 - prc: 0.7578 - val_loss: 0.3541 - val_tp: 439.0000 - val_fp: 216.0000 - val_tn: 2974.0000 - val_fn: 243.0000 - val_accuracy: 0.8815 - val_precision: 0.6702 - val_recall: 0.6437 - val_auc: 0.8755 - val_prc: 0.6771\n",
            "Epoch 13/50\n",
            "417/417 [==============================] - 19s 45ms/step - loss: 0.3095 - tp: 1619.0000 - fp: 1104.0000 - tn: 10326.0000 - fn: 273.0000 - accuracy: 0.8966 - precision: 0.5946 - recall: 0.8557 - auc: 0.9419 - prc: 0.7801 - val_loss: 0.3805 - val_tp: 472.0000 - val_fp: 286.0000 - val_tn: 2904.0000 - val_fn: 210.0000 - val_accuracy: 0.8719 - val_precision: 0.6227 - val_recall: 0.6921 - val_auc: 0.8875 - val_prc: 0.6834\n",
            "Epoch 14/50\n",
            "417/417 [==============================] - 17s 41ms/step - loss: 0.3046 - tp: 1617.0000 - fp: 1061.0000 - tn: 10369.0000 - fn: 275.0000 - accuracy: 0.8997 - precision: 0.6038 - recall: 0.8547 - auc: 0.9437 - prc: 0.7820 - val_loss: 0.3723 - val_tp: 499.0000 - val_fp: 307.0000 - val_tn: 2883.0000 - val_fn: 183.0000 - val_accuracy: 0.8735 - val_precision: 0.6191 - val_recall: 0.7317 - val_auc: 0.8933 - val_prc: 0.7019\n",
            "Epoch 15/50\n",
            "417/417 [==============================] - 19s 45ms/step - loss: 0.2936 - tp: 1630.0000 - fp: 1043.0000 - tn: 10387.0000 - fn: 262.0000 - accuracy: 0.9020 - precision: 0.6098 - recall: 0.8615 - auc: 0.9478 - prc: 0.8005 - val_loss: 0.4128 - val_tp: 494.0000 - val_fp: 341.0000 - val_tn: 2849.0000 - val_fn: 188.0000 - val_accuracy: 0.8634 - val_precision: 0.5916 - val_recall: 0.7243 - val_auc: 0.8905 - val_prc: 0.6837\n",
            "Epoch 16/50\n",
            "417/417 [==============================] - 19s 45ms/step - loss: 0.2793 - tp: 1634.0000 - fp: 986.0000 - tn: 10444.0000 - fn: 258.0000 - accuracy: 0.9066 - precision: 0.6237 - recall: 0.8636 - auc: 0.9531 - prc: 0.8054 - val_loss: 0.3796 - val_tp: 507.0000 - val_fp: 304.0000 - val_tn: 2886.0000 - val_fn: 175.0000 - val_accuracy: 0.8763 - val_precision: 0.6252 - val_recall: 0.7434 - val_auc: 0.9022 - val_prc: 0.7101\n",
            "Epoch 17/50\n",
            "417/417 [==============================] - 19s 45ms/step - loss: 0.2724 - tp: 1642.0000 - fp: 952.0000 - tn: 10478.0000 - fn: 250.0000 - accuracy: 0.9098 - precision: 0.6330 - recall: 0.8679 - auc: 0.9551 - prc: 0.8178 - val_loss: 0.3303 - val_tp: 486.0000 - val_fp: 216.0000 - val_tn: 2974.0000 - val_fn: 196.0000 - val_accuracy: 0.8936 - val_precision: 0.6923 - val_recall: 0.7126 - val_auc: 0.9064 - val_prc: 0.7291\n",
            "Epoch 18/50\n",
            "417/417 [==============================] - 19s 45ms/step - loss: 0.2684 - tp: 1655.0000 - fp: 912.0000 - tn: 10518.0000 - fn: 237.0000 - accuracy: 0.9138 - precision: 0.6447 - recall: 0.8747 - auc: 0.9560 - prc: 0.8303 - val_loss: 0.3379 - val_tp: 457.0000 - val_fp: 176.0000 - val_tn: 3014.0000 - val_fn: 225.0000 - val_accuracy: 0.8964 - val_precision: 0.7220 - val_recall: 0.6701 - val_auc: 0.8992 - val_prc: 0.7172\n",
            "Epoch 19/50\n",
            "417/417 [==============================] - 19s 45ms/step - loss: 0.2643 - tp: 1663.0000 - fp: 912.0000 - tn: 10518.0000 - fn: 229.0000 - accuracy: 0.9144 - precision: 0.6458 - recall: 0.8790 - auc: 0.9571 - prc: 0.8204 - val_loss: 0.3022 - val_tp: 455.0000 - val_fp: 144.0000 - val_tn: 3046.0000 - val_fn: 227.0000 - val_accuracy: 0.9042 - val_precision: 0.7596 - val_recall: 0.6672 - val_auc: 0.9018 - val_prc: 0.7391\n",
            "Epoch 20/50\n",
            "417/417 [==============================] - 19s 45ms/step - loss: 0.2563 - tp: 1662.0000 - fp: 877.0000 - tn: 10553.0000 - fn: 230.0000 - accuracy: 0.9169 - precision: 0.6546 - recall: 0.8784 - auc: 0.9601 - prc: 0.8322 - val_loss: 0.3527 - val_tp: 501.0000 - val_fp: 254.0000 - val_tn: 2936.0000 - val_fn: 181.0000 - val_accuracy: 0.8877 - val_precision: 0.6636 - val_recall: 0.7346 - val_auc: 0.9045 - val_prc: 0.7208\n",
            "Epoch 21/50\n",
            "417/417 [==============================] - 19s 45ms/step - loss: 0.2533 - tp: 1676.0000 - fp: 850.0000 - tn: 10580.0000 - fn: 216.0000 - accuracy: 0.9200 - precision: 0.6635 - recall: 0.8858 - auc: 0.9607 - prc: 0.8380 - val_loss: 0.4199 - val_tp: 575.0000 - val_fp: 346.0000 - val_tn: 2844.0000 - val_fn: 107.0000 - val_accuracy: 0.8830 - val_precision: 0.6243 - val_recall: 0.8431 - val_auc: 0.9208 - val_prc: 0.7235\n",
            "Epoch 22/50\n",
            "417/417 [==============================] - 19s 45ms/step - loss: 0.2495 - tp: 1666.0000 - fp: 814.0000 - tn: 10616.0000 - fn: 226.0000 - accuracy: 0.9219 - precision: 0.6718 - recall: 0.8805 - auc: 0.9623 - prc: 0.8406 - val_loss: 0.3712 - val_tp: 517.0000 - val_fp: 286.0000 - val_tn: 2904.0000 - val_fn: 165.0000 - val_accuracy: 0.8835 - val_precision: 0.6438 - val_recall: 0.7581 - val_auc: 0.9091 - val_prc: 0.7250\n",
            "Epoch 23/50\n",
            "417/417 [==============================] - 19s 45ms/step - loss: 0.2319 - tp: 1688.0000 - fp: 800.0000 - tn: 10630.0000 - fn: 204.0000 - accuracy: 0.9246 - precision: 0.6785 - recall: 0.8922 - auc: 0.9682 - prc: 0.8525 - val_loss: 0.3385 - val_tp: 501.0000 - val_fp: 201.0000 - val_tn: 2989.0000 - val_fn: 181.0000 - val_accuracy: 0.9013 - val_precision: 0.7137 - val_recall: 0.7346 - val_auc: 0.9136 - val_prc: 0.7362\n",
            "Epoch 24/50\n",
            "417/417 [==============================] - 19s 45ms/step - loss: 0.2328 - tp: 1694.0000 - fp: 771.0000 - tn: 10659.0000 - fn: 198.0000 - accuracy: 0.9273 - precision: 0.6872 - recall: 0.8953 - auc: 0.9671 - prc: 0.8490 - val_loss: 0.3403 - val_tp: 500.0000 - val_fp: 222.0000 - val_tn: 2968.0000 - val_fn: 182.0000 - val_accuracy: 0.8957 - val_precision: 0.6925 - val_recall: 0.7331 - val_auc: 0.9083 - val_prc: 0.7348\n",
            "Epoch 25/50\n",
            "417/417 [==============================] - 17s 40ms/step - loss: 0.2297 - tp: 1690.0000 - fp: 736.0000 - tn: 10694.0000 - fn: 202.0000 - accuracy: 0.9296 - precision: 0.6966 - recall: 0.8932 - auc: 0.9681 - prc: 0.8570 - val_loss: 0.3373 - val_tp: 525.0000 - val_fp: 238.0000 - val_tn: 2952.0000 - val_fn: 157.0000 - val_accuracy: 0.8980 - val_precision: 0.6881 - val_recall: 0.7698 - val_auc: 0.9133 - val_prc: 0.7411\n",
            "Epoch 26/50\n",
            "417/417 [==============================] - 17s 41ms/step - loss: 0.2174 - tp: 1707.0000 - fp: 727.0000 - tn: 10703.0000 - fn: 185.0000 - accuracy: 0.9315 - precision: 0.7013 - recall: 0.9022 - auc: 0.9715 - prc: 0.8683 - val_loss: 0.3030 - val_tp: 484.0000 - val_fp: 197.0000 - val_tn: 2993.0000 - val_fn: 198.0000 - val_accuracy: 0.8980 - val_precision: 0.7107 - val_recall: 0.7097 - val_auc: 0.9106 - val_prc: 0.7508\n",
            "Epoch 27/50\n",
            "417/417 [==============================] - 19s 45ms/step - loss: 0.2139 - tp: 1706.0000 - fp: 733.0000 - tn: 10697.0000 - fn: 186.0000 - accuracy: 0.9310 - precision: 0.6995 - recall: 0.9017 - auc: 0.9725 - prc: 0.8709 - val_loss: 0.3235 - val_tp: 500.0000 - val_fp: 197.0000 - val_tn: 2993.0000 - val_fn: 182.0000 - val_accuracy: 0.9021 - val_precision: 0.7174 - val_recall: 0.7331 - val_auc: 0.9137 - val_prc: 0.7513\n",
            "Epoch 28/50\n",
            "417/417 [==============================] - 17s 41ms/step - loss: 0.2138 - tp: 1717.0000 - fp: 733.0000 - tn: 10697.0000 - fn: 175.0000 - accuracy: 0.9318 - precision: 0.7008 - recall: 0.9075 - auc: 0.9719 - prc: 0.8734 - val_loss: 0.3257 - val_tp: 503.0000 - val_fp: 175.0000 - val_tn: 3015.0000 - val_fn: 179.0000 - val_accuracy: 0.9086 - val_precision: 0.7419 - val_recall: 0.7375 - val_auc: 0.9164 - val_prc: 0.7620\n",
            "Epoch 29/50\n",
            "417/417 [==============================] - 17s 41ms/step - loss: 0.2179 - tp: 1716.0000 - fp: 757.0000 - tn: 10673.0000 - fn: 176.0000 - accuracy: 0.9300 - precision: 0.6939 - recall: 0.9070 - auc: 0.9709 - prc: 0.8539 - val_loss: 0.3164 - val_tp: 482.0000 - val_fp: 162.0000 - val_tn: 3028.0000 - val_fn: 200.0000 - val_accuracy: 0.9065 - val_precision: 0.7484 - val_recall: 0.7067 - val_auc: 0.9137 - val_prc: 0.7466\n"
          ]
        },
        {
          "output_type": "display_data",
          "data": {
            "text/plain": [
              "<IPython.core.display.HTML object>"
            ],
            "text/html": [
              "Waiting for W&B process to finish... <strong style=\"color:green\">(success).</strong>"
            ]
          },
          "metadata": {}
        },
        {
          "output_type": "display_data",
          "data": {
            "text/plain": [
              "VBox(children=(Label(value='0.002 MB of 0.002 MB uploaded (0.000 MB deduped)\\r'), FloatProgress(value=1.0, max…"
            ],
            "application/vnd.jupyter.widget-view+json": {
              "version_major": 2,
              "version_minor": 0,
              "model_id": "b53a5d6f1f834844bbc18948c28cadb3"
            }
          },
          "metadata": {}
        },
        {
          "output_type": "display_data",
          "data": {
            "text/plain": [
              "<IPython.core.display.HTML object>"
            ],
            "text/html": [
              "<style>\n",
              "    table.wandb td:nth-child(1) { padding: 0 10px; text-align: left ; width: auto;} td:nth-child(2) {text-align: left ; width: 100%}\n",
              "    .wandb-row { display: flex; flex-direction: row; flex-wrap: wrap; justify-content: flex-start; width: 100% }\n",
              "    .wandb-col { display: flex; flex-direction: column; flex-basis: 100%; flex: 1; padding: 10px; }\n",
              "    </style>\n",
              "<div class=\"wandb-row\"><div class=\"wandb-col\"><h3>Run history:</h3><br/><table class=\"wandb\"><tr><td>accuracy</td><td>▁▁▂▂▃▄▅▅▆▆▆▆▇▇▇▇▇▇▇██████████</td></tr><tr><td>auc</td><td>▁▁▂▃▄▄▅▆▆▆▆▇▇▇▇▇▇▇▇██████████</td></tr><tr><td>epoch</td><td>▁▁▁▂▂▂▃▃▃▃▃▄▄▄▅▅▅▅▅▆▆▆▇▇▇▇▇██</td></tr><tr><td>fn</td><td>█▅▅▄▄▄▃▃▃▃▃▂▂▂▂▂▂▂▂▂▁▂▁▁▁▁▁▁▁</td></tr><tr><td>fp</td><td>█▆▆▅▅▄▄▃▃▂▂▂▂▂▂▂▁▁▁▁▁▁▁▁▁▁▁▁▁</td></tr><tr><td>loss</td><td>█▇▇▆▆▅▅▄▄▃▃▃▃▃▂▂▂▂▂▂▂▂▁▁▁▁▁▁▁</td></tr><tr><td>prc</td><td>▂▁▂▃▃▄▄▅▆▆▆▆▇▇▇▇▇▇▇▇█████████</td></tr><tr><td>precision</td><td>▁▁▁▂▂▃▃▄▅▅▅▆▆▆▆▇▇▇▇▇▇████████</td></tr><tr><td>recall</td><td>▁▂▃▃▄▄▅▅▆▆▆▆▇▆▇▇▇▇▇▇▇▇███████</td></tr><tr><td>tn</td><td>▇▁▂▂▃▄▅▆▆▆▆▇▇▇▇▇▇████████████</td></tr><tr><td>tp</td><td>█▁▂▂▃▃▄▄▅▅▅▅▆▆▆▇▇▇▇▇▇▇▇██████</td></tr><tr><td>val_accuracy</td><td>▂▂▁▃▂▅▆▆▆▆▅▇▇▇▇▇███▇▇▇███████</td></tr><tr><td>val_auc</td><td>▁▁▂▄▄▅▆▅▆▆▆▆▇▇▇▇▇▇▇▇█████████</td></tr><tr><td>val_fn</td><td>█▆▅▅▃▆▇█▄▅▃▆▅▄▄▄▅▆▆▄▁▃▄▄▃▅▄▄▅</td></tr><tr><td>val_fp</td><td>▆▇█▆█▄▃▂▃▃▄▂▂▂▃▂▂▁▁▂▃▂▁▂▂▁▁▁▁</td></tr><tr><td>val_loss</td><td>███▆█▅▃▃▄▃▅▂▃▃▄▃▂▂▁▂▄▃▂▂▂▁▂▂▁</td></tr><tr><td>val_prc</td><td>▁▁▂▃▃▄▅▆▆▆▆▆▇▇▇▇▇▇█▇▇▇█▇█████</td></tr><tr><td>val_precision</td><td>▁▁▁▂▁▃▅▅▄▅▄▇▆▆▅▆▇▇█▆▆▆▇▇▇▇▇██</td></tr><tr><td>val_recall</td><td>▁▃▄▄▆▃▂▁▅▄▆▃▄▅▅▅▄▃▃▅█▆▅▅▆▄▅▅▄</td></tr><tr><td>val_tn</td><td>▃▂▁▃▁▅▆▇▆▆▅▇▇▇▆▇▇██▇▆▇█▇▇████</td></tr><tr><td>val_tp</td><td>▁▃▄▄▆▃▂▁▅▄▆▃▄▅▅▅▄▃▃▅█▆▅▅▆▄▅▅▄</td></tr></table><br/></div><div class=\"wandb-col\"><h3>Run summary:</h3><br/><table class=\"wandb\"><tr><td>GFLOPs</td><td>0.00011</td></tr><tr><td>accuracy</td><td>0.92997</td></tr><tr><td>auc</td><td>0.97091</td></tr><tr><td>best_epoch</td><td>18</td></tr><tr><td>best_val_loss</td><td>0.3022</td></tr><tr><td>epoch</td><td>28</td></tr><tr><td>fn</td><td>176.0</td></tr><tr><td>fp</td><td>757.0</td></tr><tr><td>loss</td><td>0.21789</td></tr><tr><td>prc</td><td>0.85393</td></tr><tr><td>precision</td><td>0.69389</td></tr><tr><td>recall</td><td>0.90698</td></tr><tr><td>tn</td><td>10673.0</td></tr><tr><td>tp</td><td>1716.0</td></tr><tr><td>val_accuracy</td><td>0.90651</td></tr><tr><td>val_auc</td><td>0.91367</td></tr><tr><td>val_fn</td><td>200.0</td></tr><tr><td>val_fp</td><td>162.0</td></tr><tr><td>val_loss</td><td>0.31637</td></tr><tr><td>val_prc</td><td>0.7466</td></tr><tr><td>val_precision</td><td>0.74845</td></tr><tr><td>val_recall</td><td>0.70674</td></tr><tr><td>val_tn</td><td>3028.0</td></tr><tr><td>val_tp</td><td>482.0</td></tr></table><br/></div></div>"
            ]
          },
          "metadata": {}
        },
        {
          "output_type": "display_data",
          "data": {
            "text/plain": [
              "<IPython.core.display.HTML object>"
            ],
            "text/html": [
              "Synced <strong style=\"color:#cdcd00\">serene-sweep-18</strong>: <a href=\"https://wandb.ai/mindadeepam/medusa-sweeps/runs/ky748lut\" target=\"_blank\">https://wandb.ai/mindadeepam/medusa-sweeps/runs/ky748lut</a><br/>Synced 5 W&B file(s), 1 media file(s), 0 artifact file(s) and 0 other file(s)"
            ]
          },
          "metadata": {}
        },
        {
          "output_type": "display_data",
          "data": {
            "text/plain": [
              "<IPython.core.display.HTML object>"
            ],
            "text/html": [
              "Find logs at: <code>./wandb/run-20220831_181407-ky748lut/logs</code>"
            ]
          },
          "metadata": {}
        },
        {
          "output_type": "stream",
          "name": "stderr",
          "text": [
            "\u001b[34m\u001b[1mwandb\u001b[0m: Agent Starting Run: h53404ag with config:\n",
            "\u001b[34m\u001b[1mwandb\u001b[0m: \tdense_units: 16\n",
            "\u001b[34m\u001b[1mwandb\u001b[0m: \tdropout_1: 0.4\n",
            "\u001b[34m\u001b[1mwandb\u001b[0m: \tdropout_2: 0.4\n",
            "\u001b[34m\u001b[1mwandb\u001b[0m: \tdropout_3: 0.6\n",
            "\u001b[34m\u001b[1mwandb\u001b[0m: \tembedding_dimensions: 150\n",
            "\u001b[34m\u001b[1mwandb\u001b[0m: \tepochs: 15\n",
            "\u001b[34m\u001b[1mwandb\u001b[0m: \tlearning_rate: 0.0020661088284628236\n",
            "\u001b[34m\u001b[1mwandb\u001b[0m: \tlstm_units: 8\n",
            "\u001b[34m\u001b[1mwandb\u001b[0m: \tmodel: RNN (lstm)\n",
            "\u001b[34m\u001b[1mwandb\u001b[0m: \toptimizer: Adam\n",
            "\u001b[34m\u001b[1mwandb\u001b[0m: \ttokenization: character\n"
          ]
        },
        {
          "output_type": "display_data",
          "data": {
            "text/plain": [
              "<IPython.core.display.HTML object>"
            ],
            "text/html": [
              "Tracking run with wandb version 0.13.2"
            ]
          },
          "metadata": {}
        },
        {
          "output_type": "display_data",
          "data": {
            "text/plain": [
              "<IPython.core.display.HTML object>"
            ],
            "text/html": [
              "Run data is saved locally in <code>/content/wandb/run-20220831_182334-h53404ag</code>"
            ]
          },
          "metadata": {}
        },
        {
          "output_type": "display_data",
          "data": {
            "text/plain": [
              "<IPython.core.display.HTML object>"
            ],
            "text/html": [
              "Syncing run <strong><a href=\"https://wandb.ai/mindadeepam/medusa-sweeps/runs/h53404ag\" target=\"_blank\">logical-sweep-19</a></strong> to <a href=\"https://wandb.ai/mindadeepam/medusa-sweeps\" target=\"_blank\">Weights & Biases</a> (<a href=\"https://wandb.me/run\" target=\"_blank\">docs</a>)<br/>Sweep page:  <a href=\"https://wandb.ai/mindadeepam/medusa-sweeps/sweeps/0hljr5r1\" target=\"_blank\">https://wandb.ai/mindadeepam/medusa-sweeps/sweeps/0hljr5r1</a>"
            ]
          },
          "metadata": {}
        },
        {
          "output_type": "stream",
          "name": "stdout",
          "text": [
            "mkdir: cannot create directory ‘tmp’: File exists\n",
            "Epoch 1/50\n",
            "417/417 [==============================] - 28s 56ms/step - loss: 0.6381 - tp: 1784.0000 - fp: 4773.0000 - tn: 9847.0000 - fn: 790.0000 - accuracy: 0.6765 - precision: 0.2721 - recall: 0.6931 - auc: 0.7524 - prc: 0.4302 - val_loss: 0.5659 - val_tp: 450.0000 - val_fp: 874.0000 - val_tn: 2316.0000 - val_fn: 232.0000 - val_accuracy: 0.7144 - val_precision: 0.3399 - val_recall: 0.6598 - val_auc: 0.7491 - val_prc: 0.3882\n",
            "Epoch 2/50\n",
            "417/417 [==============================] - 17s 41ms/step - loss: 0.5838 - tp: 1342.0000 - fp: 3558.0000 - tn: 7872.0000 - fn: 550.0000 - accuracy: 0.6916 - precision: 0.2739 - recall: 0.7093 - auc: 0.7628 - prc: 0.3622 - val_loss: 0.6013 - val_tp: 489.0000 - val_fp: 1045.0000 - val_tn: 2145.0000 - val_fn: 193.0000 - val_accuracy: 0.6803 - val_precision: 0.3188 - val_recall: 0.7170 - val_auc: 0.7565 - val_prc: 0.3893\n",
            "Epoch 3/50\n",
            "417/417 [==============================] - 19s 45ms/step - loss: 0.5513 - tp: 1358.0000 - fp: 3171.0000 - tn: 8259.0000 - fn: 534.0000 - accuracy: 0.7219 - precision: 0.2998 - recall: 0.7178 - auc: 0.7949 - prc: 0.4211 - val_loss: 0.6251 - val_tp: 517.0000 - val_fp: 1111.0000 - val_tn: 2079.0000 - val_fn: 165.0000 - val_accuracy: 0.6705 - val_precision: 0.3176 - val_recall: 0.7581 - val_auc: 0.7704 - val_prc: 0.4080\n",
            "Epoch 4/50\n",
            "417/417 [==============================] - 19s 45ms/step - loss: 0.5162 - tp: 1419.0000 - fp: 2826.0000 - tn: 8604.0000 - fn: 473.0000 - accuracy: 0.7524 - precision: 0.3343 - recall: 0.7500 - auc: 0.8271 - prc: 0.4718 - val_loss: 0.5154 - val_tp: 467.0000 - val_fp: 730.0000 - val_tn: 2460.0000 - val_fn: 215.0000 - val_accuracy: 0.7559 - val_precision: 0.3901 - val_recall: 0.6848 - val_auc: 0.8089 - val_prc: 0.4903\n",
            "Epoch 5/50\n",
            "417/417 [==============================] - 19s 45ms/step - loss: 0.4796 - tp: 1448.0000 - fp: 2374.0000 - tn: 9056.0000 - fn: 444.0000 - accuracy: 0.7885 - precision: 0.3789 - recall: 0.7653 - auc: 0.8552 - prc: 0.5432 - val_loss: 0.5840 - val_tp: 561.0000 - val_fp: 983.0000 - val_tn: 2207.0000 - val_fn: 121.0000 - val_accuracy: 0.7149 - val_precision: 0.3633 - val_recall: 0.8226 - val_auc: 0.8313 - val_prc: 0.5312\n",
            "Epoch 6/50\n",
            "417/417 [==============================] - 19s 45ms/step - loss: 0.4390 - tp: 1483.0000 - fp: 2030.0000 - tn: 9400.0000 - fn: 409.0000 - accuracy: 0.8169 - precision: 0.4221 - recall: 0.7838 - auc: 0.8804 - prc: 0.6066 - val_loss: 0.4517 - val_tp: 470.0000 - val_fp: 527.0000 - val_tn: 2663.0000 - val_fn: 212.0000 - val_accuracy: 0.8091 - val_precision: 0.4714 - val_recall: 0.6891 - val_auc: 0.8445 - val_prc: 0.5829\n",
            "Epoch 7/50\n",
            "417/417 [==============================] - 19s 45ms/step - loss: 0.4136 - tp: 1514.0000 - fp: 1886.0000 - tn: 9544.0000 - fn: 378.0000 - accuracy: 0.8301 - precision: 0.4453 - recall: 0.8002 - auc: 0.8948 - prc: 0.6424 - val_loss: 0.4038 - val_tp: 454.0000 - val_fp: 370.0000 - val_tn: 2820.0000 - val_fn: 228.0000 - val_accuracy: 0.8456 - val_precision: 0.5510 - val_recall: 0.6657 - val_auc: 0.8575 - val_prc: 0.6159\n",
            "Epoch 8/50\n",
            "417/417 [==============================] - 17s 41ms/step - loss: 0.3902 - tp: 1532.0000 - fp: 1616.0000 - tn: 9814.0000 - fn: 360.0000 - accuracy: 0.8517 - precision: 0.4867 - recall: 0.8097 - auc: 0.9066 - prc: 0.6845 - val_loss: 0.3772 - val_tp: 415.0000 - val_fp: 288.0000 - val_tn: 2902.0000 - val_fn: 267.0000 - val_accuracy: 0.8567 - val_precision: 0.5903 - val_recall: 0.6085 - val_auc: 0.8512 - val_prc: 0.6300\n",
            "Epoch 9/50\n",
            "417/417 [==============================] - 17s 41ms/step - loss: 0.3680 - tp: 1541.0000 - fp: 1434.0000 - tn: 9996.0000 - fn: 351.0000 - accuracy: 0.8660 - precision: 0.5180 - recall: 0.8145 - auc: 0.9171 - prc: 0.7166 - val_loss: 0.4448 - val_tp: 467.0000 - val_fp: 413.0000 - val_tn: 2777.0000 - val_fn: 215.0000 - val_accuracy: 0.8378 - val_precision: 0.5307 - val_recall: 0.6848 - val_auc: 0.8592 - val_prc: 0.6199\n",
            "Epoch 10/50\n",
            "417/417 [==============================] - 19s 45ms/step - loss: 0.3470 - tp: 1549.0000 - fp: 1296.0000 - tn: 10134.0000 - fn: 343.0000 - accuracy: 0.8770 - precision: 0.5445 - recall: 0.8187 - auc: 0.9272 - prc: 0.7403 - val_loss: 0.3944 - val_tp: 436.0000 - val_fp: 292.0000 - val_tn: 2898.0000 - val_fn: 246.0000 - val_accuracy: 0.8611 - val_precision: 0.5989 - val_recall: 0.6393 - val_auc: 0.8667 - val_prc: 0.6385\n",
            "Epoch 11/50\n",
            "417/417 [==============================] - 17s 41ms/step - loss: 0.3357 - tp: 1562.0000 - fp: 1210.0000 - tn: 10220.0000 - fn: 330.0000 - accuracy: 0.8844 - precision: 0.5635 - recall: 0.8256 - auc: 0.9321 - prc: 0.7433 - val_loss: 0.3632 - val_tp: 428.0000 - val_fp: 217.0000 - val_tn: 2973.0000 - val_fn: 254.0000 - val_accuracy: 0.8784 - val_precision: 0.6636 - val_recall: 0.6276 - val_auc: 0.8720 - val_prc: 0.6594\n",
            "Epoch 12/50\n",
            " 39/417 [=>............................] - ETA: 7s - loss: 0.3289 - tp: 165.0000 - fp: 102.0000 - tn: 951.0000 - fn: 30.0000 - accuracy: 0.8942 - precision: 0.6180 - recall: 0.8462 - auc: 0.9419 - prc: 0.7820"
          ]
        },
        {
          "output_type": "display_data",
          "data": {
            "text/plain": [
              "<IPython.core.display.HTML object>"
            ],
            "text/html": [
              "Waiting for W&B process to finish... <strong style=\"color:red\">(failed 1).</strong> Press Control-C to abort syncing."
            ]
          },
          "metadata": {}
        },
        {
          "output_type": "display_data",
          "data": {
            "text/plain": [
              "VBox(children=(Label(value='0.002 MB of 0.002 MB uploaded (0.000 MB deduped)\\r'), FloatProgress(value=1.0, max…"
            ],
            "application/vnd.jupyter.widget-view+json": {
              "version_major": 2,
              "version_minor": 0,
              "model_id": "dadfd585230b4dd594510b3e1ff8cc40"
            }
          },
          "metadata": {}
        },
        {
          "output_type": "display_data",
          "data": {
            "text/plain": [
              "<IPython.core.display.HTML object>"
            ],
            "text/html": [
              "<style>\n",
              "    table.wandb td:nth-child(1) { padding: 0 10px; text-align: left ; width: auto;} td:nth-child(2) {text-align: left ; width: 100%}\n",
              "    .wandb-row { display: flex; flex-direction: row; flex-wrap: wrap; justify-content: flex-start; width: 100% }\n",
              "    .wandb-col { display: flex; flex-direction: column; flex-basis: 100%; flex: 1; padding: 10px; }\n",
              "    </style>\n",
              "<div class=\"wandb-row\"><div class=\"wandb-col\"><h3>Run history:</h3><br/><table class=\"wandb\"><tr><td>accuracy</td><td>▁▂▃▄▅▆▆▇▇██</td></tr><tr><td>auc</td><td>▁▁▃▄▅▆▇▇▇██</td></tr><tr><td>epoch</td><td>▁▂▂▃▄▅▅▆▇▇█</td></tr><tr><td>fn</td><td>█▄▄▃▃▂▂▁▁▁▁</td></tr><tr><td>fp</td><td>█▆▅▄▃▃▂▂▁▁▁</td></tr><tr><td>loss</td><td>█▇▆▅▄▃▃▂▂▁▁</td></tr><tr><td>prc</td><td>▂▁▂▃▄▅▆▇███</td></tr><tr><td>precision</td><td>▁▁▂▂▄▅▅▆▇██</td></tr><tr><td>recall</td><td>▁▂▂▄▅▆▇▇▇██</td></tr><tr><td>tn</td><td>▇▁▂▃▅▆▆▇▇██</td></tr><tr><td>tp</td><td>█▁▁▂▃▃▄▄▄▄▄</td></tr><tr><td>val_accuracy</td><td>▂▁▁▄▂▆▇▇▇▇█</td></tr><tr><td>val_auc</td><td>▁▁▂▄▆▆▇▇▇██</td></tr><tr><td>val_fn</td><td>▆▄▃▆▁▅▆█▆▇▇</td></tr><tr><td>val_fp</td><td>▆▇█▅▇▃▂▂▃▂▁</td></tr><tr><td>val_loss</td><td>▆▇█▅▇▃▂▁▃▂▁</td></tr><tr><td>val_prc</td><td>▁▁▂▄▅▆▇▇▇▇█</td></tr><tr><td>val_precision</td><td>▁▁▁▂▂▄▆▇▅▇█</td></tr><tr><td>val_recall</td><td>▃▅▆▃█▄▃▁▃▂▂</td></tr><tr><td>val_tn</td><td>▃▂▁▄▂▆▇▇▆▇█</td></tr><tr><td>val_tp</td><td>▃▅▆▃█▄▃▁▃▂▂</td></tr></table><br/></div><div class=\"wandb-col\"><h3>Run summary:</h3><br/><table class=\"wandb\"><tr><td>GFLOPs</td><td>0.00011</td></tr><tr><td>accuracy</td><td>0.8844</td></tr><tr><td>auc</td><td>0.93206</td></tr><tr><td>best_epoch</td><td>10</td></tr><tr><td>best_val_loss</td><td>0.36318</td></tr><tr><td>epoch</td><td>10</td></tr><tr><td>fn</td><td>330.0</td></tr><tr><td>fp</td><td>1210.0</td></tr><tr><td>loss</td><td>0.33574</td></tr><tr><td>prc</td><td>0.74327</td></tr><tr><td>precision</td><td>0.56349</td></tr><tr><td>recall</td><td>0.82558</td></tr><tr><td>tn</td><td>10220.0</td></tr><tr><td>tp</td><td>1562.0</td></tr><tr><td>val_accuracy</td><td>0.87836</td></tr><tr><td>val_auc</td><td>0.87204</td></tr><tr><td>val_fn</td><td>254.0</td></tr><tr><td>val_fp</td><td>217.0</td></tr><tr><td>val_loss</td><td>0.36318</td></tr><tr><td>val_prc</td><td>0.65945</td></tr><tr><td>val_precision</td><td>0.66357</td></tr><tr><td>val_recall</td><td>0.62757</td></tr><tr><td>val_tn</td><td>2973.0</td></tr><tr><td>val_tp</td><td>428.0</td></tr></table><br/></div></div>"
            ]
          },
          "metadata": {}
        },
        {
          "output_type": "display_data",
          "data": {
            "text/plain": [
              "<IPython.core.display.HTML object>"
            ],
            "text/html": [
              "Synced <strong style=\"color:#cdcd00\">logical-sweep-19</strong>: <a href=\"https://wandb.ai/mindadeepam/medusa-sweeps/runs/h53404ag\" target=\"_blank\">https://wandb.ai/mindadeepam/medusa-sweeps/runs/h53404ag</a><br/>Synced 5 W&B file(s), 1 media file(s), 0 artifact file(s) and 0 other file(s)"
            ]
          },
          "metadata": {}
        },
        {
          "output_type": "display_data",
          "data": {
            "text/plain": [
              "<IPython.core.display.HTML object>"
            ],
            "text/html": [
              "Find logs at: <code>./wandb/run-20220831_182334-h53404ag/logs</code>"
            ]
          },
          "metadata": {}
        },
        {
          "output_type": "stream",
          "name": "stderr",
          "text": [
            "\u001b[34m\u001b[1mwandb\u001b[0m: Agent Starting Run: 2l4o5lv4 with config:\n",
            "\u001b[34m\u001b[1mwandb\u001b[0m: \tdense_units: 32\n",
            "\u001b[34m\u001b[1mwandb\u001b[0m: \tdropout_1: 0.6\n",
            "\u001b[34m\u001b[1mwandb\u001b[0m: \tdropout_2: 0.6\n",
            "\u001b[34m\u001b[1mwandb\u001b[0m: \tdropout_3: 0.4\n",
            "\u001b[34m\u001b[1mwandb\u001b[0m: \tembedding_dimensions: 50\n",
            "\u001b[34m\u001b[1mwandb\u001b[0m: \tepochs: 20\n",
            "\u001b[34m\u001b[1mwandb\u001b[0m: \tlearning_rate: 4.880009969321107e-05\n",
            "\u001b[34m\u001b[1mwandb\u001b[0m: \tlstm_units: 8\n",
            "\u001b[34m\u001b[1mwandb\u001b[0m: \tmodel: RNN (lstm)\n",
            "\u001b[34m\u001b[1mwandb\u001b[0m: \toptimizer: Adam\n",
            "\u001b[34m\u001b[1mwandb\u001b[0m: \ttokenization: character\n"
          ]
        },
        {
          "output_type": "display_data",
          "data": {
            "text/plain": [
              "<IPython.core.display.HTML object>"
            ],
            "text/html": [
              "Tracking run with wandb version 0.13.2"
            ]
          },
          "metadata": {}
        },
        {
          "output_type": "display_data",
          "data": {
            "text/plain": [
              "<IPython.core.display.HTML object>"
            ],
            "text/html": [
              "Run data is saved locally in <code>/content/wandb/run-20220831_182816-2l4o5lv4</code>"
            ]
          },
          "metadata": {}
        },
        {
          "output_type": "display_data",
          "data": {
            "text/plain": [
              "<IPython.core.display.HTML object>"
            ],
            "text/html": [
              "Syncing run <strong><a href=\"https://wandb.ai/mindadeepam/medusa-sweeps/runs/2l4o5lv4\" target=\"_blank\">rosy-sweep-20</a></strong> to <a href=\"https://wandb.ai/mindadeepam/medusa-sweeps\" target=\"_blank\">Weights & Biases</a> (<a href=\"https://wandb.me/run\" target=\"_blank\">docs</a>)<br/>Sweep page:  <a href=\"https://wandb.ai/mindadeepam/medusa-sweeps/sweeps/0hljr5r1\" target=\"_blank\">https://wandb.ai/mindadeepam/medusa-sweeps/sweeps/0hljr5r1</a>"
            ]
          },
          "metadata": {}
        },
        {
          "output_type": "stream",
          "name": "stdout",
          "text": [
            "mkdir: cannot create directory ‘tmp’: File exists\n",
            "Epoch 1/50\n",
            "417/417 [==============================] - 28s 56ms/step - loss: 0.6360 - tp: 1377.0000 - fp: 4066.0000 - tn: 8505.0000 - fn: 718.0000 - accuracy: 0.6738 - precision: 0.2530 - recall: 0.6573 - auc: 0.7287 - prc: 0.3571 - val_loss: 0.6634 - val_tp: 536.0000 - val_fp: 1333.0000 - val_tn: 1857.0000 - val_fn: 146.0000 - val_accuracy: 0.6180 - val_precision: 0.2868 - val_recall: 0.7859 - val_auc: 0.7423 - val_prc: 0.3583\n",
            "Epoch 2/50\n",
            "417/417 [==============================] - 17s 41ms/step - loss: 0.5752 - tp: 1328.0000 - fp: 3443.0000 - tn: 7987.0000 - fn: 564.0000 - accuracy: 0.6992 - precision: 0.2783 - recall: 0.7019 - auc: 0.7705 - prc: 0.3861 - val_loss: 0.5127 - val_tp: 416.0000 - val_fp: 675.0000 - val_tn: 2515.0000 - val_fn: 266.0000 - val_accuracy: 0.7570 - val_precision: 0.3813 - val_recall: 0.6100 - val_auc: 0.7740 - val_prc: 0.4451\n",
            "Epoch 3/50\n",
            "417/417 [==============================] - 19s 46ms/step - loss: 0.5394 - tp: 1390.0000 - fp: 3032.0000 - tn: 8398.0000 - fn: 502.0000 - accuracy: 0.7347 - precision: 0.3143 - recall: 0.7347 - auc: 0.8058 - prc: 0.4470 - val_loss: 0.5222 - val_tp: 483.0000 - val_fp: 798.0000 - val_tn: 2392.0000 - val_fn: 199.0000 - val_accuracy: 0.7425 - val_precision: 0.3770 - val_recall: 0.7082 - val_auc: 0.8029 - val_prc: 0.4729\n",
            "Epoch 4/50\n",
            "417/417 [==============================] - 19s 46ms/step - loss: 0.5174 - tp: 1423.0000 - fp: 2866.0000 - tn: 8564.0000 - fn: 469.0000 - accuracy: 0.7497 - precision: 0.3318 - recall: 0.7521 - auc: 0.8255 - prc: 0.4808 - val_loss: 0.4097 - val_tp: 313.0000 - val_fp: 305.0000 - val_tn: 2885.0000 - val_fn: 369.0000 - val_accuracy: 0.8259 - val_precision: 0.5065 - val_recall: 0.4589 - val_auc: 0.8093 - val_prc: 0.4938\n",
            "Epoch 5/50\n",
            "417/417 [==============================] - 17s 41ms/step - loss: 0.4899 - tp: 1409.0000 - fp: 2494.0000 - tn: 8936.0000 - fn: 483.0000 - accuracy: 0.7765 - precision: 0.3610 - recall: 0.7447 - auc: 0.8462 - prc: 0.5246 - val_loss: 0.4402 - val_tp: 422.0000 - val_fp: 482.0000 - val_tn: 2708.0000 - val_fn: 260.0000 - val_accuracy: 0.8084 - val_precision: 0.4668 - val_recall: 0.6188 - val_auc: 0.8242 - val_prc: 0.5221\n",
            "Epoch 6/50\n",
            "417/417 [==============================] - 19s 45ms/step - loss: 0.4672 - tp: 1449.0000 - fp: 2333.0000 - tn: 9097.0000 - fn: 443.0000 - accuracy: 0.7916 - precision: 0.3831 - recall: 0.7659 - auc: 0.8612 - prc: 0.5629 - val_loss: 0.5313 - val_tp: 486.0000 - val_fp: 738.0000 - val_tn: 2452.0000 - val_fn: 196.0000 - val_accuracy: 0.7588 - val_precision: 0.3971 - val_recall: 0.7126 - val_auc: 0.8339 - val_prc: 0.5476\n",
            "Epoch 7/50\n",
            "417/417 [==============================] - 19s 45ms/step - loss: 0.4363 - tp: 1482.0000 - fp: 2058.0000 - tn: 9372.0000 - fn: 410.0000 - accuracy: 0.8147 - precision: 0.4186 - recall: 0.7833 - auc: 0.8821 - prc: 0.6113 - val_loss: 0.4882 - val_tp: 508.0000 - val_fp: 676.0000 - val_tn: 2514.0000 - val_fn: 174.0000 - val_accuracy: 0.7805 - val_precision: 0.4291 - val_recall: 0.7449 - val_auc: 0.8543 - val_prc: 0.6063\n",
            "Epoch 8/50\n",
            "417/417 [==============================] - 19s 45ms/step - loss: 0.3979 - tp: 1531.0000 - fp: 1791.0000 - tn: 9639.0000 - fn: 361.0000 - accuracy: 0.8385 - precision: 0.4609 - recall: 0.8092 - auc: 0.9036 - prc: 0.6617 - val_loss: 0.3647 - val_tp: 447.0000 - val_fp: 298.0000 - val_tn: 2892.0000 - val_fn: 235.0000 - val_accuracy: 0.8623 - val_precision: 0.6000 - val_recall: 0.6554 - val_auc: 0.8735 - val_prc: 0.6547\n",
            "Epoch 9/50\n",
            "417/417 [==============================] - 17s 41ms/step - loss: 0.3710 - tp: 1542.0000 - fp: 1454.0000 - tn: 9976.0000 - fn: 350.0000 - accuracy: 0.8646 - precision: 0.5147 - recall: 0.8150 - auc: 0.9155 - prc: 0.7083 - val_loss: 0.3622 - val_tp: 465.0000 - val_fp: 314.0000 - val_tn: 2876.0000 - val_fn: 217.0000 - val_accuracy: 0.8629 - val_precision: 0.5969 - val_recall: 0.6818 - val_auc: 0.8798 - val_prc: 0.6774\n",
            "Epoch 10/50\n",
            "417/417 [==============================] - 19s 45ms/step - loss: 0.3499 - tp: 1554.0000 - fp: 1323.0000 - tn: 10107.0000 - fn: 338.0000 - accuracy: 0.8753 - precision: 0.5401 - recall: 0.8214 - auc: 0.9254 - prc: 0.7413 - val_loss: 0.3290 - val_tp: 436.0000 - val_fp: 211.0000 - val_tn: 2979.0000 - val_fn: 246.0000 - val_accuracy: 0.8820 - val_precision: 0.6739 - val_recall: 0.6393 - val_auc: 0.8837 - val_prc: 0.6999\n",
            "Epoch 11/50\n",
            "417/417 [==============================] - 19s 45ms/step - loss: 0.3257 - tp: 1577.0000 - fp: 1187.0000 - tn: 10243.0000 - fn: 315.0000 - accuracy: 0.8873 - precision: 0.5705 - recall: 0.8335 - auc: 0.9351 - prc: 0.7639 - val_loss: 0.3761 - val_tp: 502.0000 - val_fp: 339.0000 - val_tn: 2851.0000 - val_fn: 180.0000 - val_accuracy: 0.8660 - val_precision: 0.5969 - val_recall: 0.7361 - val_auc: 0.8916 - val_prc: 0.7099\n",
            "Epoch 12/50\n",
            "417/417 [==============================] - 19s 45ms/step - loss: 0.3180 - tp: 1586.0000 - fp: 1200.0000 - tn: 10230.0000 - fn: 306.0000 - accuracy: 0.8870 - precision: 0.5693 - recall: 0.8383 - auc: 0.9382 - prc: 0.7786 - val_loss: 0.3179 - val_tp: 423.0000 - val_fp: 168.0000 - val_tn: 3022.0000 - val_fn: 259.0000 - val_accuracy: 0.8897 - val_precision: 0.7157 - val_recall: 0.6202 - val_auc: 0.8917 - val_prc: 0.7157\n",
            "Epoch 13/50\n",
            "417/417 [==============================] - 19s 45ms/step - loss: 0.3068 - tp: 1608.0000 - fp: 1065.0000 - tn: 10365.0000 - fn: 284.0000 - accuracy: 0.8987 - precision: 0.6016 - recall: 0.8499 - auc: 0.9422 - prc: 0.7830 - val_loss: 0.3497 - val_tp: 464.0000 - val_fp: 252.0000 - val_tn: 2938.0000 - val_fn: 218.0000 - val_accuracy: 0.8786 - val_precision: 0.6480 - val_recall: 0.6804 - val_auc: 0.8924 - val_prc: 0.7069\n",
            "Epoch 14/50\n",
            "417/417 [==============================] - 17s 41ms/step - loss: 0.2947 - tp: 1610.0000 - fp: 978.0000 - tn: 10452.0000 - fn: 282.0000 - accuracy: 0.9054 - precision: 0.6221 - recall: 0.8510 - auc: 0.9467 - prc: 0.8029 - val_loss: 0.3073 - val_tp: 438.0000 - val_fp: 169.0000 - val_tn: 3021.0000 - val_fn: 244.0000 - val_accuracy: 0.8933 - val_precision: 0.7216 - val_recall: 0.6422 - val_auc: 0.9009 - val_prc: 0.7320\n",
            "Epoch 15/50\n",
            "417/417 [==============================] - 19s 45ms/step - loss: 0.2839 - tp: 1626.0000 - fp: 939.0000 - tn: 10491.0000 - fn: 266.0000 - accuracy: 0.9095 - precision: 0.6339 - recall: 0.8594 - auc: 0.9503 - prc: 0.8120 - val_loss: 0.3993 - val_tp: 510.0000 - val_fp: 334.0000 - val_tn: 2856.0000 - val_fn: 172.0000 - val_accuracy: 0.8693 - val_precision: 0.6043 - val_recall: 0.7478 - val_auc: 0.8987 - val_prc: 0.6980\n",
            "Epoch 16/50\n",
            "417/417 [==============================] - 19s 45ms/step - loss: 0.2738 - tp: 1640.0000 - fp: 952.0000 - tn: 10478.0000 - fn: 252.0000 - accuracy: 0.9096 - precision: 0.6327 - recall: 0.8668 - auc: 0.9547 - prc: 0.8255 - val_loss: 0.3005 - val_tp: 452.0000 - val_fp: 174.0000 - val_tn: 3016.0000 - val_fn: 230.0000 - val_accuracy: 0.8957 - val_precision: 0.7220 - val_recall: 0.6628 - val_auc: 0.9024 - val_prc: 0.7379\n",
            "Epoch 17/50\n",
            "417/417 [==============================] - 19s 45ms/step - loss: 0.2669 - tp: 1642.0000 - fp: 895.0000 - tn: 10535.0000 - fn: 250.0000 - accuracy: 0.9141 - precision: 0.6472 - recall: 0.8679 - auc: 0.9565 - prc: 0.8280 - val_loss: 0.3386 - val_tp: 491.0000 - val_fp: 254.0000 - val_tn: 2936.0000 - val_fn: 191.0000 - val_accuracy: 0.8851 - val_precision: 0.6591 - val_recall: 0.7199 - val_auc: 0.9036 - val_prc: 0.7405\n",
            "Epoch 18/50\n",
            "417/417 [==============================] - 19s 45ms/step - loss: 0.2586 - tp: 1650.0000 - fp: 861.0000 - tn: 10569.0000 - fn: 242.0000 - accuracy: 0.9172 - precision: 0.6571 - recall: 0.8721 - auc: 0.9595 - prc: 0.8284 - val_loss: 0.3142 - val_tp: 483.0000 - val_fp: 208.0000 - val_tn: 2982.0000 - val_fn: 199.0000 - val_accuracy: 0.8949 - val_precision: 0.6990 - val_recall: 0.7082 - val_auc: 0.9042 - val_prc: 0.7424\n",
            "Epoch 19/50\n",
            "417/417 [==============================] - 19s 45ms/step - loss: 0.2642 - tp: 1656.0000 - fp: 859.0000 - tn: 10571.0000 - fn: 236.0000 - accuracy: 0.9178 - precision: 0.6584 - recall: 0.8753 - auc: 0.9571 - prc: 0.8170 - val_loss: 0.3542 - val_tp: 501.0000 - val_fp: 262.0000 - val_tn: 2928.0000 - val_fn: 181.0000 - val_accuracy: 0.8856 - val_precision: 0.6566 - val_recall: 0.7346 - val_auc: 0.9083 - val_prc: 0.7188\n",
            "Epoch 20/50\n",
            "417/417 [==============================] - 17s 41ms/step - loss: 0.2477 - tp: 1669.0000 - fp: 809.0000 - tn: 10621.0000 - fn: 223.0000 - accuracy: 0.9225 - precision: 0.6735 - recall: 0.8821 - auc: 0.9620 - prc: 0.8397 - val_loss: 0.3419 - val_tp: 483.0000 - val_fp: 219.0000 - val_tn: 2971.0000 - val_fn: 199.0000 - val_accuracy: 0.8920 - val_precision: 0.6880 - val_recall: 0.7082 - val_auc: 0.9072 - val_prc: 0.7407\n",
            "Epoch 21/50\n",
            "417/417 [==============================] - 19s 45ms/step - loss: 0.2470 - tp: 1681.0000 - fp: 838.0000 - tn: 10592.0000 - fn: 211.0000 - accuracy: 0.9213 - precision: 0.6673 - recall: 0.8885 - auc: 0.9628 - prc: 0.8351 - val_loss: 0.3289 - val_tp: 462.0000 - val_fp: 171.0000 - val_tn: 3019.0000 - val_fn: 220.0000 - val_accuracy: 0.8990 - val_precision: 0.7299 - val_recall: 0.6774 - val_auc: 0.9060 - val_prc: 0.7410\n",
            "Epoch 22/50\n",
            "417/417 [==============================] - 17s 41ms/step - loss: 0.2384 - tp: 1673.0000 - fp: 735.0000 - tn: 10695.0000 - fn: 219.0000 - accuracy: 0.9284 - precision: 0.6948 - recall: 0.8842 - auc: 0.9649 - prc: 0.8484 - val_loss: 0.3448 - val_tp: 509.0000 - val_fp: 238.0000 - val_tn: 2952.0000 - val_fn: 173.0000 - val_accuracy: 0.8939 - val_precision: 0.6814 - val_recall: 0.7463 - val_auc: 0.9127 - val_prc: 0.7437\n",
            "Epoch 23/50\n",
            "417/417 [==============================] - 19s 45ms/step - loss: 0.2442 - tp: 1684.0000 - fp: 796.0000 - tn: 10634.0000 - fn: 208.0000 - accuracy: 0.9246 - precision: 0.6790 - recall: 0.8901 - auc: 0.9632 - prc: 0.8413 - val_loss: 0.3532 - val_tp: 512.0000 - val_fp: 241.0000 - val_tn: 2949.0000 - val_fn: 170.0000 - val_accuracy: 0.8939 - val_precision: 0.6799 - val_recall: 0.7507 - val_auc: 0.9093 - val_prc: 0.7417\n",
            "Epoch 24/50\n",
            "417/417 [==============================] - 17s 41ms/step - loss: 0.2216 - tp: 1690.0000 - fp: 721.0000 - tn: 10709.0000 - fn: 202.0000 - accuracy: 0.9307 - precision: 0.7010 - recall: 0.8932 - auc: 0.9701 - prc: 0.8691 - val_loss: 0.3398 - val_tp: 524.0000 - val_fp: 229.0000 - val_tn: 2961.0000 - val_fn: 158.0000 - val_accuracy: 0.9001 - val_precision: 0.6959 - val_recall: 0.7683 - val_auc: 0.9125 - val_prc: 0.7559\n",
            "Epoch 25/50\n",
            "417/417 [==============================] - 20s 48ms/step - loss: 0.2320 - tp: 1693.0000 - fp: 761.0000 - tn: 10669.0000 - fn: 199.0000 - accuracy: 0.9279 - precision: 0.6899 - recall: 0.8948 - auc: 0.9675 - prc: 0.8559 - val_loss: 0.3974 - val_tp: 535.0000 - val_fp: 319.0000 - val_tn: 2871.0000 - val_fn: 147.0000 - val_accuracy: 0.8796 - val_precision: 0.6265 - val_recall: 0.7845 - val_auc: 0.9132 - val_prc: 0.7374\n",
            "Epoch 26/50\n",
            "417/417 [==============================] - 19s 45ms/step - loss: 0.2271 - tp: 1698.0000 - fp: 701.0000 - tn: 10729.0000 - fn: 194.0000 - accuracy: 0.9328 - precision: 0.7078 - recall: 0.8975 - auc: 0.9678 - prc: 0.8601 - val_loss: 0.3411 - val_tp: 522.0000 - val_fp: 257.0000 - val_tn: 2933.0000 - val_fn: 160.0000 - val_accuracy: 0.8923 - val_precision: 0.6701 - val_recall: 0.7654 - val_auc: 0.9133 - val_prc: 0.7621\n"
          ]
        },
        {
          "output_type": "display_data",
          "data": {
            "text/plain": [
              "<IPython.core.display.HTML object>"
            ],
            "text/html": [
              "Waiting for W&B process to finish... <strong style=\"color:green\">(success).</strong>"
            ]
          },
          "metadata": {}
        },
        {
          "output_type": "display_data",
          "data": {
            "text/plain": [
              "VBox(children=(Label(value='0.002 MB of 0.002 MB uploaded (0.000 MB deduped)\\r'), FloatProgress(value=1.0, max…"
            ],
            "application/vnd.jupyter.widget-view+json": {
              "version_major": 2,
              "version_minor": 0,
              "model_id": "69290cbbf028456982dfcc436c452431"
            }
          },
          "metadata": {}
        },
        {
          "output_type": "display_data",
          "data": {
            "text/plain": [
              "<IPython.core.display.HTML object>"
            ],
            "text/html": [
              "<style>\n",
              "    table.wandb td:nth-child(1) { padding: 0 10px; text-align: left ; width: auto;} td:nth-child(2) {text-align: left ; width: 100%}\n",
              "    .wandb-row { display: flex; flex-direction: row; flex-wrap: wrap; justify-content: flex-start; width: 100% }\n",
              "    .wandb-col { display: flex; flex-direction: column; flex-basis: 100%; flex: 1; padding: 10px; }\n",
              "    </style>\n",
              "<div class=\"wandb-row\"><div class=\"wandb-col\"><h3>Run history:</h3><br/><table class=\"wandb\"><tr><td>accuracy</td><td>▁▂▃▃▄▄▅▅▆▆▇▇▇▇▇▇▇█████████</td></tr><tr><td>auc</td><td>▁▂▃▄▄▅▅▆▆▇▇▇▇▇▇███████████</td></tr><tr><td>epoch</td><td>▁▁▂▂▂▂▃▃▃▄▄▄▄▅▅▅▅▆▆▆▇▇▇▇██</td></tr><tr><td>fn</td><td>█▆▅▅▅▄▄▃▃▃▃▂▂▂▂▂▂▂▂▁▁▁▁▁▁▁</td></tr><tr><td>fp</td><td>█▇▆▆▅▄▄▃▃▂▂▂▂▂▁▂▁▁▁▁▁▁▁▁▁▁</td></tr><tr><td>loss</td><td>█▇▆▆▆▅▅▄▄▃▃▃▂▂▂▂▂▂▂▁▁▁▁▁▁▁</td></tr><tr><td>prc</td><td>▁▁▂▃▃▄▄▅▆▆▇▇▇▇▇▇▇▇▇███████</td></tr><tr><td>precision</td><td>▁▁▂▂▃▃▄▄▅▅▆▆▆▇▇▇▇▇▇▇▇█████</td></tr><tr><td>recall</td><td>▁▂▃▄▄▄▅▅▆▆▆▆▇▇▇▇▇▇▇███████</td></tr><tr><td>tn</td><td>▂▁▂▂▃▄▅▅▆▆▇▇▇▇▇▇██████████</td></tr><tr><td>tp</td><td>▂▁▂▃▃▃▄▅▅▅▆▆▆▆▇▇▇▇▇▇██████</td></tr><tr><td>val_accuracy</td><td>▁▄▄▆▆▄▅▇▇█▇█▇█▇█████████▇█</td></tr><tr><td>val_auc</td><td>▁▂▃▄▄▅▆▆▇▇▇▇▇▇▇███████████</td></tr><tr><td>val_fn</td><td>▁▅▃█▅▃▂▄▃▄▂▅▃▄▂▄▂▃▂▃▃▂▂▁▁▁</td></tr><tr><td>val_fp</td><td>█▄▅▂▃▄▄▂▂▁▂▁▂▁▂▁▂▁▂▁▁▁▁▁▂▂</td></tr><tr><td>val_loss</td><td>█▅▅▃▄▅▅▂▂▂▂▁▂▁▃▁▂▁▂▂▂▂▂▂▃▂</td></tr><tr><td>val_prc</td><td>▁▃▃▃▄▄▅▆▇▇▇▇▇▇▇███▇███████</td></tr><tr><td>val_precision</td><td>▁▂▂▄▄▃▃▆▆▇▆█▇█▆█▇█▇▇█▇▇▇▆▇</td></tr><tr><td>val_recall</td><td>█▄▆▁▄▆▇▅▆▅▇▄▆▅▇▅▇▆▇▆▆▇▇███</td></tr><tr><td>val_tn</td><td>▁▅▄▇▆▅▅▇▇█▇█▇█▇█▇█▇█████▇▇</td></tr><tr><td>val_tp</td><td>█▄▆▁▄▆▇▅▆▅▇▄▆▅▇▅▇▆▇▆▆▇▇███</td></tr></table><br/></div><div class=\"wandb-col\"><h3>Run summary:</h3><br/><table class=\"wandb\"><tr><td>GFLOPs</td><td>0.00011</td></tr><tr><td>accuracy</td><td>0.93282</td></tr><tr><td>auc</td><td>0.96782</td></tr><tr><td>best_epoch</td><td>15</td></tr><tr><td>best_val_loss</td><td>0.30054</td></tr><tr><td>epoch</td><td>25</td></tr><tr><td>fn</td><td>194.0</td></tr><tr><td>fp</td><td>701.0</td></tr><tr><td>loss</td><td>0.22708</td></tr><tr><td>prc</td><td>0.8601</td></tr><tr><td>precision</td><td>0.70779</td></tr><tr><td>recall</td><td>0.89746</td></tr><tr><td>tn</td><td>10729.0</td></tr><tr><td>tp</td><td>1698.0</td></tr><tr><td>val_accuracy</td><td>0.8923</td></tr><tr><td>val_auc</td><td>0.91326</td></tr><tr><td>val_fn</td><td>160.0</td></tr><tr><td>val_fp</td><td>257.0</td></tr><tr><td>val_loss</td><td>0.34108</td></tr><tr><td>val_prc</td><td>0.76212</td></tr><tr><td>val_precision</td><td>0.67009</td></tr><tr><td>val_recall</td><td>0.7654</td></tr><tr><td>val_tn</td><td>2933.0</td></tr><tr><td>val_tp</td><td>522.0</td></tr></table><br/></div></div>"
            ]
          },
          "metadata": {}
        },
        {
          "output_type": "display_data",
          "data": {
            "text/plain": [
              "<IPython.core.display.HTML object>"
            ],
            "text/html": [
              "Synced <strong style=\"color:#cdcd00\">rosy-sweep-20</strong>: <a href=\"https://wandb.ai/mindadeepam/medusa-sweeps/runs/2l4o5lv4\" target=\"_blank\">https://wandb.ai/mindadeepam/medusa-sweeps/runs/2l4o5lv4</a><br/>Synced 5 W&B file(s), 1 media file(s), 0 artifact file(s) and 0 other file(s)"
            ]
          },
          "metadata": {}
        },
        {
          "output_type": "display_data",
          "data": {
            "text/plain": [
              "<IPython.core.display.HTML object>"
            ],
            "text/html": [
              "Find logs at: <code>./wandb/run-20220831_182816-2l4o5lv4/logs</code>"
            ]
          },
          "metadata": {}
        },
        {
          "output_type": "stream",
          "name": "stderr",
          "text": [
            "\u001b[34m\u001b[1mwandb\u001b[0m: Agent Starting Run: 7nfypfcz with config:\n",
            "\u001b[34m\u001b[1mwandb\u001b[0m: \tdense_units: 32\n",
            "\u001b[34m\u001b[1mwandb\u001b[0m: \tdropout_1: 0.5\n",
            "\u001b[34m\u001b[1mwandb\u001b[0m: \tdropout_2: 0.5\n",
            "\u001b[34m\u001b[1mwandb\u001b[0m: \tdropout_3: 0.6\n",
            "\u001b[34m\u001b[1mwandb\u001b[0m: \tembedding_dimensions: 100\n",
            "\u001b[34m\u001b[1mwandb\u001b[0m: \tepochs: 20\n",
            "\u001b[34m\u001b[1mwandb\u001b[0m: \tlearning_rate: 1.9073191591045636e-05\n",
            "\u001b[34m\u001b[1mwandb\u001b[0m: \tlstm_units: 16\n",
            "\u001b[34m\u001b[1mwandb\u001b[0m: \tmodel: RNN (lstm)\n",
            "\u001b[34m\u001b[1mwandb\u001b[0m: \toptimizer: Adam\n",
            "\u001b[34m\u001b[1mwandb\u001b[0m: \ttokenization: character\n"
          ]
        },
        {
          "output_type": "display_data",
          "data": {
            "text/plain": [
              "<IPython.core.display.HTML object>"
            ],
            "text/html": [
              "Tracking run with wandb version 0.13.2"
            ]
          },
          "metadata": {}
        },
        {
          "output_type": "display_data",
          "data": {
            "text/plain": [
              "<IPython.core.display.HTML object>"
            ],
            "text/html": [
              "Run data is saved locally in <code>/content/wandb/run-20220831_183648-7nfypfcz</code>"
            ]
          },
          "metadata": {}
        },
        {
          "output_type": "display_data",
          "data": {
            "text/plain": [
              "<IPython.core.display.HTML object>"
            ],
            "text/html": [
              "Syncing run <strong><a href=\"https://wandb.ai/mindadeepam/medusa-sweeps/runs/7nfypfcz\" target=\"_blank\">usual-sweep-21</a></strong> to <a href=\"https://wandb.ai/mindadeepam/medusa-sweeps\" target=\"_blank\">Weights & Biases</a> (<a href=\"https://wandb.me/run\" target=\"_blank\">docs</a>)<br/>Sweep page:  <a href=\"https://wandb.ai/mindadeepam/medusa-sweeps/sweeps/0hljr5r1\" target=\"_blank\">https://wandb.ai/mindadeepam/medusa-sweeps/sweeps/0hljr5r1</a>"
            ]
          },
          "metadata": {}
        },
        {
          "output_type": "stream",
          "name": "stdout",
          "text": [
            "mkdir: cannot create directory ‘tmp’: File exists\n",
            "Epoch 1/50\n",
            "417/417 [==============================] - 28s 56ms/step - loss: 0.6318 - tp: 1679.0000 - fp: 3966.0000 - tn: 10654.0000 - fn: 895.0000 - accuracy: 0.7173 - precision: 0.2974 - recall: 0.6523 - auc: 0.7674 - prc: 0.4543 - val_loss: 0.5530 - val_tp: 419.0000 - val_fp: 778.0000 - val_tn: 2412.0000 - val_fn: 263.0000 - val_accuracy: 0.7311 - val_precision: 0.3500 - val_recall: 0.6144 - val_auc: 0.7558 - val_prc: 0.3898\n",
            "Epoch 2/50\n",
            "417/417 [==============================] - 17s 41ms/step - loss: 0.5778 - tp: 1334.0000 - fp: 3410.0000 - tn: 8020.0000 - fn: 558.0000 - accuracy: 0.7021 - precision: 0.2812 - recall: 0.7051 - auc: 0.7694 - prc: 0.3702 - val_loss: 0.5354 - val_tp: 445.0000 - val_fp: 758.0000 - val_tn: 2432.0000 - val_fn: 237.0000 - val_accuracy: 0.7430 - val_precision: 0.3699 - val_recall: 0.6525 - val_auc: 0.7707 - val_prc: 0.4257\n",
            "Epoch 3/50\n",
            "417/417 [==============================] - 17s 41ms/step - loss: 0.5437 - tp: 1385.0000 - fp: 3124.0000 - tn: 8306.0000 - fn: 507.0000 - accuracy: 0.7274 - precision: 0.3072 - recall: 0.7320 - auc: 0.7993 - prc: 0.4278 - val_loss: 0.4816 - val_tp: 392.0000 - val_fp: 550.0000 - val_tn: 2640.0000 - val_fn: 290.0000 - val_accuracy: 0.7831 - val_precision: 0.4161 - val_recall: 0.5748 - val_auc: 0.7825 - val_prc: 0.4504\n",
            "Epoch 4/50\n",
            "417/417 [==============================] - 20s 48ms/step - loss: 0.5297 - tp: 1391.0000 - fp: 3093.0000 - tn: 8337.0000 - fn: 501.0000 - accuracy: 0.7302 - precision: 0.3102 - recall: 0.7352 - auc: 0.8115 - prc: 0.4561 - val_loss: 0.4666 - val_tp: 411.0000 - val_fp: 565.0000 - val_tn: 2625.0000 - val_fn: 271.0000 - val_accuracy: 0.7841 - val_precision: 0.4211 - val_recall: 0.6026 - val_auc: 0.8019 - val_prc: 0.4843\n",
            "Epoch 5/50\n",
            "417/417 [==============================] - 19s 46ms/step - loss: 0.4971 - tp: 1432.0000 - fp: 2664.0000 - tn: 8766.0000 - fn: 460.0000 - accuracy: 0.7655 - precision: 0.3496 - recall: 0.7569 - auc: 0.8409 - prc: 0.5013 - val_loss: 0.5521 - val_tp: 509.0000 - val_fp: 857.0000 - val_tn: 2333.0000 - val_fn: 173.0000 - val_accuracy: 0.7340 - val_precision: 0.3726 - val_recall: 0.7463 - val_auc: 0.8102 - val_prc: 0.4862\n",
            "Epoch 6/50\n",
            "417/417 [==============================] - 19s 45ms/step - loss: 0.4742 - tp: 1468.0000 - fp: 2493.0000 - tn: 8937.0000 - fn: 424.0000 - accuracy: 0.7810 - precision: 0.3706 - recall: 0.7759 - auc: 0.8579 - prc: 0.5464 - val_loss: 0.5820 - val_tp: 562.0000 - val_fp: 994.0000 - val_tn: 2196.0000 - val_fn: 120.0000 - val_accuracy: 0.7123 - val_precision: 0.3612 - val_recall: 0.8240 - val_auc: 0.8353 - val_prc: 0.5392\n",
            "Epoch 7/50\n",
            "417/417 [==============================] - 19s 46ms/step - loss: 0.4433 - tp: 1506.0000 - fp: 2216.0000 - tn: 9214.0000 - fn: 386.0000 - accuracy: 0.8047 - precision: 0.4046 - recall: 0.7960 - auc: 0.8786 - prc: 0.5958 - val_loss: 0.4101 - val_tp: 445.0000 - val_fp: 408.0000 - val_tn: 2782.0000 - val_fn: 237.0000 - val_accuracy: 0.8334 - val_precision: 0.5217 - val_recall: 0.6525 - val_auc: 0.8540 - val_prc: 0.5995\n",
            "Epoch 8/50\n",
            "417/417 [==============================] - 19s 45ms/step - loss: 0.4156 - tp: 1493.0000 - fp: 1888.0000 - tn: 9542.0000 - fn: 399.0000 - accuracy: 0.8283 - precision: 0.4416 - recall: 0.7891 - auc: 0.8940 - prc: 0.6453 - val_loss: 0.3693 - val_tp: 463.0000 - val_fp: 360.0000 - val_tn: 2830.0000 - val_fn: 219.0000 - val_accuracy: 0.8505 - val_precision: 0.5626 - val_recall: 0.6789 - val_auc: 0.8745 - val_prc: 0.6466\n",
            "Epoch 9/50\n",
            "417/417 [==============================] - 19s 45ms/step - loss: 0.3856 - tp: 1528.0000 - fp: 1638.0000 - tn: 9792.0000 - fn: 364.0000 - accuracy: 0.8497 - precision: 0.4826 - recall: 0.8076 - auc: 0.9092 - prc: 0.6843 - val_loss: 0.4386 - val_tp: 535.0000 - val_fp: 538.0000 - val_tn: 2652.0000 - val_fn: 147.0000 - val_accuracy: 0.8231 - val_precision: 0.4986 - val_recall: 0.7845 - val_auc: 0.8786 - val_prc: 0.6629\n",
            "Epoch 10/50\n",
            "417/417 [==============================] - 19s 46ms/step - loss: 0.3597 - tp: 1562.0000 - fp: 1456.0000 - tn: 9974.0000 - fn: 330.0000 - accuracy: 0.8659 - precision: 0.5176 - recall: 0.8256 - auc: 0.9216 - prc: 0.7170 - val_loss: 0.3748 - val_tp: 479.0000 - val_fp: 360.0000 - val_tn: 2830.0000 - val_fn: 203.0000 - val_accuracy: 0.8546 - val_precision: 0.5709 - val_recall: 0.7023 - val_auc: 0.8826 - val_prc: 0.6789\n",
            "Epoch 11/50\n",
            "417/417 [==============================] - 20s 48ms/step - loss: 0.3356 - tp: 1590.0000 - fp: 1306.0000 - tn: 10124.0000 - fn: 302.0000 - accuracy: 0.8793 - precision: 0.5490 - recall: 0.8404 - auc: 0.9315 - prc: 0.7503 - val_loss: 0.3493 - val_tp: 490.0000 - val_fp: 285.0000 - val_tn: 2905.0000 - val_fn: 192.0000 - val_accuracy: 0.8768 - val_precision: 0.6323 - val_recall: 0.7185 - val_auc: 0.8952 - val_prc: 0.7017\n",
            "Epoch 12/50\n",
            "417/417 [==============================] - 19s 45ms/step - loss: 0.3322 - tp: 1581.0000 - fp: 1264.0000 - tn: 10166.0000 - fn: 311.0000 - accuracy: 0.8818 - precision: 0.5557 - recall: 0.8356 - auc: 0.9330 - prc: 0.7596 - val_loss: 0.3358 - val_tp: 485.0000 - val_fp: 244.0000 - val_tn: 2946.0000 - val_fn: 197.0000 - val_accuracy: 0.8861 - val_precision: 0.6653 - val_recall: 0.7111 - val_auc: 0.8989 - val_prc: 0.7194\n",
            "Epoch 13/50\n",
            "417/417 [==============================] - 19s 46ms/step - loss: 0.3132 - tp: 1608.0000 - fp: 1138.0000 - tn: 10292.0000 - fn: 284.0000 - accuracy: 0.8933 - precision: 0.5856 - recall: 0.8499 - auc: 0.9401 - prc: 0.7829 - val_loss: 0.3098 - val_tp: 431.0000 - val_fp: 160.0000 - val_tn: 3030.0000 - val_fn: 251.0000 - val_accuracy: 0.8939 - val_precision: 0.7293 - val_recall: 0.6320 - val_auc: 0.8965 - val_prc: 0.7117\n",
            "Epoch 14/50\n",
            "417/417 [==============================] - 19s 46ms/step - loss: 0.3058 - tp: 1609.0000 - fp: 1059.0000 - tn: 10371.0000 - fn: 283.0000 - accuracy: 0.8993 - precision: 0.6031 - recall: 0.8504 - auc: 0.9432 - prc: 0.7837 - val_loss: 0.4281 - val_tp: 536.0000 - val_fp: 392.0000 - val_tn: 2798.0000 - val_fn: 146.0000 - val_accuracy: 0.8611 - val_precision: 0.5776 - val_recall: 0.7859 - val_auc: 0.8994 - val_prc: 0.6966\n",
            "Epoch 15/50\n",
            "417/417 [==============================] - 19s 46ms/step - loss: 0.2897 - tp: 1621.0000 - fp: 1002.0000 - tn: 10428.0000 - fn: 271.0000 - accuracy: 0.9044 - precision: 0.6180 - recall: 0.8568 - auc: 0.9499 - prc: 0.7973 - val_loss: 0.3888 - val_tp: 537.0000 - val_fp: 347.0000 - val_tn: 2843.0000 - val_fn: 145.0000 - val_accuracy: 0.8729 - val_precision: 0.6075 - val_recall: 0.7874 - val_auc: 0.9034 - val_prc: 0.7171\n",
            "Epoch 16/50\n",
            "417/417 [==============================] - 17s 42ms/step - loss: 0.2729 - tp: 1640.0000 - fp: 928.0000 - tn: 10502.0000 - fn: 252.0000 - accuracy: 0.9114 - precision: 0.6386 - recall: 0.8668 - auc: 0.9546 - prc: 0.8266 - val_loss: 0.3771 - val_tp: 520.0000 - val_fp: 295.0000 - val_tn: 2895.0000 - val_fn: 162.0000 - val_accuracy: 0.8820 - val_precision: 0.6380 - val_recall: 0.7625 - val_auc: 0.9000 - val_prc: 0.7212\n",
            "Epoch 17/50\n",
            "417/417 [==============================] - 19s 46ms/step - loss: 0.2722 - tp: 1648.0000 - fp: 902.0000 - tn: 10528.0000 - fn: 244.0000 - accuracy: 0.9140 - precision: 0.6463 - recall: 0.8710 - auc: 0.9549 - prc: 0.8150 - val_loss: 0.3605 - val_tp: 538.0000 - val_fp: 286.0000 - val_tn: 2904.0000 - val_fn: 144.0000 - val_accuracy: 0.8889 - val_precision: 0.6529 - val_recall: 0.7889 - val_auc: 0.9099 - val_prc: 0.7395\n",
            "Epoch 18/50\n",
            "417/417 [==============================] - 19s 45ms/step - loss: 0.2659 - tp: 1646.0000 - fp: 893.0000 - tn: 10537.0000 - fn: 246.0000 - accuracy: 0.9145 - precision: 0.6483 - recall: 0.8700 - auc: 0.9565 - prc: 0.8322 - val_loss: 0.3163 - val_tp: 481.0000 - val_fp: 191.0000 - val_tn: 2999.0000 - val_fn: 201.0000 - val_accuracy: 0.8988 - val_precision: 0.7158 - val_recall: 0.7053 - val_auc: 0.9028 - val_prc: 0.7406\n",
            "Epoch 19/50\n",
            "417/417 [==============================] - 19s 45ms/step - loss: 0.2548 - tp: 1660.0000 - fp: 842.0000 - tn: 10588.0000 - fn: 232.0000 - accuracy: 0.9194 - precision: 0.6635 - recall: 0.8774 - auc: 0.9605 - prc: 0.8392 - val_loss: 0.3729 - val_tp: 532.0000 - val_fp: 279.0000 - val_tn: 2911.0000 - val_fn: 150.0000 - val_accuracy: 0.8892 - val_precision: 0.6560 - val_recall: 0.7801 - val_auc: 0.9089 - val_prc: 0.7301\n",
            "Epoch 20/50\n",
            "417/417 [==============================] - 19s 46ms/step - loss: 0.2528 - tp: 1661.0000 - fp: 863.0000 - tn: 10567.0000 - fn: 231.0000 - accuracy: 0.9179 - precision: 0.6581 - recall: 0.8779 - auc: 0.9609 - prc: 0.8391 - val_loss: 0.3419 - val_tp: 521.0000 - val_fp: 266.0000 - val_tn: 2924.0000 - val_fn: 161.0000 - val_accuracy: 0.8897 - val_precision: 0.6620 - val_recall: 0.7639 - val_auc: 0.9090 - val_prc: 0.7478\n",
            "Epoch 21/50\n",
            "417/417 [==============================] - 19s 46ms/step - loss: 0.2414 - tp: 1693.0000 - fp: 819.0000 - tn: 10611.0000 - fn: 199.0000 - accuracy: 0.9236 - precision: 0.6740 - recall: 0.8948 - auc: 0.9647 - prc: 0.8417 - val_loss: 0.3228 - val_tp: 474.0000 - val_fp: 170.0000 - val_tn: 3020.0000 - val_fn: 208.0000 - val_accuracy: 0.9024 - val_precision: 0.7360 - val_recall: 0.6950 - val_auc: 0.8997 - val_prc: 0.7488\n",
            "Epoch 22/50\n",
            "417/417 [==============================] - 19s 45ms/step - loss: 0.2422 - tp: 1685.0000 - fp: 805.0000 - tn: 10625.0000 - fn: 207.0000 - accuracy: 0.9240 - precision: 0.6767 - recall: 0.8906 - auc: 0.9638 - prc: 0.8496 - val_loss: 0.3439 - val_tp: 502.0000 - val_fp: 222.0000 - val_tn: 2968.0000 - val_fn: 180.0000 - val_accuracy: 0.8962 - val_precision: 0.6934 - val_recall: 0.7361 - val_auc: 0.9057 - val_prc: 0.7388\n",
            "Epoch 23/50\n",
            "417/417 [==============================] - 19s 45ms/step - loss: 0.2342 - tp: 1689.0000 - fp: 793.0000 - tn: 10637.0000 - fn: 203.0000 - accuracy: 0.9252 - precision: 0.6805 - recall: 0.8927 - auc: 0.9667 - prc: 0.8488 - val_loss: 0.3403 - val_tp: 501.0000 - val_fp: 247.0000 - val_tn: 2943.0000 - val_fn: 181.0000 - val_accuracy: 0.8895 - val_precision: 0.6698 - val_recall: 0.7346 - val_auc: 0.9017 - val_prc: 0.7437\n"
          ]
        },
        {
          "output_type": "display_data",
          "data": {
            "text/plain": [
              "<IPython.core.display.HTML object>"
            ],
            "text/html": [
              "Waiting for W&B process to finish... <strong style=\"color:green\">(success).</strong>"
            ]
          },
          "metadata": {}
        },
        {
          "output_type": "display_data",
          "data": {
            "text/plain": [
              "VBox(children=(Label(value='0.002 MB of 0.002 MB uploaded (0.000 MB deduped)\\r'), FloatProgress(value=1.0, max…"
            ],
            "application/vnd.jupyter.widget-view+json": {
              "version_major": 2,
              "version_minor": 0,
              "model_id": "3b1c9bd3c5ed4e0da8d9bfe53f532d85"
            }
          },
          "metadata": {}
        },
        {
          "output_type": "display_data",
          "data": {
            "text/plain": [
              "<IPython.core.display.HTML object>"
            ],
            "text/html": [
              "<style>\n",
              "    table.wandb td:nth-child(1) { padding: 0 10px; text-align: left ; width: auto;} td:nth-child(2) {text-align: left ; width: 100%}\n",
              "    .wandb-row { display: flex; flex-direction: row; flex-wrap: wrap; justify-content: flex-start; width: 100% }\n",
              "    .wandb-col { display: flex; flex-direction: column; flex-basis: 100%; flex: 1; padding: 10px; }\n",
              "    </style>\n",
              "<div class=\"wandb-row\"><div class=\"wandb-col\"><h3>Run history:</h3><br/><table class=\"wandb\"><tr><td>accuracy</td><td>▁▁▂▂▃▃▄▅▆▆▇▇▇▇▇████████</td></tr><tr><td>auc</td><td>▁▁▂▃▄▄▅▅▆▆▇▇▇▇▇████████</td></tr><tr><td>epoch</td><td>▁▁▂▂▂▃▃▃▄▄▄▅▅▅▅▆▆▆▇▇▇██</td></tr><tr><td>fn</td><td>█▅▄▄▄▃▃▃▃▂▂▂▂▂▂▂▁▁▁▁▁▁▁</td></tr><tr><td>fp</td><td>█▇▆▆▅▅▄▃▃▂▂▂▂▂▁▁▁▁▁▁▁▁▁</td></tr><tr><td>loss</td><td>█▇▆▆▆▅▅▄▄▃▃▃▂▂▂▂▂▂▁▁▁▁▁</td></tr><tr><td>prc</td><td>▂▁▂▂▃▄▄▅▆▆▇▇▇▇▇█▇██████</td></tr><tr><td>precision</td><td>▁▁▁▂▂▃▃▄▅▅▆▆▆▇▇▇▇▇█████</td></tr><tr><td>recall</td><td>▁▃▃▃▄▅▅▅▅▆▆▆▇▇▇▇▇▇▇████</td></tr><tr><td>tn</td><td>█▁▂▂▃▃▄▅▆▆▇▇▇▇▇████████</td></tr><tr><td>tp</td><td>█▁▂▂▃▄▄▄▅▅▆▆▆▆▇▇▇▇▇▇███</td></tr><tr><td>val_accuracy</td><td>▂▂▄▄▂▁▅▆▅▆▇▇█▆▇▇███████</td></tr><tr><td>val_auc</td><td>▁▂▂▃▃▅▅▆▇▇▇█▇██████████</td></tr><tr><td>val_fn</td><td>▇▆█▇▃▁▆▅▂▄▄▄▆▂▂▃▂▄▂▃▅▃▄</td></tr><tr><td>val_fp</td><td>▆▆▄▄▇█▃▃▄▃▂▂▁▃▃▂▂▁▂▂▁▂▂</td></tr><tr><td>val_loss</td><td>▇▇▅▅▇█▄▃▄▃▂▂▁▄▃▃▂▁▃▂▁▂▂</td></tr><tr><td>val_prc</td><td>▁▂▂▃▃▄▅▆▆▇▇▇▇▇▇▇███████</td></tr><tr><td>val_precision</td><td>▁▁▂▂▁▁▄▅▄▅▆▇█▅▆▆▆█▇▇█▇▇</td></tr><tr><td>val_recall</td><td>▂▃▁▂▆█▃▄▇▅▅▅▃▇▇▆▇▅▇▆▄▆▅</td></tr><tr><td>val_tn</td><td>▃▃▅▅▂▁▆▆▅▆▇▇█▆▆▇▇█▇▇█▇▇</td></tr><tr><td>val_tp</td><td>▂▃▁▂▆█▃▄▇▅▅▅▃▇▇▆▇▅▇▆▄▆▅</td></tr></table><br/></div><div class=\"wandb-col\"><h3>Run summary:</h3><br/><table class=\"wandb\"><tr><td>GFLOPs</td><td>0.00011</td></tr><tr><td>accuracy</td><td>0.92524</td></tr><tr><td>auc</td><td>0.96668</td></tr><tr><td>best_epoch</td><td>12</td></tr><tr><td>best_val_loss</td><td>0.30978</td></tr><tr><td>epoch</td><td>22</td></tr><tr><td>fn</td><td>203.0</td></tr><tr><td>fp</td><td>793.0</td></tr><tr><td>loss</td><td>0.23418</td></tr><tr><td>prc</td><td>0.84876</td></tr><tr><td>precision</td><td>0.6805</td></tr><tr><td>recall</td><td>0.89271</td></tr><tr><td>tn</td><td>10637.0</td></tr><tr><td>tp</td><td>1689.0</td></tr><tr><td>val_accuracy</td><td>0.88946</td></tr><tr><td>val_auc</td><td>0.90168</td></tr><tr><td>val_fn</td><td>181.0</td></tr><tr><td>val_fp</td><td>247.0</td></tr><tr><td>val_loss</td><td>0.3403</td></tr><tr><td>val_prc</td><td>0.74369</td></tr><tr><td>val_precision</td><td>0.66979</td></tr><tr><td>val_recall</td><td>0.7346</td></tr><tr><td>val_tn</td><td>2943.0</td></tr><tr><td>val_tp</td><td>501.0</td></tr></table><br/></div></div>"
            ]
          },
          "metadata": {}
        },
        {
          "output_type": "display_data",
          "data": {
            "text/plain": [
              "<IPython.core.display.HTML object>"
            ],
            "text/html": [
              "Synced <strong style=\"color:#cdcd00\">usual-sweep-21</strong>: <a href=\"https://wandb.ai/mindadeepam/medusa-sweeps/runs/7nfypfcz\" target=\"_blank\">https://wandb.ai/mindadeepam/medusa-sweeps/runs/7nfypfcz</a><br/>Synced 5 W&B file(s), 1 media file(s), 0 artifact file(s) and 0 other file(s)"
            ]
          },
          "metadata": {}
        },
        {
          "output_type": "display_data",
          "data": {
            "text/plain": [
              "<IPython.core.display.HTML object>"
            ],
            "text/html": [
              "Find logs at: <code>./wandb/run-20220831_183648-7nfypfcz/logs</code>"
            ]
          },
          "metadata": {}
        },
        {
          "output_type": "stream",
          "name": "stderr",
          "text": [
            "\u001b[34m\u001b[1mwandb\u001b[0m: Agent Starting Run: 4ed6q74z with config:\n",
            "\u001b[34m\u001b[1mwandb\u001b[0m: \tdense_units: 64\n",
            "\u001b[34m\u001b[1mwandb\u001b[0m: \tdropout_1: 0.4\n",
            "\u001b[34m\u001b[1mwandb\u001b[0m: \tdropout_2: 0.6\n",
            "\u001b[34m\u001b[1mwandb\u001b[0m: \tdropout_3: 0.6\n",
            "\u001b[34m\u001b[1mwandb\u001b[0m: \tembedding_dimensions: 150\n",
            "\u001b[34m\u001b[1mwandb\u001b[0m: \tepochs: 25\n",
            "\u001b[34m\u001b[1mwandb\u001b[0m: \tlearning_rate: 0.03248356406272874\n",
            "\u001b[34m\u001b[1mwandb\u001b[0m: \tlstm_units: 16\n",
            "\u001b[34m\u001b[1mwandb\u001b[0m: \tmodel: RNN (lstm)\n",
            "\u001b[34m\u001b[1mwandb\u001b[0m: \toptimizer: Adam\n",
            "\u001b[34m\u001b[1mwandb\u001b[0m: \ttokenization: character\n"
          ]
        },
        {
          "output_type": "display_data",
          "data": {
            "text/plain": [
              "<IPython.core.display.HTML object>"
            ],
            "text/html": [
              "Tracking run with wandb version 0.13.2"
            ]
          },
          "metadata": {}
        },
        {
          "output_type": "display_data",
          "data": {
            "text/plain": [
              "<IPython.core.display.HTML object>"
            ],
            "text/html": [
              "Run data is saved locally in <code>/content/wandb/run-20220831_184530-4ed6q74z</code>"
            ]
          },
          "metadata": {}
        },
        {
          "output_type": "display_data",
          "data": {
            "text/plain": [
              "<IPython.core.display.HTML object>"
            ],
            "text/html": [
              "Syncing run <strong><a href=\"https://wandb.ai/mindadeepam/medusa-sweeps/runs/4ed6q74z\" target=\"_blank\">dauntless-sweep-22</a></strong> to <a href=\"https://wandb.ai/mindadeepam/medusa-sweeps\" target=\"_blank\">Weights & Biases</a> (<a href=\"https://wandb.me/run\" target=\"_blank\">docs</a>)<br/>Sweep page:  <a href=\"https://wandb.ai/mindadeepam/medusa-sweeps/sweeps/0hljr5r1\" target=\"_blank\">https://wandb.ai/mindadeepam/medusa-sweeps/sweeps/0hljr5r1</a>"
            ]
          },
          "metadata": {}
        },
        {
          "output_type": "stream",
          "name": "stdout",
          "text": [
            "mkdir: cannot create directory ‘tmp’: File exists\n",
            "Epoch 1/50\n",
            "417/417 [==============================] - 27s 54ms/step - loss: 0.6387 - tp: 1623.0000 - fp: 4146.0000 - tn: 10474.0000 - fn: 951.0000 - accuracy: 0.7036 - precision: 0.2813 - recall: 0.6305 - auc: 0.7500 - prc: 0.4345 - val_loss: 0.5934 - val_tp: 465.0000 - val_fp: 977.0000 - val_tn: 2213.0000 - val_fn: 217.0000 - val_accuracy: 0.6916 - val_precision: 0.3225 - val_recall: 0.6818 - val_auc: 0.7415 - val_prc: 0.3597\n",
            "Epoch 2/50\n",
            "417/417 [==============================] - 17s 41ms/step - loss: 0.5822 - tp: 1348.0000 - fp: 3540.0000 - tn: 7890.0000 - fn: 544.0000 - accuracy: 0.6934 - precision: 0.2758 - recall: 0.7125 - auc: 0.7643 - prc: 0.3735 - val_loss: 0.5657 - val_tp: 454.0000 - val_fp: 878.0000 - val_tn: 2312.0000 - val_fn: 228.0000 - val_accuracy: 0.7144 - val_precision: 0.3408 - val_recall: 0.6657 - val_auc: 0.7590 - val_prc: 0.4220\n",
            "Epoch 3/50\n",
            "417/417 [==============================] - 18s 42ms/step - loss: 0.5558 - tp: 1341.0000 - fp: 3206.0000 - tn: 8224.0000 - fn: 551.0000 - accuracy: 0.7180 - precision: 0.2949 - recall: 0.7088 - auc: 0.7907 - prc: 0.4331 - val_loss: 0.5839 - val_tp: 512.0000 - val_fp: 1057.0000 - val_tn: 2133.0000 - val_fn: 170.0000 - val_accuracy: 0.6831 - val_precision: 0.3263 - val_recall: 0.7507 - val_auc: 0.7843 - val_prc: 0.4482\n",
            "Epoch 4/50\n",
            "417/417 [==============================] - 17s 41ms/step - loss: 0.5316 - tp: 1395.0000 - fp: 3068.0000 - tn: 8362.0000 - fn: 497.0000 - accuracy: 0.7324 - precision: 0.3126 - recall: 0.7373 - auc: 0.8119 - prc: 0.4592 - val_loss: 0.6055 - val_tp: 549.0000 - val_fp: 1147.0000 - val_tn: 2043.0000 - val_fn: 133.0000 - val_accuracy: 0.6694 - val_precision: 0.3237 - val_recall: 0.8050 - val_auc: 0.7982 - val_prc: 0.4658\n",
            "Epoch 5/50\n",
            "417/417 [==============================] - ETA: 0s - loss: 0.5076 - tp: 1438.0000 - fp: 2833.0000 - tn: 8597.0000 - fn: 454.0000 - accuracy: 0.7533 - precision: 0.3367 - recall: 0.7600 - auc: 0.8339 - prc: 0.4895"
          ]
        },
        {
          "output_type": "display_data",
          "data": {
            "text/plain": [
              "<IPython.core.display.HTML object>"
            ],
            "text/html": [
              "Waiting for W&B process to finish... <strong style=\"color:red\">(failed 1).</strong> Press Control-C to abort syncing."
            ]
          },
          "metadata": {}
        },
        {
          "output_type": "display_data",
          "data": {
            "text/plain": [
              "VBox(children=(Label(value='0.002 MB of 0.002 MB uploaded (0.000 MB deduped)\\r'), FloatProgress(value=1.0, max…"
            ],
            "application/vnd.jupyter.widget-view+json": {
              "version_major": 2,
              "version_minor": 0,
              "model_id": "6e340a2959df42a9bf4f9cf9eeefc3c4"
            }
          },
          "metadata": {}
        },
        {
          "output_type": "display_data",
          "data": {
            "text/plain": [
              "<IPython.core.display.HTML object>"
            ],
            "text/html": [
              "<style>\n",
              "    table.wandb td:nth-child(1) { padding: 0 10px; text-align: left ; width: auto;} td:nth-child(2) {text-align: left ; width: 100%}\n",
              "    .wandb-row { display: flex; flex-direction: row; flex-wrap: wrap; justify-content: flex-start; width: 100% }\n",
              "    .wandb-col { display: flex; flex-direction: column; flex-basis: 100%; flex: 1; padding: 10px; }\n",
              "    </style>\n",
              "<div class=\"wandb-row\"><div class=\"wandb-col\"><h3>Run history:</h3><br/><table class=\"wandb\"><tr><td>accuracy</td><td>▃▁▅█</td></tr><tr><td>auc</td><td>▁▃▆█</td></tr><tr><td>epoch</td><td>▁▃▆█</td></tr><tr><td>fn</td><td>█▂▂▁</td></tr><tr><td>fp</td><td>█▄▂▁</td></tr><tr><td>loss</td><td>█▄▃▁</td></tr><tr><td>prc</td><td>▆▁▆█</td></tr><tr><td>precision</td><td>▂▁▅█</td></tr><tr><td>recall</td><td>▁▆▆█</td></tr><tr><td>tn</td><td>█▁▂▂</td></tr><tr><td>tp</td><td>█▁▁▂</td></tr><tr><td>val_accuracy</td><td>▄█▃▁</td></tr><tr><td>val_auc</td><td>▁▃▆█</td></tr><tr><td>val_fn</td><td>▇█▄▁</td></tr><tr><td>val_fp</td><td>▄▁▆█</td></tr><tr><td>val_loss</td><td>▆▁▄█</td></tr><tr><td>val_prc</td><td>▁▅▇█</td></tr><tr><td>val_precision</td><td>▁█▂▁</td></tr><tr><td>val_recall</td><td>▂▁▅█</td></tr><tr><td>val_tn</td><td>▅█▃▁</td></tr><tr><td>val_tp</td><td>▂▁▅█</td></tr></table><br/></div><div class=\"wandb-col\"><h3>Run summary:</h3><br/><table class=\"wandb\"><tr><td>GFLOPs</td><td>0.00011</td></tr><tr><td>accuracy</td><td>0.7324</td></tr><tr><td>auc</td><td>0.81191</td></tr><tr><td>best_epoch</td><td>1</td></tr><tr><td>best_val_loss</td><td>0.5657</td></tr><tr><td>epoch</td><td>3</td></tr><tr><td>fn</td><td>497.0</td></tr><tr><td>fp</td><td>3068.0</td></tr><tr><td>loss</td><td>0.53156</td></tr><tr><td>prc</td><td>0.45916</td></tr><tr><td>precision</td><td>0.31257</td></tr><tr><td>recall</td><td>0.73731</td></tr><tr><td>tn</td><td>8362.0</td></tr><tr><td>tp</td><td>1395.0</td></tr><tr><td>val_accuracy</td><td>0.66942</td></tr><tr><td>val_auc</td><td>0.79824</td></tr><tr><td>val_fn</td><td>133.0</td></tr><tr><td>val_fp</td><td>1147.0</td></tr><tr><td>val_loss</td><td>0.60548</td></tr><tr><td>val_prc</td><td>0.46581</td></tr><tr><td>val_precision</td><td>0.3237</td></tr><tr><td>val_recall</td><td>0.80499</td></tr><tr><td>val_tn</td><td>2043.0</td></tr><tr><td>val_tp</td><td>549.0</td></tr></table><br/></div></div>"
            ]
          },
          "metadata": {}
        },
        {
          "output_type": "display_data",
          "data": {
            "text/plain": [
              "<IPython.core.display.HTML object>"
            ],
            "text/html": [
              "Synced <strong style=\"color:#cdcd00\">dauntless-sweep-22</strong>: <a href=\"https://wandb.ai/mindadeepam/medusa-sweeps/runs/4ed6q74z\" target=\"_blank\">https://wandb.ai/mindadeepam/medusa-sweeps/runs/4ed6q74z</a><br/>Synced 5 W&B file(s), 1 media file(s), 0 artifact file(s) and 0 other file(s)"
            ]
          },
          "metadata": {}
        },
        {
          "output_type": "display_data",
          "data": {
            "text/plain": [
              "<IPython.core.display.HTML object>"
            ],
            "text/html": [
              "Find logs at: <code>./wandb/run-20220831_184530-4ed6q74z/logs</code>"
            ]
          },
          "metadata": {}
        },
        {
          "output_type": "stream",
          "name": "stderr",
          "text": [
            "\u001b[34m\u001b[1mwandb\u001b[0m: Agent Starting Run: wgoa9oo6 with config:\n",
            "\u001b[34m\u001b[1mwandb\u001b[0m: \tdense_units: 32\n",
            "\u001b[34m\u001b[1mwandb\u001b[0m: \tdropout_1: 0.6\n",
            "\u001b[34m\u001b[1mwandb\u001b[0m: \tdropout_2: 0.4\n",
            "\u001b[34m\u001b[1mwandb\u001b[0m: \tdropout_3: 0.6\n",
            "\u001b[34m\u001b[1mwandb\u001b[0m: \tembedding_dimensions: 50\n",
            "\u001b[34m\u001b[1mwandb\u001b[0m: \tepochs: 50\n",
            "\u001b[34m\u001b[1mwandb\u001b[0m: \tlearning_rate: 0.05942206156822357\n",
            "\u001b[34m\u001b[1mwandb\u001b[0m: \tlstm_units: 32\n",
            "\u001b[34m\u001b[1mwandb\u001b[0m: \tmodel: RNN (lstm)\n",
            "\u001b[34m\u001b[1mwandb\u001b[0m: \toptimizer: Adam\n",
            "\u001b[34m\u001b[1mwandb\u001b[0m: \ttokenization: character\n"
          ]
        },
        {
          "output_type": "display_data",
          "data": {
            "text/plain": [
              "<IPython.core.display.HTML object>"
            ],
            "text/html": [
              "Tracking run with wandb version 0.13.2"
            ]
          },
          "metadata": {}
        },
        {
          "output_type": "display_data",
          "data": {
            "text/plain": [
              "<IPython.core.display.HTML object>"
            ],
            "text/html": [
              "Run data is saved locally in <code>/content/wandb/run-20220831_184734-wgoa9oo6</code>"
            ]
          },
          "metadata": {}
        },
        {
          "output_type": "display_data",
          "data": {
            "text/plain": [
              "<IPython.core.display.HTML object>"
            ],
            "text/html": [
              "Syncing run <strong><a href=\"https://wandb.ai/mindadeepam/medusa-sweeps/runs/wgoa9oo6\" target=\"_blank\">generous-sweep-23</a></strong> to <a href=\"https://wandb.ai/mindadeepam/medusa-sweeps\" target=\"_blank\">Weights & Biases</a> (<a href=\"https://wandb.me/run\" target=\"_blank\">docs</a>)<br/>Sweep page:  <a href=\"https://wandb.ai/mindadeepam/medusa-sweeps/sweeps/0hljr5r1\" target=\"_blank\">https://wandb.ai/mindadeepam/medusa-sweeps/sweeps/0hljr5r1</a>"
            ]
          },
          "metadata": {}
        },
        {
          "output_type": "stream",
          "name": "stdout",
          "text": [
            "mkdir: cannot create directory ‘tmp’: File exists\n",
            "Epoch 1/50\n",
            "417/417 [==============================] - 27s 53ms/step - loss: 0.6365 - tp: 1847.0000 - fp: 5797.0000 - tn: 8823.0000 - fn: 727.0000 - accuracy: 0.6206 - precision: 0.2416 - recall: 0.7176 - auc: 0.7284 - prc: 0.3424 - val_loss: 0.5006 - val_tp: 326.0000 - val_fp: 475.0000 - val_tn: 2715.0000 - val_fn: 356.0000 - val_accuracy: 0.7854 - val_precision: 0.4070 - val_recall: 0.4780 - val_auc: 0.7312 - val_prc: 0.3884\n",
            "Epoch 2/50\n",
            "417/417 [==============================] - 19s 45ms/step - loss: 0.5841 - tp: 1295.0000 - fp: 3379.0000 - tn: 8051.0000 - fn: 597.0000 - accuracy: 0.7015 - precision: 0.2771 - recall: 0.6845 - auc: 0.7604 - prc: 0.3723 - val_loss: 0.5678 - val_tp: 447.0000 - val_fp: 903.0000 - val_tn: 2287.0000 - val_fn: 235.0000 - val_accuracy: 0.7061 - val_precision: 0.3311 - val_recall: 0.6554 - val_auc: 0.7530 - val_prc: 0.3925\n",
            "Epoch 3/50\n",
            "417/417 [==============================] - 19s 45ms/step - loss: 0.5596 - tp: 1353.0000 - fp: 3237.0000 - tn: 8193.0000 - fn: 539.0000 - accuracy: 0.7166 - precision: 0.2948 - recall: 0.7151 - auc: 0.7875 - prc: 0.4174 - val_loss: 0.4312 - val_tp: 289.0000 - val_fp: 308.0000 - val_tn: 2882.0000 - val_fn: 393.0000 - val_accuracy: 0.8190 - val_precision: 0.4841 - val_recall: 0.4238 - val_auc: 0.7757 - val_prc: 0.4539\n",
            "Epoch 4/50\n",
            "417/417 [==============================] - 19s 45ms/step - loss: 0.5216 - tp: 1390.0000 - fp: 2814.0000 - tn: 8616.0000 - fn: 502.0000 - accuracy: 0.7511 - precision: 0.3306 - recall: 0.7347 - auc: 0.8200 - prc: 0.4787 - val_loss: 0.4753 - val_tp: 451.0000 - val_fp: 596.0000 - val_tn: 2594.0000 - val_fn: 231.0000 - val_accuracy: 0.7864 - val_precision: 0.4308 - val_recall: 0.6613 - val_auc: 0.8210 - val_prc: 0.5008\n",
            "Epoch 5/50\n",
            "417/417 [==============================] - 19s 45ms/step - loss: 0.4721 - tp: 1449.0000 - fp: 2412.0000 - tn: 9018.0000 - fn: 443.0000 - accuracy: 0.7857 - precision: 0.3753 - recall: 0.7659 - auc: 0.8598 - prc: 0.5472 - val_loss: 0.5529 - val_tp: 574.0000 - val_fp: 920.0000 - val_tn: 2270.0000 - val_fn: 108.0000 - val_accuracy: 0.7345 - val_precision: 0.3842 - val_recall: 0.8416 - val_auc: 0.8538 - val_prc: 0.5806\n",
            "Epoch 6/50\n",
            "417/417 [==============================] - 19s 45ms/step - loss: 0.4361 - tp: 1480.0000 - fp: 2074.0000 - tn: 9356.0000 - fn: 412.0000 - accuracy: 0.8134 - precision: 0.4164 - recall: 0.7822 - auc: 0.8816 - prc: 0.6072 - val_loss: 0.3993 - val_tp: 441.0000 - val_fp: 373.0000 - val_tn: 2817.0000 - val_fn: 241.0000 - val_accuracy: 0.8414 - val_precision: 0.5418 - val_recall: 0.6466 - val_auc: 0.8561 - val_prc: 0.6085\n",
            "Epoch 7/50\n",
            "417/417 [==============================] - 17s 41ms/step - loss: 0.4118 - tp: 1509.0000 - fp: 1846.0000 - tn: 9584.0000 - fn: 383.0000 - accuracy: 0.8327 - precision: 0.4498 - recall: 0.7976 - auc: 0.8958 - prc: 0.6498 - val_loss: 0.3795 - val_tp: 464.0000 - val_fp: 334.0000 - val_tn: 2856.0000 - val_fn: 218.0000 - val_accuracy: 0.8574 - val_precision: 0.5815 - val_recall: 0.6804 - val_auc: 0.8709 - val_prc: 0.6327\n",
            "Epoch 8/50\n",
            "417/417 [==============================] - 19s 45ms/step - loss: 0.3827 - tp: 1533.0000 - fp: 1568.0000 - tn: 9862.0000 - fn: 359.0000 - accuracy: 0.8554 - precision: 0.4944 - recall: 0.8103 - auc: 0.9109 - prc: 0.6884 - val_loss: 0.3663 - val_tp: 464.0000 - val_fp: 263.0000 - val_tn: 2927.0000 - val_fn: 218.0000 - val_accuracy: 0.8758 - val_precision: 0.6382 - val_recall: 0.6804 - val_auc: 0.8757 - val_prc: 0.6554\n",
            "Epoch 9/50\n",
            "417/417 [==============================] - 17s 41ms/step - loss: 0.3721 - tp: 1534.0000 - fp: 1483.0000 - tn: 9947.0000 - fn: 358.0000 - accuracy: 0.8618 - precision: 0.5085 - recall: 0.8108 - auc: 0.9158 - prc: 0.7121 - val_loss: 0.5695 - val_tp: 574.0000 - val_fp: 782.0000 - val_tn: 2408.0000 - val_fn: 108.0000 - val_accuracy: 0.7701 - val_precision: 0.4233 - val_recall: 0.8416 - val_auc: 0.8780 - val_prc: 0.6331\n",
            "Epoch 10/50\n",
            "417/417 [==============================] - 18s 43ms/step - loss: 0.3487 - tp: 1581.0000 - fp: 1427.0000 - tn: 10003.0000 - fn: 311.0000 - accuracy: 0.8695 - precision: 0.5256 - recall: 0.8356 - auc: 0.9267 - prc: 0.7315 - val_loss: 0.3418 - val_tp: 402.0000 - val_fp: 158.0000 - val_tn: 3032.0000 - val_fn: 280.0000 - val_accuracy: 0.8869 - val_precision: 0.7179 - val_recall: 0.5894 - val_auc: 0.8669 - val_prc: 0.6739\n",
            "Epoch 11/50\n",
            "417/417 [==============================] - 17s 41ms/step - loss: 0.3311 - tp: 1562.0000 - fp: 1279.0000 - tn: 10151.0000 - fn: 330.0000 - accuracy: 0.8792 - precision: 0.5498 - recall: 0.8256 - auc: 0.9339 - prc: 0.7537 - val_loss: 0.4316 - val_tp: 537.0000 - val_fp: 463.0000 - val_tn: 2727.0000 - val_fn: 145.0000 - val_accuracy: 0.8430 - val_precision: 0.5370 - val_recall: 0.7874 - val_auc: 0.8883 - val_prc: 0.6766\n",
            "Epoch 12/50\n",
            "417/417 [==============================] - 17s 41ms/step - loss: 0.3137 - tp: 1608.0000 - fp: 1164.0000 - tn: 10266.0000 - fn: 284.0000 - accuracy: 0.8913 - precision: 0.5801 - recall: 0.8499 - auc: 0.9396 - prc: 0.7730 - val_loss: 0.4009 - val_tp: 494.0000 - val_fp: 342.0000 - val_tn: 2848.0000 - val_fn: 188.0000 - val_accuracy: 0.8631 - val_precision: 0.5909 - val_recall: 0.7243 - val_auc: 0.8859 - val_prc: 0.6814\n",
            "Epoch 13/50\n",
            "417/417 [==============================] - 17s 41ms/step - loss: 0.3011 - tp: 1631.0000 - fp: 1104.0000 - tn: 10326.0000 - fn: 261.0000 - accuracy: 0.8975 - precision: 0.5963 - recall: 0.8621 - auc: 0.9455 - prc: 0.7848 - val_loss: 0.3502 - val_tp: 461.0000 - val_fp: 233.0000 - val_tn: 2957.0000 - val_fn: 221.0000 - val_accuracy: 0.8827 - val_precision: 0.6643 - val_recall: 0.6760 - val_auc: 0.8904 - val_prc: 0.7013\n",
            "Epoch 14/50\n",
            "417/417 [==============================] - 19s 45ms/step - loss: 0.2905 - tp: 1643.0000 - fp: 1082.0000 - tn: 10348.0000 - fn: 249.0000 - accuracy: 0.9001 - precision: 0.6029 - recall: 0.8684 - auc: 0.9487 - prc: 0.7906 - val_loss: 0.3398 - val_tp: 470.0000 - val_fp: 213.0000 - val_tn: 2977.0000 - val_fn: 212.0000 - val_accuracy: 0.8902 - val_precision: 0.6881 - val_recall: 0.6891 - val_auc: 0.8878 - val_prc: 0.7217\n",
            "Epoch 15/50\n",
            "417/417 [==============================] - 19s 45ms/step - loss: 0.2714 - tp: 1650.0000 - fp: 957.0000 - tn: 10473.0000 - fn: 242.0000 - accuracy: 0.9100 - precision: 0.6329 - recall: 0.8721 - auc: 0.9549 - prc: 0.8134 - val_loss: 0.4298 - val_tp: 548.0000 - val_fp: 419.0000 - val_tn: 2771.0000 - val_fn: 134.0000 - val_accuracy: 0.8572 - val_precision: 0.5667 - val_recall: 0.8035 - val_auc: 0.9043 - val_prc: 0.6951\n",
            "Epoch 16/50\n",
            "417/417 [==============================] - 17s 41ms/step - loss: 0.2683 - tp: 1648.0000 - fp: 972.0000 - tn: 10458.0000 - fn: 244.0000 - accuracy: 0.9087 - precision: 0.6290 - recall: 0.8710 - auc: 0.9567 - prc: 0.8136 - val_loss: 0.3575 - val_tp: 478.0000 - val_fp: 235.0000 - val_tn: 2955.0000 - val_fn: 204.0000 - val_accuracy: 0.8866 - val_precision: 0.6704 - val_recall: 0.7009 - val_auc: 0.8910 - val_prc: 0.7056\n",
            "Epoch 17/50\n",
            "417/417 [==============================] - 17s 42ms/step - loss: 0.2665 - tp: 1671.0000 - fp: 923.0000 - tn: 10507.0000 - fn: 221.0000 - accuracy: 0.9141 - precision: 0.6442 - recall: 0.8832 - auc: 0.9565 - prc: 0.8216 - val_loss: 0.3855 - val_tp: 523.0000 - val_fp: 342.0000 - val_tn: 2848.0000 - val_fn: 159.0000 - val_accuracy: 0.8706 - val_precision: 0.6046 - val_recall: 0.7669 - val_auc: 0.9006 - val_prc: 0.7205\n",
            "Epoch 18/50\n",
            "417/417 [==============================] - 20s 47ms/step - loss: 0.2500 - tp: 1669.0000 - fp: 913.0000 - tn: 10517.0000 - fn: 223.0000 - accuracy: 0.9147 - precision: 0.6464 - recall: 0.8821 - auc: 0.9630 - prc: 0.8260 - val_loss: 0.3515 - val_tp: 479.0000 - val_fp: 227.0000 - val_tn: 2963.0000 - val_fn: 203.0000 - val_accuracy: 0.8889 - val_precision: 0.6785 - val_recall: 0.7023 - val_auc: 0.9014 - val_prc: 0.7105\n",
            "Epoch 19/50\n",
            "417/417 [==============================] - 19s 45ms/step - loss: 0.2470 - tp: 1678.0000 - fp: 826.0000 - tn: 10604.0000 - fn: 214.0000 - accuracy: 0.9219 - precision: 0.6701 - recall: 0.8869 - auc: 0.9628 - prc: 0.8372 - val_loss: 0.3409 - val_tp: 488.0000 - val_fp: 224.0000 - val_tn: 2966.0000 - val_fn: 194.0000 - val_accuracy: 0.8920 - val_precision: 0.6854 - val_recall: 0.7155 - val_auc: 0.9028 - val_prc: 0.7274\n",
            "Epoch 20/50\n",
            "417/417 [==============================] - 18s 42ms/step - loss: 0.2379 - tp: 1679.0000 - fp: 824.0000 - tn: 10606.0000 - fn: 213.0000 - accuracy: 0.9222 - precision: 0.6708 - recall: 0.8874 - auc: 0.9661 - prc: 0.8372 - val_loss: 0.3618 - val_tp: 498.0000 - val_fp: 258.0000 - val_tn: 2932.0000 - val_fn: 184.0000 - val_accuracy: 0.8858 - val_precision: 0.6587 - val_recall: 0.7302 - val_auc: 0.8995 - val_prc: 0.7208\n",
            "Epoch 21/50\n",
            "417/417 [==============================] - 19s 46ms/step - loss: 0.2349 - tp: 1698.0000 - fp: 794.0000 - tn: 10636.0000 - fn: 194.0000 - accuracy: 0.9258 - precision: 0.6814 - recall: 0.8975 - auc: 0.9658 - prc: 0.8391 - val_loss: 0.3417 - val_tp: 475.0000 - val_fp: 207.0000 - val_tn: 2983.0000 - val_fn: 207.0000 - val_accuracy: 0.8931 - val_precision: 0.6965 - val_recall: 0.6965 - val_auc: 0.9026 - val_prc: 0.7192\n",
            "Epoch 22/50\n",
            "417/417 [==============================] - 19s 46ms/step - loss: 0.2297 - tp: 1691.0000 - fp: 753.0000 - tn: 10677.0000 - fn: 201.0000 - accuracy: 0.9284 - precision: 0.6919 - recall: 0.8938 - auc: 0.9678 - prc: 0.8501 - val_loss: 0.3931 - val_tp: 497.0000 - val_fp: 274.0000 - val_tn: 2916.0000 - val_fn: 185.0000 - val_accuracy: 0.8815 - val_precision: 0.6446 - val_recall: 0.7287 - val_auc: 0.8962 - val_prc: 0.7035\n",
            "Epoch 23/50\n",
            "417/417 [==============================] - 19s 46ms/step - loss: 0.2207 - tp: 1706.0000 - fp: 723.0000 - tn: 10707.0000 - fn: 186.0000 - accuracy: 0.9318 - precision: 0.7023 - recall: 0.9017 - auc: 0.9701 - prc: 0.8540 - val_loss: 0.4191 - val_tp: 548.0000 - val_fp: 361.0000 - val_tn: 2829.0000 - val_fn: 134.0000 - val_accuracy: 0.8722 - val_precision: 0.6029 - val_recall: 0.8035 - val_auc: 0.9138 - val_prc: 0.7158\n",
            "Epoch 24/50\n",
            "417/417 [==============================] - 19s 46ms/step - loss: 0.2139 - tp: 1716.0000 - fp: 770.0000 - tn: 10660.0000 - fn: 176.0000 - accuracy: 0.9290 - precision: 0.6903 - recall: 0.9070 - auc: 0.9722 - prc: 0.8624 - val_loss: 0.3324 - val_tp: 461.0000 - val_fp: 158.0000 - val_tn: 3032.0000 - val_fn: 221.0000 - val_accuracy: 0.9021 - val_precision: 0.7447 - val_recall: 0.6760 - val_auc: 0.8968 - val_prc: 0.7324\n",
            "Epoch 25/50\n",
            "417/417 [==============================] - 18s 43ms/step - loss: 0.2122 - tp: 1718.0000 - fp: 714.0000 - tn: 10716.0000 - fn: 174.0000 - accuracy: 0.9333 - precision: 0.7064 - recall: 0.9080 - auc: 0.9722 - prc: 0.8683 - val_loss: 0.3925 - val_tp: 517.0000 - val_fp: 270.0000 - val_tn: 2920.0000 - val_fn: 165.0000 - val_accuracy: 0.8877 - val_precision: 0.6569 - val_recall: 0.7581 - val_auc: 0.9092 - val_prc: 0.7198\n",
            "Epoch 26/50\n",
            "417/417 [==============================] - 19s 47ms/step - loss: 0.2171 - tp: 1711.0000 - fp: 763.0000 - tn: 10667.0000 - fn: 181.0000 - accuracy: 0.9291 - precision: 0.6916 - recall: 0.9043 - auc: 0.9718 - prc: 0.8614 - val_loss: 0.3464 - val_tp: 491.0000 - val_fp: 185.0000 - val_tn: 3005.0000 - val_fn: 191.0000 - val_accuracy: 0.9029 - val_precision: 0.7263 - val_recall: 0.7199 - val_auc: 0.9094 - val_prc: 0.7311\n",
            "Epoch 27/50\n",
            "417/417 [==============================] - 18s 42ms/step - loss: 0.2074 - tp: 1717.0000 - fp: 697.0000 - tn: 10733.0000 - fn: 175.0000 - accuracy: 0.9345 - precision: 0.7113 - recall: 0.9075 - auc: 0.9744 - prc: 0.8643 - val_loss: 0.3287 - val_tp: 506.0000 - val_fp: 195.0000 - val_tn: 2995.0000 - val_fn: 176.0000 - val_accuracy: 0.9042 - val_precision: 0.7218 - val_recall: 0.7419 - val_auc: 0.9088 - val_prc: 0.7439\n",
            "Epoch 28/50\n",
            "417/417 [==============================] - 17s 42ms/step - loss: 0.2040 - tp: 1725.0000 - fp: 708.0000 - tn: 10722.0000 - fn: 167.0000 - accuracy: 0.9343 - precision: 0.7090 - recall: 0.9117 - auc: 0.9741 - prc: 0.8749 - val_loss: 0.3252 - val_tp: 478.0000 - val_fp: 148.0000 - val_tn: 3042.0000 - val_fn: 204.0000 - val_accuracy: 0.9091 - val_precision: 0.7636 - val_recall: 0.7009 - val_auc: 0.9053 - val_prc: 0.7519\n",
            "Epoch 29/50\n",
            "417/417 [==============================] - 19s 46ms/step - loss: 0.1945 - tp: 1728.0000 - fp: 664.0000 - tn: 10766.0000 - fn: 164.0000 - accuracy: 0.9378 - precision: 0.7224 - recall: 0.9133 - auc: 0.9767 - prc: 0.8842 - val_loss: 0.3189 - val_tp: 498.0000 - val_fp: 175.0000 - val_tn: 3015.0000 - val_fn: 184.0000 - val_accuracy: 0.9073 - val_precision: 0.7400 - val_recall: 0.7302 - val_auc: 0.9155 - val_prc: 0.7517\n",
            "Epoch 30/50\n",
            "417/417 [==============================] - 19s 46ms/step - loss: 0.1916 - tp: 1738.0000 - fp: 641.0000 - tn: 10789.0000 - fn: 154.0000 - accuracy: 0.9403 - precision: 0.7306 - recall: 0.9186 - auc: 0.9774 - prc: 0.8817 - val_loss: 0.3381 - val_tp: 512.0000 - val_fp: 207.0000 - val_tn: 2983.0000 - val_fn: 170.0000 - val_accuracy: 0.9026 - val_precision: 0.7121 - val_recall: 0.7507 - val_auc: 0.9087 - val_prc: 0.7444\n",
            "Epoch 31/50\n",
            "417/417 [==============================] - 18s 44ms/step - loss: 0.2003 - tp: 1721.0000 - fp: 678.0000 - tn: 10752.0000 - fn: 171.0000 - accuracy: 0.9363 - precision: 0.7174 - recall: 0.9096 - auc: 0.9756 - prc: 0.8790 - val_loss: 0.3705 - val_tp: 550.0000 - val_fp: 276.0000 - val_tn: 2914.0000 - val_fn: 132.0000 - val_accuracy: 0.8946 - val_precision: 0.6659 - val_recall: 0.8065 - val_auc: 0.9212 - val_prc: 0.7519\n",
            "Epoch 32/50\n",
            "417/417 [==============================] - 17s 42ms/step - loss: 0.1966 - tp: 1729.0000 - fp: 669.0000 - tn: 10761.0000 - fn: 163.0000 - accuracy: 0.9375 - precision: 0.7210 - recall: 0.9138 - auc: 0.9763 - prc: 0.8775 - val_loss: 0.3663 - val_tp: 528.0000 - val_fp: 256.0000 - val_tn: 2934.0000 - val_fn: 154.0000 - val_accuracy: 0.8941 - val_precision: 0.6735 - val_recall: 0.7742 - val_auc: 0.9100 - val_prc: 0.7335\n",
            "Epoch 33/50\n",
            "417/417 [==============================] - 19s 46ms/step - loss: 0.1829 - tp: 1745.0000 - fp: 611.0000 - tn: 10819.0000 - fn: 147.0000 - accuracy: 0.9431 - precision: 0.7407 - recall: 0.9223 - auc: 0.9787 - prc: 0.8802 - val_loss: 0.3355 - val_tp: 470.0000 - val_fp: 152.0000 - val_tn: 3038.0000 - val_fn: 212.0000 - val_accuracy: 0.9060 - val_precision: 0.7556 - val_recall: 0.6891 - val_auc: 0.9037 - val_prc: 0.7401\n",
            "Epoch 34/50\n",
            "417/417 [==============================] - 19s 46ms/step - loss: 0.1806 - tp: 1742.0000 - fp: 588.0000 - tn: 10842.0000 - fn: 150.0000 - accuracy: 0.9446 - precision: 0.7476 - recall: 0.9207 - auc: 0.9801 - prc: 0.8886 - val_loss: 0.3898 - val_tp: 545.0000 - val_fp: 250.0000 - val_tn: 2940.0000 - val_fn: 137.0000 - val_accuracy: 0.9001 - val_precision: 0.6855 - val_recall: 0.7991 - val_auc: 0.9185 - val_prc: 0.7370\n",
            "Epoch 35/50\n",
            "417/417 [==============================] - 18s 42ms/step - loss: 0.1816 - tp: 1742.0000 - fp: 616.0000 - tn: 10814.0000 - fn: 150.0000 - accuracy: 0.9425 - precision: 0.7388 - recall: 0.9207 - auc: 0.9796 - prc: 0.8937 - val_loss: 0.3457 - val_tp: 521.0000 - val_fp: 183.0000 - val_tn: 3007.0000 - val_fn: 161.0000 - val_accuracy: 0.9112 - val_precision: 0.7401 - val_recall: 0.7639 - val_auc: 0.9178 - val_prc: 0.7557\n",
            "Epoch 36/50\n",
            "417/417 [==============================] - 17s 41ms/step - loss: 0.1832 - tp: 1748.0000 - fp: 585.0000 - tn: 10845.0000 - fn: 144.0000 - accuracy: 0.9453 - precision: 0.7492 - recall: 0.9239 - auc: 0.9791 - prc: 0.8890 - val_loss: 0.3520 - val_tp: 510.0000 - val_fp: 190.0000 - val_tn: 3000.0000 - val_fn: 172.0000 - val_accuracy: 0.9065 - val_precision: 0.7286 - val_recall: 0.7478 - val_auc: 0.9135 - val_prc: 0.7400\n",
            "Epoch 37/50\n",
            "417/417 [==============================] - 19s 46ms/step - loss: 0.1797 - tp: 1733.0000 - fp: 620.0000 - tn: 10810.0000 - fn: 159.0000 - accuracy: 0.9415 - precision: 0.7365 - recall: 0.9160 - auc: 0.9803 - prc: 0.8942 - val_loss: 0.3659 - val_tp: 541.0000 - val_fp: 221.0000 - val_tn: 2969.0000 - val_fn: 141.0000 - val_accuracy: 0.9065 - val_precision: 0.7100 - val_recall: 0.7933 - val_auc: 0.9232 - val_prc: 0.7508\n",
            "Epoch 38/50\n",
            "417/417 [==============================] - 20s 49ms/step - loss: 0.1736 - tp: 1768.0000 - fp: 584.0000 - tn: 10846.0000 - fn: 124.0000 - accuracy: 0.9469 - precision: 0.7517 - recall: 0.9345 - auc: 0.9808 - prc: 0.8903 - val_loss: 0.3289 - val_tp: 476.0000 - val_fp: 141.0000 - val_tn: 3049.0000 - val_fn: 206.0000 - val_accuracy: 0.9104 - val_precision: 0.7715 - val_recall: 0.6979 - val_auc: 0.9089 - val_prc: 0.7554\n",
            "Epoch 39/50\n",
            "417/417 [==============================] - 19s 46ms/step - loss: 0.1706 - tp: 1758.0000 - fp: 588.0000 - tn: 10842.0000 - fn: 134.0000 - accuracy: 0.9458 - precision: 0.7494 - recall: 0.9292 - auc: 0.9815 - prc: 0.8965 - val_loss: 0.3709 - val_tp: 535.0000 - val_fp: 231.0000 - val_tn: 2959.0000 - val_fn: 147.0000 - val_accuracy: 0.9024 - val_precision: 0.6984 - val_recall: 0.7845 - val_auc: 0.9202 - val_prc: 0.7482\n"
          ]
        },
        {
          "output_type": "display_data",
          "data": {
            "text/plain": [
              "<IPython.core.display.HTML object>"
            ],
            "text/html": [
              "Waiting for W&B process to finish... <strong style=\"color:green\">(success).</strong>"
            ]
          },
          "metadata": {}
        },
        {
          "output_type": "display_data",
          "data": {
            "text/plain": [
              "VBox(children=(Label(value='0.002 MB of 0.002 MB uploaded (0.000 MB deduped)\\r'), FloatProgress(value=1.0, max…"
            ],
            "application/vnd.jupyter.widget-view+json": {
              "version_major": 2,
              "version_minor": 0,
              "model_id": "6fad187ed646489a9c96486f65323689"
            }
          },
          "metadata": {}
        },
        {
          "output_type": "display_data",
          "data": {
            "text/plain": [
              "<IPython.core.display.HTML object>"
            ],
            "text/html": [
              "<style>\n",
              "    table.wandb td:nth-child(1) { padding: 0 10px; text-align: left ; width: auto;} td:nth-child(2) {text-align: left ; width: 100%}\n",
              "    .wandb-row { display: flex; flex-direction: row; flex-wrap: wrap; justify-content: flex-start; width: 100% }\n",
              "    .wandb-col { display: flex; flex-direction: column; flex-basis: 100%; flex: 1; padding: 10px; }\n",
              "    </style>\n",
              "<div class=\"wandb-row\"><div class=\"wandb-col\"><h3>Run history:</h3><br/><table class=\"wandb\"><tr><td>accuracy</td><td>▁▃▃▄▅▅▆▆▆▆▇▇▇▇▇▇▇▇▇▇███████████████████</td></tr><tr><td>auc</td><td>▁▂▃▄▅▅▆▆▆▆▇▇▇▇▇▇▇▇▇████████████████████</td></tr><tr><td>epoch</td><td>▁▁▁▂▂▂▂▂▂▃▃▃▃▃▄▄▄▄▄▅▅▅▅▅▅▆▆▆▆▆▇▇▇▇▇▇███</td></tr><tr><td>fn</td><td>█▆▆▅▅▄▄▄▄▃▃▃▃▂▂▂▂▂▂▂▂▂▂▂▂▂▂▁▁▁▂▁▁▁▁▁▁▁▁</td></tr><tr><td>fp</td><td>█▅▅▄▃▃▃▂▂▂▂▂▂▂▂▂▁▁▁▁▁▁▁▁▁▁▁▁▁▁▁▁▁▁▁▁▁▁▁</td></tr><tr><td>loss</td><td>█▇▇▆▆▅▅▄▄▄▃▃▃▃▃▂▂▂▂▂▂▂▂▂▂▂▂▂▁▁▁▁▁▁▁▁▁▁▁</td></tr><tr><td>prc</td><td>▁▁▂▃▄▄▅▅▆▆▆▆▇▇▇▇▇▇▇▇▇▇▇████████████████</td></tr><tr><td>precision</td><td>▁▁▂▂▃▃▄▄▅▅▅▆▆▆▆▆▇▇▇▇▇▇▇▇▇▇▇▇███████████</td></tr><tr><td>recall</td><td>▂▁▂▂▃▄▄▅▅▅▅▆▆▆▆▆▇▇▇▇▇▇▇▇▇▇▇▇▇█▇▇████▇██</td></tr><tr><td>tn</td><td>▃▁▁▂▃▄▅▆▆▆▆▇▇▇▇▇▇▇▇▇▇██████████████████</td></tr><tr><td>tp</td><td>█▁▂▂▃▃▄▄▄▅▄▅▅▅▆▅▆▆▆▆▆▆▆▆▆▆▆▆▆▇▆▇▇▇▇▇▇▇▇</td></tr><tr><td>val_accuracy</td><td>▄▁▅▄▂▆▆▇▃▇▆▆▇▇▆▇▇▇▇▇▇▇▇█▇█████▇▇███████</td></tr><tr><td>val_auc</td><td>▁▂▃▄▅▆▆▆▆▆▇▇▇▇▇▇▇▇▇▇▇▇█▇▇▇▇▇█▇██▇████▇█</td></tr><tr><td>val_fn</td><td>▇▄█▄▁▄▄▄▁▅▂▃▄▄▂▃▂▃▃▃▃▃▂▄▂▃▃▃▃▃▂▂▄▂▂▃▂▃▂</td></tr><tr><td>val_fp</td><td>▄█▃▅█▃▃▂▇▁▄▃▂▂▃▂▃▂▂▂▂▂▃▁▂▁▁▁▁▂▂▂▁▂▁▁▂▁▂</td></tr><tr><td>val_loss</td><td>▆█▄▅█▃▃▂█▂▄▃▂▂▄▂▃▂▂▂▂▃▄▁▃▂▁▁▁▂▂▂▁▃▂▂▂▁▂</td></tr><tr><td>val_prc</td><td>▁▁▂▃▅▅▆▆▆▆▆▇▇▇▇▇▇▇▇▇▇▇▇█▇██████████████</td></tr><tr><td>val_precision</td><td>▂▁▃▃▂▄▅▆▂▇▄▅▆▇▅▆▅▇▇▆▇▆▅█▆▇▇█▇▇▆▆█▇█▇▇█▇</td></tr><tr><td>val_recall</td><td>▂▅▁▅█▅▅▅█▄▇▆▅▅▇▆▇▆▆▆▆▆▇▅▇▆▆▆▆▆▇▇▅▇▇▆▇▆▇</td></tr><tr><td>val_tn</td><td>▅▁▆▄▁▆▆▇▂█▅▆▇▇▆▇▆▇▇▇▇▇▆█▇████▇▇▇█▇██▇█▇</td></tr><tr><td>val_tp</td><td>▂▅▁▅█▅▅▅█▄▇▆▅▅▇▆▇▆▆▆▆▆▇▅▇▆▆▆▆▆▇▇▅▇▇▆▇▆▇</td></tr></table><br/></div><div class=\"wandb-col\"><h3>Run summary:</h3><br/><table class=\"wandb\"><tr><td>GFLOPs</td><td>0.00011</td></tr><tr><td>accuracy</td><td>0.9458</td></tr><tr><td>auc</td><td>0.9815</td></tr><tr><td>best_epoch</td><td>28</td></tr><tr><td>best_val_loss</td><td>0.3189</td></tr><tr><td>epoch</td><td>38</td></tr><tr><td>fn</td><td>134.0</td></tr><tr><td>fp</td><td>588.0</td></tr><tr><td>loss</td><td>0.1706</td></tr><tr><td>prc</td><td>0.89652</td></tr><tr><td>precision</td><td>0.74936</td></tr><tr><td>recall</td><td>0.92918</td></tr><tr><td>tn</td><td>10842.0</td></tr><tr><td>tp</td><td>1758.0</td></tr><tr><td>val_accuracy</td><td>0.90238</td></tr><tr><td>val_auc</td><td>0.92022</td></tr><tr><td>val_fn</td><td>147.0</td></tr><tr><td>val_fp</td><td>231.0</td></tr><tr><td>val_loss</td><td>0.37088</td></tr><tr><td>val_prc</td><td>0.74825</td></tr><tr><td>val_precision</td><td>0.69843</td></tr><tr><td>val_recall</td><td>0.78446</td></tr><tr><td>val_tn</td><td>2959.0</td></tr><tr><td>val_tp</td><td>535.0</td></tr></table><br/></div></div>"
            ]
          },
          "metadata": {}
        },
        {
          "output_type": "display_data",
          "data": {
            "text/plain": [
              "<IPython.core.display.HTML object>"
            ],
            "text/html": [
              "Synced <strong style=\"color:#cdcd00\">generous-sweep-23</strong>: <a href=\"https://wandb.ai/mindadeepam/medusa-sweeps/runs/wgoa9oo6\" target=\"_blank\">https://wandb.ai/mindadeepam/medusa-sweeps/runs/wgoa9oo6</a><br/>Synced 5 W&B file(s), 1 media file(s), 0 artifact file(s) and 0 other file(s)"
            ]
          },
          "metadata": {}
        },
        {
          "output_type": "display_data",
          "data": {
            "text/plain": [
              "<IPython.core.display.HTML object>"
            ],
            "text/html": [
              "Find logs at: <code>./wandb/run-20220831_184734-wgoa9oo6/logs</code>"
            ]
          },
          "metadata": {}
        },
        {
          "output_type": "stream",
          "name": "stderr",
          "text": [
            "\u001b[34m\u001b[1mwandb\u001b[0m: Agent Starting Run: comuqs9e with config:\n",
            "\u001b[34m\u001b[1mwandb\u001b[0m: \tdense_units: 64\n",
            "\u001b[34m\u001b[1mwandb\u001b[0m: \tdropout_1: 0.4\n",
            "\u001b[34m\u001b[1mwandb\u001b[0m: \tdropout_2: 0.6\n",
            "\u001b[34m\u001b[1mwandb\u001b[0m: \tdropout_3: 0.6\n",
            "\u001b[34m\u001b[1mwandb\u001b[0m: \tembedding_dimensions: 100\n",
            "\u001b[34m\u001b[1mwandb\u001b[0m: \tepochs: 20\n",
            "\u001b[34m\u001b[1mwandb\u001b[0m: \tlearning_rate: 0.0008581804656615851\n",
            "\u001b[34m\u001b[1mwandb\u001b[0m: \tlstm_units: 32\n",
            "\u001b[34m\u001b[1mwandb\u001b[0m: \tmodel: RNN (lstm)\n",
            "\u001b[34m\u001b[1mwandb\u001b[0m: \toptimizer: Adam\n",
            "\u001b[34m\u001b[1mwandb\u001b[0m: \ttokenization: character\n"
          ]
        },
        {
          "output_type": "display_data",
          "data": {
            "text/plain": [
              "<IPython.core.display.HTML object>"
            ],
            "text/html": [
              "Tracking run with wandb version 0.13.2"
            ]
          },
          "metadata": {}
        },
        {
          "output_type": "display_data",
          "data": {
            "text/plain": [
              "<IPython.core.display.HTML object>"
            ],
            "text/html": [
              "Run data is saved locally in <code>/content/wandb/run-20220831_190018-comuqs9e</code>"
            ]
          },
          "metadata": {}
        },
        {
          "output_type": "display_data",
          "data": {
            "text/plain": [
              "<IPython.core.display.HTML object>"
            ],
            "text/html": [
              "Syncing run <strong><a href=\"https://wandb.ai/mindadeepam/medusa-sweeps/runs/comuqs9e\" target=\"_blank\">hardy-sweep-24</a></strong> to <a href=\"https://wandb.ai/mindadeepam/medusa-sweeps\" target=\"_blank\">Weights & Biases</a> (<a href=\"https://wandb.me/run\" target=\"_blank\">docs</a>)<br/>Sweep page:  <a href=\"https://wandb.ai/mindadeepam/medusa-sweeps/sweeps/0hljr5r1\" target=\"_blank\">https://wandb.ai/mindadeepam/medusa-sweeps/sweeps/0hljr5r1</a>"
            ]
          },
          "metadata": {}
        },
        {
          "output_type": "stream",
          "name": "stdout",
          "text": [
            "mkdir: cannot create directory ‘tmp’: File exists\n",
            "Epoch 1/50\n",
            "417/417 [==============================] - 29s 55ms/step - loss: 0.6374 - tp: 1743.0000 - fp: 4583.0000 - tn: 10037.0000 - fn: 831.0000 - accuracy: 0.6851 - precision: 0.2755 - recall: 0.6772 - auc: 0.7613 - prc: 0.4415 - val_loss: 0.5543 - val_tp: 428.0000 - val_fp: 797.0000 - val_tn: 2393.0000 - val_fn: 254.0000 - val_accuracy: 0.7286 - val_precision: 0.3494 - val_recall: 0.6276 - val_auc: 0.7497 - val_prc: 0.4004\n",
            "Epoch 2/50\n",
            "417/417 [==============================] - 19s 46ms/step - loss: 0.5786 - tp: 1346.0000 - fp: 3447.0000 - tn: 7983.0000 - fn: 546.0000 - accuracy: 0.7003 - precision: 0.2808 - recall: 0.7114 - auc: 0.7690 - prc: 0.3738 - val_loss: 0.5141 - val_tp: 434.0000 - val_fp: 740.0000 - val_tn: 2450.0000 - val_fn: 248.0000 - val_accuracy: 0.7448 - val_precision: 0.3697 - val_recall: 0.6364 - val_auc: 0.7771 - val_prc: 0.4425\n",
            "Epoch 3/50\n",
            "417/417 [==============================] - 20s 49ms/step - loss: 0.5363 - tp: 1355.0000 - fp: 3017.0000 - tn: 8413.0000 - fn: 537.0000 - accuracy: 0.7332 - precision: 0.3099 - recall: 0.7162 - auc: 0.8070 - prc: 0.4582 - val_loss: 0.5428 - val_tp: 475.0000 - val_fp: 847.0000 - val_tn: 2343.0000 - val_fn: 207.0000 - val_accuracy: 0.7278 - val_precision: 0.3593 - val_recall: 0.6965 - val_auc: 0.7928 - val_prc: 0.4647\n",
            "Epoch 4/50\n",
            "417/417 [==============================] - 17s 41ms/step - loss: 0.5102 - tp: 1370.0000 - fp: 2784.0000 - tn: 8646.0000 - fn: 522.0000 - accuracy: 0.7518 - precision: 0.3298 - recall: 0.7241 - auc: 0.8283 - prc: 0.4981 - val_loss: 0.5576 - val_tp: 520.0000 - val_fp: 925.0000 - val_tn: 2265.0000 - val_fn: 162.0000 - val_accuracy: 0.7193 - val_precision: 0.3599 - val_recall: 0.7625 - val_auc: 0.8116 - val_prc: 0.5002\n",
            "Epoch 5/50\n",
            "417/417 [==============================] - 17s 41ms/step - loss: 0.4793 - tp: 1416.0000 - fp: 2509.0000 - tn: 8921.0000 - fn: 476.0000 - accuracy: 0.7759 - precision: 0.3608 - recall: 0.7484 - auc: 0.8530 - prc: 0.5498 - val_loss: 0.4309 - val_tp: 438.0000 - val_fp: 470.0000 - val_tn: 2720.0000 - val_fn: 244.0000 - val_accuracy: 0.8156 - val_precision: 0.4824 - val_recall: 0.6422 - val_auc: 0.8422 - val_prc: 0.5758\n",
            "Epoch 6/50\n",
            "417/417 [==============================] - 19s 45ms/step - loss: 0.4460 - tp: 1450.0000 - fp: 2135.0000 - tn: 9295.0000 - fn: 442.0000 - accuracy: 0.8066 - precision: 0.4045 - recall: 0.7664 - auc: 0.8750 - prc: 0.6103 - val_loss: 0.4563 - val_tp: 505.0000 - val_fp: 545.0000 - val_tn: 2645.0000 - val_fn: 177.0000 - val_accuracy: 0.8135 - val_precision: 0.4810 - val_recall: 0.7405 - val_auc: 0.8596 - val_prc: 0.5985\n",
            "Epoch 7/50\n",
            "417/417 [==============================] - 19s 45ms/step - loss: 0.4155 - tp: 1496.0000 - fp: 1904.0000 - tn: 9526.0000 - fn: 396.0000 - accuracy: 0.8274 - precision: 0.4400 - recall: 0.7907 - auc: 0.8931 - prc: 0.6519 - val_loss: 0.3805 - val_tp: 480.0000 - val_fp: 364.0000 - val_tn: 2826.0000 - val_fn: 202.0000 - val_accuracy: 0.8538 - val_precision: 0.5687 - val_recall: 0.7038 - val_auc: 0.8762 - val_prc: 0.6513\n",
            "Epoch 8/50\n",
            "417/417 [==============================] - 19s 46ms/step - loss: 0.3833 - tp: 1523.0000 - fp: 1604.0000 - tn: 9826.0000 - fn: 369.0000 - accuracy: 0.8519 - precision: 0.4870 - recall: 0.8050 - auc: 0.9109 - prc: 0.6902 - val_loss: 0.4861 - val_tp: 548.0000 - val_fp: 576.0000 - val_tn: 2614.0000 - val_fn: 134.0000 - val_accuracy: 0.8166 - val_precision: 0.4875 - val_recall: 0.8035 - val_auc: 0.8870 - val_prc: 0.6500\n",
            "Epoch 9/50\n",
            "417/417 [==============================] - 19s 45ms/step - loss: 0.3555 - tp: 1561.0000 - fp: 1419.0000 - tn: 10011.0000 - fn: 331.0000 - accuracy: 0.8686 - precision: 0.5238 - recall: 0.8251 - auc: 0.9238 - prc: 0.7221 - val_loss: 0.3671 - val_tp: 485.0000 - val_fp: 368.0000 - val_tn: 2822.0000 - val_fn: 197.0000 - val_accuracy: 0.8541 - val_precision: 0.5686 - val_recall: 0.7111 - val_auc: 0.8814 - val_prc: 0.6880\n",
            "Epoch 10/50\n",
            "417/417 [==============================] - 19s 45ms/step - loss: 0.3331 - tp: 1580.0000 - fp: 1351.0000 - tn: 10079.0000 - fn: 312.0000 - accuracy: 0.8752 - precision: 0.5391 - recall: 0.8351 - auc: 0.9327 - prc: 0.7515 - val_loss: 0.4086 - val_tp: 540.0000 - val_fp: 455.0000 - val_tn: 2735.0000 - val_fn: 142.0000 - val_accuracy: 0.8458 - val_precision: 0.5427 - val_recall: 0.7918 - val_auc: 0.8972 - val_prc: 0.6877\n",
            "Epoch 11/50\n",
            "417/417 [==============================] - 19s 45ms/step - loss: 0.3311 - tp: 1591.0000 - fp: 1269.0000 - tn: 10161.0000 - fn: 301.0000 - accuracy: 0.8821 - precision: 0.5563 - recall: 0.8409 - auc: 0.9342 - prc: 0.7496 - val_loss: 0.3765 - val_tp: 516.0000 - val_fp: 362.0000 - val_tn: 2828.0000 - val_fn: 166.0000 - val_accuracy: 0.8636 - val_precision: 0.5877 - val_recall: 0.7566 - val_auc: 0.8988 - val_prc: 0.6986\n",
            "Epoch 12/50\n",
            "417/417 [==============================] - 19s 45ms/step - loss: 0.3089 - tp: 1611.0000 - fp: 1114.0000 - tn: 10316.0000 - fn: 281.0000 - accuracy: 0.8953 - precision: 0.5912 - recall: 0.8515 - auc: 0.9421 - prc: 0.7795 - val_loss: 0.3435 - val_tp: 497.0000 - val_fp: 286.0000 - val_tn: 2904.0000 - val_fn: 185.0000 - val_accuracy: 0.8784 - val_precision: 0.6347 - val_recall: 0.7287 - val_auc: 0.8959 - val_prc: 0.7143\n",
            "Epoch 13/50\n",
            "417/417 [==============================] - 19s 45ms/step - loss: 0.3052 - tp: 1605.0000 - fp: 1089.0000 - tn: 10341.0000 - fn: 287.0000 - accuracy: 0.8967 - precision: 0.5958 - recall: 0.8483 - auc: 0.9432 - prc: 0.7815 - val_loss: 0.3153 - val_tp: 464.0000 - val_fp: 188.0000 - val_tn: 3002.0000 - val_fn: 218.0000 - val_accuracy: 0.8951 - val_precision: 0.7117 - val_recall: 0.6804 - val_auc: 0.8967 - val_prc: 0.7232\n",
            "Epoch 14/50\n",
            "417/417 [==============================] - 18s 43ms/step - loss: 0.2916 - tp: 1626.0000 - fp: 1083.0000 - tn: 10347.0000 - fn: 266.0000 - accuracy: 0.8987 - precision: 0.6002 - recall: 0.8594 - auc: 0.9487 - prc: 0.7956 - val_loss: 0.3456 - val_tp: 525.0000 - val_fp: 296.0000 - val_tn: 2894.0000 - val_fn: 157.0000 - val_accuracy: 0.8830 - val_precision: 0.6395 - val_recall: 0.7698 - val_auc: 0.9084 - val_prc: 0.7249\n",
            "Epoch 15/50\n",
            "417/417 [==============================] - 20s 48ms/step - loss: 0.2767 - tp: 1636.0000 - fp: 927.0000 - tn: 10503.0000 - fn: 256.0000 - accuracy: 0.9112 - precision: 0.6383 - recall: 0.8647 - auc: 0.9539 - prc: 0.8157 - val_loss: 0.4885 - val_tp: 568.0000 - val_fp: 501.0000 - val_tn: 2689.0000 - val_fn: 114.0000 - val_accuracy: 0.8412 - val_precision: 0.5313 - val_recall: 0.8328 - val_auc: 0.9025 - val_prc: 0.6952\n",
            "Epoch 16/50\n",
            "417/417 [==============================] - 18s 43ms/step - loss: 0.2668 - tp: 1665.0000 - fp: 927.0000 - tn: 10503.0000 - fn: 227.0000 - accuracy: 0.9134 - precision: 0.6424 - recall: 0.8800 - auc: 0.9569 - prc: 0.8173 - val_loss: 0.3895 - val_tp: 528.0000 - val_fp: 316.0000 - val_tn: 2874.0000 - val_fn: 154.0000 - val_accuracy: 0.8786 - val_precision: 0.6256 - val_recall: 0.7742 - val_auc: 0.9092 - val_prc: 0.7162\n",
            "Epoch 17/50\n",
            "417/417 [==============================] - 19s 46ms/step - loss: 0.2633 - tp: 1655.0000 - fp: 917.0000 - tn: 10513.0000 - fn: 237.0000 - accuracy: 0.9134 - precision: 0.6435 - recall: 0.8747 - auc: 0.9578 - prc: 0.8244 - val_loss: 0.3461 - val_tp: 512.0000 - val_fp: 246.0000 - val_tn: 2944.0000 - val_fn: 170.0000 - val_accuracy: 0.8926 - val_precision: 0.6755 - val_recall: 0.7507 - val_auc: 0.9066 - val_prc: 0.7341\n",
            "Epoch 18/50\n",
            "417/417 [==============================] - 19s 47ms/step - loss: 0.2498 - tp: 1681.0000 - fp: 817.0000 - tn: 10613.0000 - fn: 211.0000 - accuracy: 0.9228 - precision: 0.6729 - recall: 0.8885 - auc: 0.9619 - prc: 0.8397 - val_loss: 0.3255 - val_tp: 493.0000 - val_fp: 205.0000 - val_tn: 2985.0000 - val_fn: 189.0000 - val_accuracy: 0.8982 - val_precision: 0.7063 - val_recall: 0.7229 - val_auc: 0.9057 - val_prc: 0.7379\n",
            "Epoch 19/50\n",
            "417/417 [==============================] - 19s 46ms/step - loss: 0.2426 - tp: 1668.0000 - fp: 834.0000 - tn: 10596.0000 - fn: 224.0000 - accuracy: 0.9206 - precision: 0.6667 - recall: 0.8816 - auc: 0.9645 - prc: 0.8393 - val_loss: 0.3405 - val_tp: 490.0000 - val_fp: 190.0000 - val_tn: 3000.0000 - val_fn: 192.0000 - val_accuracy: 0.9013 - val_precision: 0.7206 - val_recall: 0.7185 - val_auc: 0.9022 - val_prc: 0.7233\n",
            "Epoch 20/50\n",
            "417/417 [==============================] - 17s 42ms/step - loss: 0.2475 - tp: 1682.0000 - fp: 837.0000 - tn: 10593.0000 - fn: 210.0000 - accuracy: 0.9214 - precision: 0.6677 - recall: 0.8890 - auc: 0.9625 - prc: 0.8419 - val_loss: 0.3358 - val_tp: 517.0000 - val_fp: 236.0000 - val_tn: 2954.0000 - val_fn: 165.0000 - val_accuracy: 0.8964 - val_precision: 0.6866 - val_recall: 0.7581 - val_auc: 0.9103 - val_prc: 0.7476\n",
            "Epoch 21/50\n",
            "417/417 [==============================] - 19s 46ms/step - loss: 0.2331 - tp: 1697.0000 - fp: 789.0000 - tn: 10641.0000 - fn: 195.0000 - accuracy: 0.9261 - precision: 0.6826 - recall: 0.8969 - auc: 0.9666 - prc: 0.8540 - val_loss: 0.3677 - val_tp: 500.0000 - val_fp: 272.0000 - val_tn: 2918.0000 - val_fn: 182.0000 - val_accuracy: 0.8827 - val_precision: 0.6477 - val_recall: 0.7331 - val_auc: 0.9025 - val_prc: 0.7165\n",
            "Epoch 22/50\n",
            "417/417 [==============================] - 19s 46ms/step - loss: 0.2348 - tp: 1694.0000 - fp: 758.0000 - tn: 10672.0000 - fn: 198.0000 - accuracy: 0.9282 - precision: 0.6909 - recall: 0.8953 - auc: 0.9669 - prc: 0.8479 - val_loss: 0.3187 - val_tp: 458.0000 - val_fp: 153.0000 - val_tn: 3037.0000 - val_fn: 224.0000 - val_accuracy: 0.9026 - val_precision: 0.7496 - val_recall: 0.6716 - val_auc: 0.9022 - val_prc: 0.7326\n",
            "Epoch 23/50\n",
            "417/417 [==============================] - 20s 48ms/step - loss: 0.2247 - tp: 1694.0000 - fp: 735.0000 - tn: 10695.0000 - fn: 198.0000 - accuracy: 0.9300 - precision: 0.6974 - recall: 0.8953 - auc: 0.9684 - prc: 0.8628 - val_loss: 0.2990 - val_tp: 494.0000 - val_fp: 170.0000 - val_tn: 3020.0000 - val_fn: 188.0000 - val_accuracy: 0.9075 - val_precision: 0.7440 - val_recall: 0.7243 - val_auc: 0.9138 - val_prc: 0.7539\n",
            "Epoch 24/50\n",
            "417/417 [==============================] - 17s 42ms/step - loss: 0.2277 - tp: 1701.0000 - fp: 752.0000 - tn: 10678.0000 - fn: 191.0000 - accuracy: 0.9292 - precision: 0.6934 - recall: 0.8990 - auc: 0.9680 - prc: 0.8609 - val_loss: 0.3436 - val_tp: 523.0000 - val_fp: 256.0000 - val_tn: 2934.0000 - val_fn: 159.0000 - val_accuracy: 0.8928 - val_precision: 0.6714 - val_recall: 0.7669 - val_auc: 0.9120 - val_prc: 0.7458\n",
            "Epoch 25/50\n",
            "417/417 [==============================] - 19s 46ms/step - loss: 0.2222 - tp: 1707.0000 - fp: 707.0000 - tn: 10723.0000 - fn: 185.0000 - accuracy: 0.9330 - precision: 0.7071 - recall: 0.9022 - auc: 0.9685 - prc: 0.8595 - val_loss: 0.3054 - val_tp: 468.0000 - val_fp: 148.0000 - val_tn: 3042.0000 - val_fn: 214.0000 - val_accuracy: 0.9065 - val_precision: 0.7597 - val_recall: 0.6862 - val_auc: 0.9056 - val_prc: 0.7529\n",
            "Epoch 26/50\n",
            "417/417 [==============================] - 17s 42ms/step - loss: 0.2114 - tp: 1711.0000 - fp: 676.0000 - tn: 10754.0000 - fn: 181.0000 - accuracy: 0.9357 - precision: 0.7168 - recall: 0.9043 - auc: 0.9725 - prc: 0.8694 - val_loss: 0.3378 - val_tp: 499.0000 - val_fp: 237.0000 - val_tn: 2953.0000 - val_fn: 183.0000 - val_accuracy: 0.8915 - val_precision: 0.6780 - val_recall: 0.7317 - val_auc: 0.9089 - val_prc: 0.7428\n",
            "Epoch 27/50\n",
            "417/417 [==============================] - 19s 46ms/step - loss: 0.2105 - tp: 1721.0000 - fp: 683.0000 - tn: 10747.0000 - fn: 171.0000 - accuracy: 0.9359 - precision: 0.7159 - recall: 0.9096 - auc: 0.9723 - prc: 0.8783 - val_loss: 0.3550 - val_tp: 530.0000 - val_fp: 218.0000 - val_tn: 2972.0000 - val_fn: 152.0000 - val_accuracy: 0.9044 - val_precision: 0.7086 - val_recall: 0.7771 - val_auc: 0.9166 - val_prc: 0.7365\n",
            "Epoch 28/50\n",
            "417/417 [==============================] - 19s 46ms/step - loss: 0.2059 - tp: 1728.0000 - fp: 700.0000 - tn: 10730.0000 - fn: 164.0000 - accuracy: 0.9351 - precision: 0.7117 - recall: 0.9133 - auc: 0.9738 - prc: 0.8700 - val_loss: 0.3232 - val_tp: 480.0000 - val_fp: 166.0000 - val_tn: 3024.0000 - val_fn: 202.0000 - val_accuracy: 0.9050 - val_precision: 0.7430 - val_recall: 0.7038 - val_auc: 0.9084 - val_prc: 0.7457\n",
            "Epoch 29/50\n",
            "417/417 [==============================] - 19s 46ms/step - loss: 0.1962 - tp: 1728.0000 - fp: 614.0000 - tn: 10816.0000 - fn: 164.0000 - accuracy: 0.9416 - precision: 0.7378 - recall: 0.9133 - auc: 0.9756 - prc: 0.8797 - val_loss: 0.3472 - val_tp: 495.0000 - val_fp: 181.0000 - val_tn: 3009.0000 - val_fn: 187.0000 - val_accuracy: 0.9050 - val_precision: 0.7322 - val_recall: 0.7258 - val_auc: 0.9057 - val_prc: 0.7364\n",
            "Epoch 30/50\n",
            "417/417 [==============================] - 19s 46ms/step - loss: 0.1956 - tp: 1734.0000 - fp: 633.0000 - tn: 10797.0000 - fn: 158.0000 - accuracy: 0.9406 - precision: 0.7326 - recall: 0.9165 - auc: 0.9761 - prc: 0.8767 - val_loss: 0.3571 - val_tp: 536.0000 - val_fp: 184.0000 - val_tn: 3006.0000 - val_fn: 146.0000 - val_accuracy: 0.9148 - val_precision: 0.7444 - val_recall: 0.7859 - val_auc: 0.9214 - val_prc: 0.7508\n",
            "Epoch 31/50\n",
            "417/417 [==============================] - 19s 46ms/step - loss: 0.1965 - tp: 1725.0000 - fp: 627.0000 - tn: 10803.0000 - fn: 167.0000 - accuracy: 0.9404 - precision: 0.7334 - recall: 0.9117 - auc: 0.9764 - prc: 0.8755 - val_loss: 0.3056 - val_tp: 494.0000 - val_fp: 177.0000 - val_tn: 3013.0000 - val_fn: 188.0000 - val_accuracy: 0.9057 - val_precision: 0.7362 - val_recall: 0.7243 - val_auc: 0.9172 - val_prc: 0.7653\n",
            "Epoch 32/50\n",
            "417/417 [==============================] - 19s 46ms/step - loss: 0.1971 - tp: 1731.0000 - fp: 629.0000 - tn: 10801.0000 - fn: 161.0000 - accuracy: 0.9407 - precision: 0.7335 - recall: 0.9149 - auc: 0.9759 - prc: 0.8766 - val_loss: 0.3171 - val_tp: 503.0000 - val_fp: 167.0000 - val_tn: 3023.0000 - val_fn: 179.0000 - val_accuracy: 0.9106 - val_precision: 0.7507 - val_recall: 0.7375 - val_auc: 0.9141 - val_prc: 0.7647\n",
            "Epoch 33/50\n",
            "417/417 [==============================] - 19s 46ms/step - loss: 0.1854 - tp: 1732.0000 - fp: 601.0000 - tn: 10829.0000 - fn: 160.0000 - accuracy: 0.9429 - precision: 0.7424 - recall: 0.9154 - auc: 0.9788 - prc: 0.8966 - val_loss: 0.3307 - val_tp: 453.0000 - val_fp: 140.0000 - val_tn: 3050.0000 - val_fn: 229.0000 - val_accuracy: 0.9047 - val_precision: 0.7639 - val_recall: 0.6642 - val_auc: 0.8982 - val_prc: 0.7442\n"
          ]
        },
        {
          "output_type": "display_data",
          "data": {
            "text/plain": [
              "<IPython.core.display.HTML object>"
            ],
            "text/html": [
              "Waiting for W&B process to finish... <strong style=\"color:green\">(success).</strong>"
            ]
          },
          "metadata": {}
        },
        {
          "output_type": "display_data",
          "data": {
            "text/plain": [
              "VBox(children=(Label(value='0.002 MB of 0.002 MB uploaded (0.000 MB deduped)\\r'), FloatProgress(value=1.0, max…"
            ],
            "application/vnd.jupyter.widget-view+json": {
              "version_major": 2,
              "version_minor": 0,
              "model_id": "f264f028dbcb43d7bde6a7bcdb8f718b"
            }
          },
          "metadata": {}
        },
        {
          "output_type": "display_data",
          "data": {
            "text/plain": [
              "<IPython.core.display.HTML object>"
            ],
            "text/html": [
              "<style>\n",
              "    table.wandb td:nth-child(1) { padding: 0 10px; text-align: left ; width: auto;} td:nth-child(2) {text-align: left ; width: 100%}\n",
              "    .wandb-row { display: flex; flex-direction: row; flex-wrap: wrap; justify-content: flex-start; width: 100% }\n",
              "    .wandb-col { display: flex; flex-direction: column; flex-basis: 100%; flex: 1; padding: 10px; }\n",
              "    </style>\n",
              "<div class=\"wandb-row\"><div class=\"wandb-col\"><h3>Run history:</h3><br/><table class=\"wandb\"><tr><td>accuracy</td><td>▁▁▂▃▃▄▅▆▆▆▆▇▇▇▇▇▇▇▇▇█████████████</td></tr><tr><td>auc</td><td>▁▁▂▃▄▅▅▆▆▇▇▇▇▇▇▇▇▇█▇█████████████</td></tr><tr><td>epoch</td><td>▁▁▁▂▂▂▂▃▃▃▃▃▄▄▄▄▅▅▅▅▅▆▆▆▆▆▇▇▇▇███</td></tr><tr><td>fn</td><td>█▅▅▅▄▄▃▃▃▃▂▂▂▂▂▂▂▂▂▂▁▁▁▁▁▁▁▁▁▁▁▁▁</td></tr><tr><td>fp</td><td>█▆▅▅▄▄▃▃▂▂▂▂▂▂▂▂▂▁▁▁▁▁▁▁▁▁▁▁▁▁▁▁▁</td></tr><tr><td>loss</td><td>█▇▆▆▆▅▅▄▄▃▃▃▃▃▂▂▂▂▂▂▂▂▂▂▂▁▁▁▁▁▁▁▁</td></tr><tr><td>prc</td><td>▂▁▂▃▃▄▅▅▆▆▆▆▆▇▇▇▇▇▇▇▇▇███████████</td></tr><tr><td>precision</td><td>▁▁▂▂▂▃▃▄▅▅▅▆▆▆▆▇▇▇▇▇▇▇▇▇▇████████</td></tr><tr><td>recall</td><td>▁▂▂▂▃▄▄▅▅▆▆▆▆▆▆▇▇▇▇▇▇▇▇▇█████████</td></tr><tr><td>tn</td><td>▆▁▂▃▃▄▅▆▆▆▆▇▇▇▇▇▇▇▇▇█████████████</td></tr><tr><td>tp</td><td>█▁▁▁▂▃▄▄▅▅▅▆▆▆▆▇▆▇▇▇▇▇▇▇▇▇███████</td></tr><tr><td>val_accuracy</td><td>▁▂▁▁▄▄▆▄▆▆▆▇▇▇▅▇▇▇█▇▇██▇█▇███████</td></tr><tr><td>val_auc</td><td>▁▂▃▄▅▅▆▇▆▇▇▇▇▇▇█▇▇▇█▇▇██▇▇█▇▇███▇</td></tr><tr><td>val_fn</td><td>██▆▃▇▄▅▂▅▂▄▅▆▃▁▃▄▅▅▄▄▇▅▃▆▄▃▅▅▃▅▄▇</td></tr><tr><td>val_fp</td><td>▇▆▇█▄▅▃▅▃▄▃▂▁▂▄▃▂▂▁▂▂▁▁▂▁▂▂▁▁▁▁▁▁</td></tr><tr><td>val_loss</td><td>█▇██▅▅▃▆▃▄▃▂▁▂▆▃▂▂▂▂▃▂▁▂▁▂▃▂▂▃▁▁▂</td></tr><tr><td>val_prc</td><td>▁▂▂▃▄▅▆▆▇▇▇▇▇▇▇▇▇▇▇█▇▇████▇█▇████</td></tr><tr><td>val_precision</td><td>▁▁▁▁▃▃▅▃▅▄▅▆▇▆▄▆▇▇▇▇▆██▆█▇▇█▇████</td></tr><tr><td>val_recall</td><td>▁▁▃▆▁▅▄▇▄▇▅▄▃▆█▆▅▄▄▅▅▃▄▆▃▅▆▄▄▆▄▅▂</td></tr><tr><td>val_tn</td><td>▂▃▂▁▅▄▆▄▆▅▆▇█▇▅▆▇▇█▇▇██▇█▇▇██████</td></tr><tr><td>val_tp</td><td>▁▁▃▆▁▅▄▇▄▇▅▄▃▆█▆▅▄▄▅▅▃▄▆▃▅▆▄▄▆▄▅▂</td></tr></table><br/></div><div class=\"wandb-col\"><h3>Run summary:</h3><br/><table class=\"wandb\"><tr><td>GFLOPs</td><td>0.00011</td></tr><tr><td>accuracy</td><td>0.94288</td></tr><tr><td>auc</td><td>0.9788</td></tr><tr><td>best_epoch</td><td>22</td></tr><tr><td>best_val_loss</td><td>0.29896</td></tr><tr><td>epoch</td><td>32</td></tr><tr><td>fn</td><td>160.0</td></tr><tr><td>fp</td><td>601.0</td></tr><tr><td>loss</td><td>0.18538</td></tr><tr><td>prc</td><td>0.89658</td></tr><tr><td>precision</td><td>0.74239</td></tr><tr><td>recall</td><td>0.91543</td></tr><tr><td>tn</td><td>10829.0</td></tr><tr><td>tp</td><td>1732.0</td></tr><tr><td>val_accuracy</td><td>0.9047</td></tr><tr><td>val_auc</td><td>0.89817</td></tr><tr><td>val_fn</td><td>229.0</td></tr><tr><td>val_fp</td><td>140.0</td></tr><tr><td>val_loss</td><td>0.33067</td></tr><tr><td>val_prc</td><td>0.74419</td></tr><tr><td>val_precision</td><td>0.76391</td></tr><tr><td>val_recall</td><td>0.66422</td></tr><tr><td>val_tn</td><td>3050.0</td></tr><tr><td>val_tp</td><td>453.0</td></tr></table><br/></div></div>"
            ]
          },
          "metadata": {}
        },
        {
          "output_type": "display_data",
          "data": {
            "text/plain": [
              "<IPython.core.display.HTML object>"
            ],
            "text/html": [
              "Synced <strong style=\"color:#cdcd00\">hardy-sweep-24</strong>: <a href=\"https://wandb.ai/mindadeepam/medusa-sweeps/runs/comuqs9e\" target=\"_blank\">https://wandb.ai/mindadeepam/medusa-sweeps/runs/comuqs9e</a><br/>Synced 5 W&B file(s), 1 media file(s), 0 artifact file(s) and 0 other file(s)"
            ]
          },
          "metadata": {}
        },
        {
          "output_type": "display_data",
          "data": {
            "text/plain": [
              "<IPython.core.display.HTML object>"
            ],
            "text/html": [
              "Find logs at: <code>./wandb/run-20220831_190018-comuqs9e/logs</code>"
            ]
          },
          "metadata": {}
        },
        {
          "output_type": "stream",
          "name": "stderr",
          "text": [
            "\u001b[34m\u001b[1mwandb\u001b[0m: Agent Starting Run: b4ze6gxj with config:\n",
            "\u001b[34m\u001b[1mwandb\u001b[0m: \tdense_units: 32\n",
            "\u001b[34m\u001b[1mwandb\u001b[0m: \tdropout_1: 0.5\n",
            "\u001b[34m\u001b[1mwandb\u001b[0m: \tdropout_2: 0.6\n",
            "\u001b[34m\u001b[1mwandb\u001b[0m: \tdropout_3: 0.5\n",
            "\u001b[34m\u001b[1mwandb\u001b[0m: \tembedding_dimensions: 50\n",
            "\u001b[34m\u001b[1mwandb\u001b[0m: \tepochs: 50\n",
            "\u001b[34m\u001b[1mwandb\u001b[0m: \tlearning_rate: 0.0003214578615137028\n",
            "\u001b[34m\u001b[1mwandb\u001b[0m: \tlstm_units: 32\n",
            "\u001b[34m\u001b[1mwandb\u001b[0m: \tmodel: RNN (lstm)\n",
            "\u001b[34m\u001b[1mwandb\u001b[0m: \toptimizer: Adam\n",
            "\u001b[34m\u001b[1mwandb\u001b[0m: \ttokenization: character\n"
          ]
        },
        {
          "output_type": "display_data",
          "data": {
            "text/plain": [
              "<IPython.core.display.HTML object>"
            ],
            "text/html": [
              "Tracking run with wandb version 0.13.2"
            ]
          },
          "metadata": {}
        },
        {
          "output_type": "display_data",
          "data": {
            "text/plain": [
              "<IPython.core.display.HTML object>"
            ],
            "text/html": [
              "Run data is saved locally in <code>/content/wandb/run-20220831_191201-b4ze6gxj</code>"
            ]
          },
          "metadata": {}
        },
        {
          "output_type": "display_data",
          "data": {
            "text/plain": [
              "<IPython.core.display.HTML object>"
            ],
            "text/html": [
              "Syncing run <strong><a href=\"https://wandb.ai/mindadeepam/medusa-sweeps/runs/b4ze6gxj\" target=\"_blank\">playful-sweep-25</a></strong> to <a href=\"https://wandb.ai/mindadeepam/medusa-sweeps\" target=\"_blank\">Weights & Biases</a> (<a href=\"https://wandb.me/run\" target=\"_blank\">docs</a>)<br/>Sweep page:  <a href=\"https://wandb.ai/mindadeepam/medusa-sweeps/sweeps/0hljr5r1\" target=\"_blank\">https://wandb.ai/mindadeepam/medusa-sweeps/sweeps/0hljr5r1</a>"
            ]
          },
          "metadata": {}
        },
        {
          "output_type": "stream",
          "name": "stdout",
          "text": [
            "mkdir: cannot create directory ‘tmp’: File exists\n",
            "Epoch 1/50\n",
            "417/417 [==============================] - 30s 60ms/step - loss: 0.6442 - tp: 1523.0000 - fp: 3891.0000 - tn: 10729.0000 - fn: 1051.0000 - accuracy: 0.7126 - precision: 0.2813 - recall: 0.5917 - auc: 0.7323 - prc: 0.4222 - val_loss: 0.4788 - val_tp: 279.0000 - val_fp: 383.0000 - val_tn: 2807.0000 - val_fn: 403.0000 - val_accuracy: 0.7970 - val_precision: 0.4215 - val_recall: 0.4091 - val_auc: 0.7383 - val_prc: 0.3878\n",
            "Epoch 2/50\n",
            "417/417 [==============================] - 19s 46ms/step - loss: 0.5868 - tp: 1335.0000 - fp: 3557.0000 - tn: 7873.0000 - fn: 557.0000 - accuracy: 0.6912 - precision: 0.2729 - recall: 0.7056 - auc: 0.7594 - prc: 0.3654 - val_loss: 0.5307 - val_tp: 414.0000 - val_fp: 724.0000 - val_tn: 2466.0000 - val_fn: 268.0000 - val_accuracy: 0.7438 - val_precision: 0.3638 - val_recall: 0.6070 - val_auc: 0.7569 - val_prc: 0.4141\n",
            "Epoch 3/50\n",
            "417/417 [==============================] - 18s 42ms/step - loss: 0.5577 - tp: 1355.0000 - fp: 3293.0000 - tn: 8137.0000 - fn: 537.0000 - accuracy: 0.7125 - precision: 0.2915 - recall: 0.7162 - auc: 0.7867 - prc: 0.4150 - val_loss: 0.6802 - val_tp: 573.0000 - val_fp: 1367.0000 - val_tn: 1823.0000 - val_fn: 109.0000 - val_accuracy: 0.6188 - val_precision: 0.2954 - val_recall: 0.8402 - val_auc: 0.7767 - val_prc: 0.4177\n",
            "Epoch 4/50\n",
            "417/417 [==============================] - 18s 42ms/step - loss: 0.5242 - tp: 1400.0000 - fp: 2944.0000 - tn: 8486.0000 - fn: 492.0000 - accuracy: 0.7421 - precision: 0.3223 - recall: 0.7400 - auc: 0.8169 - prc: 0.4631 - val_loss: 0.5022 - val_tp: 471.0000 - val_fp: 734.0000 - val_tn: 2456.0000 - val_fn: 211.0000 - val_accuracy: 0.7559 - val_precision: 0.3909 - val_recall: 0.6906 - val_auc: 0.8069 - val_prc: 0.4815\n",
            "Epoch 5/50\n",
            "417/417 [==============================] - 19s 46ms/step - loss: 0.4871 - tp: 1455.0000 - fp: 2655.0000 - tn: 8775.0000 - fn: 437.0000 - accuracy: 0.7679 - precision: 0.3540 - recall: 0.7690 - auc: 0.8485 - prc: 0.5185 - val_loss: 0.4721 - val_tp: 489.0000 - val_fp: 605.0000 - val_tn: 2585.0000 - val_fn: 193.0000 - val_accuracy: 0.7939 - val_precision: 0.4470 - val_recall: 0.7170 - val_auc: 0.8432 - val_prc: 0.5410\n",
            "Epoch 6/50\n",
            "417/417 [==============================] - 19s 46ms/step - loss: 0.4441 - tp: 1500.0000 - fp: 2190.0000 - tn: 9240.0000 - fn: 392.0000 - accuracy: 0.8062 - precision: 0.4065 - recall: 0.7928 - auc: 0.8776 - prc: 0.5846 - val_loss: 0.4858 - val_tp: 536.0000 - val_fp: 631.0000 - val_tn: 2559.0000 - val_fn: 146.0000 - val_accuracy: 0.7993 - val_precision: 0.4593 - val_recall: 0.7859 - val_auc: 0.8631 - val_prc: 0.5872\n",
            "Epoch 7/50\n",
            "417/417 [==============================] - 19s 46ms/step - loss: 0.4043 - tp: 1515.0000 - fp: 1869.0000 - tn: 9561.0000 - fn: 377.0000 - accuracy: 0.8314 - precision: 0.4477 - recall: 0.8007 - auc: 0.9005 - prc: 0.6493 - val_loss: 0.3415 - val_tp: 366.0000 - val_fp: 194.0000 - val_tn: 2996.0000 - val_fn: 316.0000 - val_accuracy: 0.8683 - val_precision: 0.6536 - val_recall: 0.5367 - val_auc: 0.8631 - val_prc: 0.6286\n",
            "Epoch 8/50\n",
            "417/417 [==============================] - 19s 46ms/step - loss: 0.3889 - tp: 1521.0000 - fp: 1689.0000 - tn: 9741.0000 - fn: 371.0000 - accuracy: 0.8454 - precision: 0.4738 - recall: 0.8039 - auc: 0.9073 - prc: 0.6867 - val_loss: 0.3795 - val_tp: 459.0000 - val_fp: 322.0000 - val_tn: 2868.0000 - val_fn: 223.0000 - val_accuracy: 0.8592 - val_precision: 0.5877 - val_recall: 0.6730 - val_auc: 0.8733 - val_prc: 0.6437\n",
            "Epoch 9/50\n",
            "417/417 [==============================] - 19s 46ms/step - loss: 0.3595 - tp: 1547.0000 - fp: 1481.0000 - tn: 9949.0000 - fn: 345.0000 - accuracy: 0.8629 - precision: 0.5109 - recall: 0.8177 - auc: 0.9209 - prc: 0.7279 - val_loss: 0.3893 - val_tp: 472.0000 - val_fp: 357.0000 - val_tn: 2833.0000 - val_fn: 210.0000 - val_accuracy: 0.8536 - val_precision: 0.5694 - val_recall: 0.6921 - val_auc: 0.8680 - val_prc: 0.6581\n",
            "Epoch 10/50\n",
            "417/417 [==============================] - 19s 46ms/step - loss: 0.3433 - tp: 1566.0000 - fp: 1386.0000 - tn: 10044.0000 - fn: 326.0000 - accuracy: 0.8715 - precision: 0.5305 - recall: 0.8277 - auc: 0.9293 - prc: 0.7406 - val_loss: 0.3685 - val_tp: 460.0000 - val_fp: 289.0000 - val_tn: 2901.0000 - val_fn: 222.0000 - val_accuracy: 0.8680 - val_precision: 0.6142 - val_recall: 0.6745 - val_auc: 0.8790 - val_prc: 0.6682\n",
            "Epoch 11/50\n",
            "417/417 [==============================] - 18s 42ms/step - loss: 0.3223 - tp: 1593.0000 - fp: 1251.0000 - tn: 10179.0000 - fn: 299.0000 - accuracy: 0.8837 - precision: 0.5601 - recall: 0.8420 - auc: 0.9367 - prc: 0.7761 - val_loss: 0.3908 - val_tp: 467.0000 - val_fp: 287.0000 - val_tn: 2903.0000 - val_fn: 215.0000 - val_accuracy: 0.8704 - val_precision: 0.6194 - val_recall: 0.6848 - val_auc: 0.8851 - val_prc: 0.6684\n",
            "Epoch 12/50\n",
            "417/417 [==============================] - 18s 43ms/step - loss: 0.3070 - tp: 1605.0000 - fp: 1162.0000 - tn: 10268.0000 - fn: 287.0000 - accuracy: 0.8912 - precision: 0.5801 - recall: 0.8483 - auc: 0.9437 - prc: 0.7817 - val_loss: 0.3639 - val_tp: 482.0000 - val_fp: 270.0000 - val_tn: 2920.0000 - val_fn: 200.0000 - val_accuracy: 0.8786 - val_precision: 0.6410 - val_recall: 0.7067 - val_auc: 0.8931 - val_prc: 0.6817\n",
            "Epoch 13/50\n",
            "417/417 [==============================] - 18s 42ms/step - loss: 0.2938 - tp: 1624.0000 - fp: 1026.0000 - tn: 10404.0000 - fn: 268.0000 - accuracy: 0.9029 - precision: 0.6128 - recall: 0.8584 - auc: 0.9471 - prc: 0.8056 - val_loss: 0.4026 - val_tp: 531.0000 - val_fp: 378.0000 - val_tn: 2812.0000 - val_fn: 151.0000 - val_accuracy: 0.8634 - val_precision: 0.5842 - val_recall: 0.7786 - val_auc: 0.8964 - val_prc: 0.6896\n",
            "Epoch 14/50\n",
            "417/417 [==============================] - 17s 41ms/step - loss: 0.2821 - tp: 1629.0000 - fp: 1028.0000 - tn: 10402.0000 - fn: 263.0000 - accuracy: 0.9031 - precision: 0.6131 - recall: 0.8610 - auc: 0.9519 - prc: 0.8142 - val_loss: 0.3437 - val_tp: 458.0000 - val_fp: 211.0000 - val_tn: 2979.0000 - val_fn: 224.0000 - val_accuracy: 0.8877 - val_precision: 0.6846 - val_recall: 0.6716 - val_auc: 0.8958 - val_prc: 0.7052\n",
            "Epoch 15/50\n",
            "417/417 [==============================] - 17s 42ms/step - loss: 0.2772 - tp: 1638.0000 - fp: 940.0000 - tn: 10490.0000 - fn: 254.0000 - accuracy: 0.9104 - precision: 0.6354 - recall: 0.8658 - auc: 0.9535 - prc: 0.8197 - val_loss: 0.3397 - val_tp: 465.0000 - val_fp: 191.0000 - val_tn: 2999.0000 - val_fn: 217.0000 - val_accuracy: 0.8946 - val_precision: 0.7088 - val_recall: 0.6818 - val_auc: 0.8955 - val_prc: 0.7079\n",
            "Epoch 16/50\n",
            "417/417 [==============================] - 19s 46ms/step - loss: 0.2661 - tp: 1658.0000 - fp: 909.0000 - tn: 10521.0000 - fn: 234.0000 - accuracy: 0.9142 - precision: 0.6459 - recall: 0.8763 - auc: 0.9569 - prc: 0.8266 - val_loss: 0.3938 - val_tp: 530.0000 - val_fp: 368.0000 - val_tn: 2822.0000 - val_fn: 152.0000 - val_accuracy: 0.8657 - val_precision: 0.5902 - val_recall: 0.7771 - val_auc: 0.8983 - val_prc: 0.7075\n",
            "Epoch 17/50\n",
            "417/417 [==============================] - 17s 41ms/step - loss: 0.2608 - tp: 1660.0000 - fp: 923.0000 - tn: 10507.0000 - fn: 232.0000 - accuracy: 0.9133 - precision: 0.6427 - recall: 0.8774 - auc: 0.9590 - prc: 0.8321 - val_loss: 0.3675 - val_tp: 508.0000 - val_fp: 308.0000 - val_tn: 2882.0000 - val_fn: 174.0000 - val_accuracy: 0.8755 - val_precision: 0.6225 - val_recall: 0.7449 - val_auc: 0.9013 - val_prc: 0.7133\n",
            "Epoch 18/50\n",
            "417/417 [==============================] - 19s 46ms/step - loss: 0.2493 - tp: 1671.0000 - fp: 864.0000 - tn: 10566.0000 - fn: 221.0000 - accuracy: 0.9186 - precision: 0.6592 - recall: 0.8832 - auc: 0.9621 - prc: 0.8436 - val_loss: 0.3175 - val_tp: 479.0000 - val_fp: 195.0000 - val_tn: 2995.0000 - val_fn: 203.0000 - val_accuracy: 0.8972 - val_precision: 0.7107 - val_recall: 0.7023 - val_auc: 0.9027 - val_prc: 0.7303\n",
            "Epoch 19/50\n",
            "417/417 [==============================] - 17s 42ms/step - loss: 0.2521 - tp: 1661.0000 - fp: 836.0000 - tn: 10594.0000 - fn: 231.0000 - accuracy: 0.9199 - precision: 0.6652 - recall: 0.8779 - auc: 0.9616 - prc: 0.8380 - val_loss: 0.3395 - val_tp: 497.0000 - val_fp: 222.0000 - val_tn: 2968.0000 - val_fn: 185.0000 - val_accuracy: 0.8949 - val_precision: 0.6912 - val_recall: 0.7287 - val_auc: 0.9034 - val_prc: 0.7296\n",
            "Epoch 20/50\n",
            "417/417 [==============================] - 17s 42ms/step - loss: 0.2340 - tp: 1679.0000 - fp: 800.0000 - tn: 10630.0000 - fn: 213.0000 - accuracy: 0.9240 - precision: 0.6773 - recall: 0.8874 - auc: 0.9670 - prc: 0.8515 - val_loss: 0.3705 - val_tp: 500.0000 - val_fp: 257.0000 - val_tn: 2933.0000 - val_fn: 182.0000 - val_accuracy: 0.8866 - val_precision: 0.6605 - val_recall: 0.7331 - val_auc: 0.9036 - val_prc: 0.7129\n",
            "Epoch 21/50\n",
            "417/417 [==============================] - 17s 42ms/step - loss: 0.2364 - tp: 1677.0000 - fp: 825.0000 - tn: 10605.0000 - fn: 215.0000 - accuracy: 0.9219 - precision: 0.6703 - recall: 0.8864 - auc: 0.9659 - prc: 0.8526 - val_loss: 0.3565 - val_tp: 493.0000 - val_fp: 251.0000 - val_tn: 2939.0000 - val_fn: 189.0000 - val_accuracy: 0.8864 - val_precision: 0.6626 - val_recall: 0.7229 - val_auc: 0.9081 - val_prc: 0.7156\n",
            "Epoch 22/50\n",
            "417/417 [==============================] - 17s 42ms/step - loss: 0.2301 - tp: 1680.0000 - fp: 800.0000 - tn: 10630.0000 - fn: 212.0000 - accuracy: 0.9240 - precision: 0.6774 - recall: 0.8879 - auc: 0.9684 - prc: 0.8528 - val_loss: 0.3952 - val_tp: 517.0000 - val_fp: 337.0000 - val_tn: 2853.0000 - val_fn: 165.0000 - val_accuracy: 0.8704 - val_precision: 0.6054 - val_recall: 0.7581 - val_auc: 0.9045 - val_prc: 0.7139\n",
            "Epoch 23/50\n",
            "417/417 [==============================] - 17s 41ms/step - loss: 0.2240 - tp: 1686.0000 - fp: 787.0000 - tn: 10643.0000 - fn: 206.0000 - accuracy: 0.9255 - precision: 0.6818 - recall: 0.8911 - auc: 0.9697 - prc: 0.8616 - val_loss: 0.3464 - val_tp: 497.0000 - val_fp: 225.0000 - val_tn: 2965.0000 - val_fn: 185.0000 - val_accuracy: 0.8941 - val_precision: 0.6884 - val_recall: 0.7287 - val_auc: 0.9057 - val_prc: 0.7347\n",
            "Epoch 24/50\n",
            "417/417 [==============================] - 19s 46ms/step - loss: 0.2178 - tp: 1705.0000 - fp: 758.0000 - tn: 10672.0000 - fn: 187.0000 - accuracy: 0.9291 - precision: 0.6922 - recall: 0.9012 - auc: 0.9709 - prc: 0.8629 - val_loss: 0.3399 - val_tp: 503.0000 - val_fp: 220.0000 - val_tn: 2970.0000 - val_fn: 179.0000 - val_accuracy: 0.8970 - val_precision: 0.6957 - val_recall: 0.7375 - val_auc: 0.9083 - val_prc: 0.7360\n",
            "Epoch 25/50\n",
            "417/417 [==============================] - 19s 46ms/step - loss: 0.2216 - tp: 1692.0000 - fp: 758.0000 - tn: 10672.0000 - fn: 200.0000 - accuracy: 0.9281 - precision: 0.6906 - recall: 0.8943 - auc: 0.9698 - prc: 0.8652 - val_loss: 0.3217 - val_tp: 501.0000 - val_fp: 201.0000 - val_tn: 2989.0000 - val_fn: 181.0000 - val_accuracy: 0.9013 - val_precision: 0.7137 - val_recall: 0.7346 - val_auc: 0.9132 - val_prc: 0.7515\n",
            "Epoch 26/50\n",
            "417/417 [==============================] - 17s 42ms/step - loss: 0.2181 - tp: 1705.0000 - fp: 725.0000 - tn: 10705.0000 - fn: 187.0000 - accuracy: 0.9315 - precision: 0.7016 - recall: 0.9012 - auc: 0.9708 - prc: 0.8684 - val_loss: 0.3555 - val_tp: 513.0000 - val_fp: 232.0000 - val_tn: 2958.0000 - val_fn: 169.0000 - val_accuracy: 0.8964 - val_precision: 0.6886 - val_recall: 0.7522 - val_auc: 0.9122 - val_prc: 0.7356\n",
            "Epoch 27/50\n",
            "417/417 [==============================] - 19s 46ms/step - loss: 0.2101 - tp: 1713.0000 - fp: 728.0000 - tn: 10702.0000 - fn: 179.0000 - accuracy: 0.9319 - precision: 0.7018 - recall: 0.9054 - auc: 0.9731 - prc: 0.8719 - val_loss: 0.3339 - val_tp: 524.0000 - val_fp: 216.0000 - val_tn: 2974.0000 - val_fn: 158.0000 - val_accuracy: 0.9034 - val_precision: 0.7081 - val_recall: 0.7683 - val_auc: 0.9172 - val_prc: 0.7515\n",
            "Epoch 28/50\n",
            "417/417 [==============================] - 19s 46ms/step - loss: 0.2051 - tp: 1712.0000 - fp: 672.0000 - tn: 10758.0000 - fn: 180.0000 - accuracy: 0.9360 - precision: 0.7181 - recall: 0.9049 - auc: 0.9741 - prc: 0.8795 - val_loss: 0.3694 - val_tp: 541.0000 - val_fp: 293.0000 - val_tn: 2897.0000 - val_fn: 141.0000 - val_accuracy: 0.8879 - val_precision: 0.6487 - val_recall: 0.7933 - val_auc: 0.9153 - val_prc: 0.7421\n"
          ]
        },
        {
          "output_type": "display_data",
          "data": {
            "text/plain": [
              "<IPython.core.display.HTML object>"
            ],
            "text/html": [
              "Waiting for W&B process to finish... <strong style=\"color:green\">(success).</strong>"
            ]
          },
          "metadata": {}
        },
        {
          "output_type": "display_data",
          "data": {
            "text/plain": [
              "VBox(children=(Label(value='0.003 MB of 0.003 MB uploaded (0.000 MB deduped)\\r'), FloatProgress(value=1.0, max…"
            ],
            "application/vnd.jupyter.widget-view+json": {
              "version_major": 2,
              "version_minor": 0,
              "model_id": "1cd509a3661e45a38efe77c94bb9302b"
            }
          },
          "metadata": {}
        },
        {
          "output_type": "display_data",
          "data": {
            "text/plain": [
              "<IPython.core.display.HTML object>"
            ],
            "text/html": [
              "<style>\n",
              "    table.wandb td:nth-child(1) { padding: 0 10px; text-align: left ; width: auto;} td:nth-child(2) {text-align: left ; width: 100%}\n",
              "    .wandb-row { display: flex; flex-direction: row; flex-wrap: wrap; justify-content: flex-start; width: 100% }\n",
              "    .wandb-col { display: flex; flex-direction: column; flex-basis: 100%; flex: 1; padding: 10px; }\n",
              "    </style>\n",
              "<div class=\"wandb-row\"><div class=\"wandb-col\"><h3>Run history:</h3><br/><table class=\"wandb\"><tr><td>accuracy</td><td>▂▁▂▂▃▄▅▅▆▆▇▇▇▇▇▇▇███████████</td></tr><tr><td>auc</td><td>▁▂▃▃▄▅▆▆▆▇▇▇▇▇▇█████████████</td></tr><tr><td>epoch</td><td>▁▁▂▂▂▂▃▃▃▃▄▄▄▄▅▅▅▅▆▆▆▆▇▇▇▇██</td></tr><tr><td>fn</td><td>█▄▄▄▃▃▃▃▂▂▂▂▂▂▂▁▁▁▁▁▁▁▁▁▁▁▁▁</td></tr><tr><td>fp</td><td>█▇▇▆▅▄▄▃▃▃▂▂▂▂▂▂▂▁▁▁▁▁▁▁▁▁▁▁</td></tr><tr><td>loss</td><td>█▇▇▆▅▅▄▄▃▃▃▃▂▂▂▂▂▂▂▁▁▁▁▁▁▁▁▁</td></tr><tr><td>prc</td><td>▂▁▂▂▃▄▅▅▆▆▇▇▇▇▇▇▇█▇█████████</td></tr><tr><td>precision</td><td>▁▁▁▂▂▃▄▄▅▅▆▆▆▆▇▇▇▇▇▇▇▇▇█████</td></tr><tr><td>recall</td><td>▁▄▄▄▅▅▆▆▆▆▇▇▇▇▇▇▇█▇█████████</td></tr><tr><td>tn</td><td>█▁▂▂▃▄▅▆▆▆▇▇▇▇▇▇▇███████████</td></tr><tr><td>tp</td><td>▄▁▁▂▃▄▄▄▅▅▆▆▆▆▇▇▇▇▇▇▇▇▇█████</td></tr><tr><td>val_accuracy</td><td>▅▄▁▄▅▅▇▇▇▇▇▇▇██▇▇████▇██████</td></tr><tr><td>val_auc</td><td>▁▂▃▄▅▆▆▆▆▇▇▇▇▇▇▇▇▇▇▇████████</td></tr><tr><td>val_fn</td><td>█▅▁▃▃▂▆▄▃▄▄▃▂▄▄▂▃▃▃▃▃▂▃▃▃▂▂▂</td></tr><tr><td>val_fp</td><td>▂▄█▄▃▄▁▂▂▂▂▁▂▁▁▂▂▁▁▁▁▂▁▁▁▁▁▂</td></tr><tr><td>val_loss</td><td>▄▅█▅▄▄▁▂▂▂▂▂▃▂▁▂▂▁▁▂▂▂▂▁▁▂▁▂</td></tr><tr><td>val_prc</td><td>▁▂▂▃▄▅▆▆▆▆▆▇▇▇▇▇▇██▇▇▇██████</td></tr><tr><td>val_precision</td><td>▃▂▁▃▄▄▇▆▆▆▆▇▆██▆▆██▇▇▆█████▇</td></tr><tr><td>val_recall</td><td>▁▄█▆▆▇▃▅▆▅▅▆▇▅▅▇▆▆▆▆▆▇▆▆▆▇▇▇</td></tr><tr><td>val_tn</td><td>▇▅▁▅▆▅█▇▇▇▇█▇██▇▇████▇█████▇</td></tr><tr><td>val_tp</td><td>▁▄█▆▆▇▃▅▆▅▅▆▇▅▅▇▆▆▆▆▆▇▆▆▆▇▇▇</td></tr></table><br/></div><div class=\"wandb-col\"><h3>Run summary:</h3><br/><table class=\"wandb\"><tr><td>GFLOPs</td><td>0.00011</td></tr><tr><td>accuracy</td><td>0.93605</td></tr><tr><td>auc</td><td>0.97412</td></tr><tr><td>best_epoch</td><td>17</td></tr><tr><td>best_val_loss</td><td>0.31748</td></tr><tr><td>epoch</td><td>27</td></tr><tr><td>fn</td><td>180.0</td></tr><tr><td>fp</td><td>672.0</td></tr><tr><td>loss</td><td>0.20513</td></tr><tr><td>prc</td><td>0.87946</td></tr><tr><td>precision</td><td>0.71812</td></tr><tr><td>recall</td><td>0.90486</td></tr><tr><td>tn</td><td>10758.0</td></tr><tr><td>tp</td><td>1712.0</td></tr><tr><td>val_accuracy</td><td>0.88791</td></tr><tr><td>val_auc</td><td>0.91525</td></tr><tr><td>val_fn</td><td>141.0</td></tr><tr><td>val_fp</td><td>293.0</td></tr><tr><td>val_loss</td><td>0.36941</td></tr><tr><td>val_prc</td><td>0.7421</td></tr><tr><td>val_precision</td><td>0.64868</td></tr><tr><td>val_recall</td><td>0.79326</td></tr><tr><td>val_tn</td><td>2897.0</td></tr><tr><td>val_tp</td><td>541.0</td></tr></table><br/></div></div>"
            ]
          },
          "metadata": {}
        },
        {
          "output_type": "display_data",
          "data": {
            "text/plain": [
              "<IPython.core.display.HTML object>"
            ],
            "text/html": [
              "Synced <strong style=\"color:#cdcd00\">playful-sweep-25</strong>: <a href=\"https://wandb.ai/mindadeepam/medusa-sweeps/runs/b4ze6gxj\" target=\"_blank\">https://wandb.ai/mindadeepam/medusa-sweeps/runs/b4ze6gxj</a><br/>Synced 5 W&B file(s), 1 media file(s), 0 artifact file(s) and 0 other file(s)"
            ]
          },
          "metadata": {}
        },
        {
          "output_type": "display_data",
          "data": {
            "text/plain": [
              "<IPython.core.display.HTML object>"
            ],
            "text/html": [
              "Find logs at: <code>./wandb/run-20220831_191201-b4ze6gxj/logs</code>"
            ]
          },
          "metadata": {}
        },
        {
          "output_type": "stream",
          "name": "stderr",
          "text": [
            "\u001b[34m\u001b[1mwandb\u001b[0m: Agent Starting Run: nafiay1k with config:\n",
            "\u001b[34m\u001b[1mwandb\u001b[0m: \tdense_units: 64\n",
            "\u001b[34m\u001b[1mwandb\u001b[0m: \tdropout_1: 0.5\n",
            "\u001b[34m\u001b[1mwandb\u001b[0m: \tdropout_2: 0.4\n",
            "\u001b[34m\u001b[1mwandb\u001b[0m: \tdropout_3: 0.5\n",
            "\u001b[34m\u001b[1mwandb\u001b[0m: \tembedding_dimensions: 100\n",
            "\u001b[34m\u001b[1mwandb\u001b[0m: \tepochs: 20\n",
            "\u001b[34m\u001b[1mwandb\u001b[0m: \tlearning_rate: 7.945793746196646e-05\n",
            "\u001b[34m\u001b[1mwandb\u001b[0m: \tlstm_units: 32\n",
            "\u001b[34m\u001b[1mwandb\u001b[0m: \tmodel: RNN (lstm)\n",
            "\u001b[34m\u001b[1mwandb\u001b[0m: \toptimizer: Adam\n",
            "\u001b[34m\u001b[1mwandb\u001b[0m: \ttokenization: character\n"
          ]
        },
        {
          "output_type": "display_data",
          "data": {
            "text/plain": [
              "<IPython.core.display.HTML object>"
            ],
            "text/html": [
              "Tracking run with wandb version 0.13.2"
            ]
          },
          "metadata": {}
        },
        {
          "output_type": "display_data",
          "data": {
            "text/plain": [
              "<IPython.core.display.HTML object>"
            ],
            "text/html": [
              "Run data is saved locally in <code>/content/wandb/run-20220831_192143-nafiay1k</code>"
            ]
          },
          "metadata": {}
        },
        {
          "output_type": "display_data",
          "data": {
            "text/plain": [
              "<IPython.core.display.HTML object>"
            ],
            "text/html": [
              "Syncing run <strong><a href=\"https://wandb.ai/mindadeepam/medusa-sweeps/runs/nafiay1k\" target=\"_blank\">devoted-sweep-26</a></strong> to <a href=\"https://wandb.ai/mindadeepam/medusa-sweeps\" target=\"_blank\">Weights & Biases</a> (<a href=\"https://wandb.me/run\" target=\"_blank\">docs</a>)<br/>Sweep page:  <a href=\"https://wandb.ai/mindadeepam/medusa-sweeps/sweeps/0hljr5r1\" target=\"_blank\">https://wandb.ai/mindadeepam/medusa-sweeps/sweeps/0hljr5r1</a>"
            ]
          },
          "metadata": {}
        },
        {
          "output_type": "stream",
          "name": "stdout",
          "text": [
            "mkdir: cannot create directory ‘tmp’: File exists\n",
            "Epoch 1/50\n",
            "417/417 [==============================] - 29s 58ms/step - loss: 0.6343 - tp: 1804.0000 - fp: 4642.0000 - tn: 9978.0000 - fn: 770.0000 - accuracy: 0.6852 - precision: 0.2799 - recall: 0.7009 - auc: 0.7671 - prc: 0.4418 - val_loss: 0.5541 - val_tp: 413.0000 - val_fp: 754.0000 - val_tn: 2436.0000 - val_fn: 269.0000 - val_accuracy: 0.7358 - val_precision: 0.3539 - val_recall: 0.6056 - val_auc: 0.7439 - val_prc: 0.3686\n",
            "Epoch 2/50\n",
            "417/417 [==============================] - 17s 41ms/step - loss: 0.5822 - tp: 1318.0000 - fp: 3484.0000 - tn: 7946.0000 - fn: 574.0000 - accuracy: 0.6954 - precision: 0.2745 - recall: 0.6966 - auc: 0.7632 - prc: 0.3715 - val_loss: 0.5177 - val_tp: 391.0000 - val_fp: 650.0000 - val_tn: 2540.0000 - val_fn: 291.0000 - val_accuracy: 0.7570 - val_precision: 0.3756 - val_recall: 0.5733 - val_auc: 0.7585 - val_prc: 0.4176\n",
            "Epoch 3/50\n",
            "417/417 [==============================] - 19s 46ms/step - loss: 0.5550 - tp: 1349.0000 - fp: 3206.0000 - tn: 8224.0000 - fn: 543.0000 - accuracy: 0.7186 - precision: 0.2962 - recall: 0.7130 - auc: 0.7898 - prc: 0.4211 - val_loss: 0.4810 - val_tp: 381.0000 - val_fp: 557.0000 - val_tn: 2633.0000 - val_fn: 301.0000 - val_accuracy: 0.7784 - val_precision: 0.4062 - val_recall: 0.5587 - val_auc: 0.7707 - val_prc: 0.4475\n",
            "Epoch 4/50\n",
            "417/417 [==============================] - 17s 42ms/step - loss: 0.5344 - tp: 1377.0000 - fp: 3030.0000 - tn: 8400.0000 - fn: 515.0000 - accuracy: 0.7339 - precision: 0.3125 - recall: 0.7278 - auc: 0.8093 - prc: 0.4551 - val_loss: 0.5064 - val_tp: 428.0000 - val_fp: 672.0000 - val_tn: 2518.0000 - val_fn: 254.0000 - val_accuracy: 0.7608 - val_precision: 0.3891 - val_recall: 0.6276 - val_auc: 0.7888 - val_prc: 0.4656\n",
            "Epoch 5/50\n",
            "417/417 [==============================] - 17s 42ms/step - loss: 0.5088 - tp: 1417.0000 - fp: 2769.0000 - tn: 8661.0000 - fn: 475.0000 - accuracy: 0.7565 - precision: 0.3385 - recall: 0.7489 - auc: 0.8324 - prc: 0.4900 - val_loss: 0.4545 - val_tp: 456.0000 - val_fp: 571.0000 - val_tn: 2619.0000 - val_fn: 226.0000 - val_accuracy: 0.7942 - val_precision: 0.4440 - val_recall: 0.6686 - val_auc: 0.8235 - val_prc: 0.5232\n",
            "Epoch 6/50\n",
            "417/417 [==============================] - 18s 43ms/step - loss: 0.4695 - tp: 1461.0000 - fp: 2386.0000 - tn: 9044.0000 - fn: 431.0000 - accuracy: 0.7885 - precision: 0.3798 - recall: 0.7722 - auc: 0.8605 - prc: 0.5509 - val_loss: 0.3509 - val_tp: 299.0000 - val_fp: 133.0000 - val_tn: 3057.0000 - val_fn: 383.0000 - val_accuracy: 0.8667 - val_precision: 0.6921 - val_recall: 0.4384 - val_auc: 0.8346 - val_prc: 0.5975\n",
            "Epoch 7/50\n",
            "417/417 [==============================] - 19s 46ms/step - loss: 0.4340 - tp: 1480.0000 - fp: 2021.0000 - tn: 9409.0000 - fn: 412.0000 - accuracy: 0.8174 - precision: 0.4227 - recall: 0.7822 - auc: 0.8829 - prc: 0.6197 - val_loss: 0.4324 - val_tp: 504.0000 - val_fp: 491.0000 - val_tn: 2699.0000 - val_fn: 178.0000 - val_accuracy: 0.8272 - val_precision: 0.5065 - val_recall: 0.7390 - val_auc: 0.8683 - val_prc: 0.6206\n",
            "Epoch 8/50\n",
            "417/417 [==============================] - 19s 46ms/step - loss: 0.3991 - tp: 1508.0000 - fp: 1791.0000 - tn: 9639.0000 - fn: 384.0000 - accuracy: 0.8367 - precision: 0.4571 - recall: 0.7970 - auc: 0.9023 - prc: 0.6639 - val_loss: 0.5060 - val_tp: 519.0000 - val_fp: 578.0000 - val_tn: 2612.0000 - val_fn: 163.0000 - val_accuracy: 0.8086 - val_precision: 0.4731 - val_recall: 0.7610 - val_auc: 0.8699 - val_prc: 0.6120\n",
            "Epoch 9/50\n",
            "417/417 [==============================] - 19s 46ms/step - loss: 0.3754 - tp: 1538.0000 - fp: 1560.0000 - tn: 9870.0000 - fn: 354.0000 - accuracy: 0.8563 - precision: 0.4964 - recall: 0.8129 - auc: 0.9141 - prc: 0.7052 - val_loss: 0.3894 - val_tp: 505.0000 - val_fp: 362.0000 - val_tn: 2828.0000 - val_fn: 177.0000 - val_accuracy: 0.8608 - val_precision: 0.5825 - val_recall: 0.7405 - val_auc: 0.8888 - val_prc: 0.6676\n",
            "Epoch 10/50\n",
            "417/417 [==============================] - 19s 46ms/step - loss: 0.3562 - tp: 1556.0000 - fp: 1393.0000 - tn: 10037.0000 - fn: 336.0000 - accuracy: 0.8702 - precision: 0.5276 - recall: 0.8224 - auc: 0.9229 - prc: 0.7322 - val_loss: 0.4009 - val_tp: 506.0000 - val_fp: 356.0000 - val_tn: 2834.0000 - val_fn: 176.0000 - val_accuracy: 0.8626 - val_precision: 0.5870 - val_recall: 0.7419 - val_auc: 0.8910 - val_prc: 0.6692\n",
            "Epoch 11/50\n",
            "417/417 [==============================] - 19s 46ms/step - loss: 0.3399 - tp: 1545.0000 - fp: 1291.0000 - tn: 10139.0000 - fn: 347.0000 - accuracy: 0.8770 - precision: 0.5448 - recall: 0.8166 - auc: 0.9295 - prc: 0.7515 - val_loss: 0.3976 - val_tp: 516.0000 - val_fp: 358.0000 - val_tn: 2832.0000 - val_fn: 166.0000 - val_accuracy: 0.8647 - val_precision: 0.5904 - val_recall: 0.7566 - val_auc: 0.8938 - val_prc: 0.6833\n",
            "Epoch 12/50\n",
            "417/417 [==============================] - 19s 46ms/step - loss: 0.3178 - tp: 1591.0000 - fp: 1169.0000 - tn: 10261.0000 - fn: 301.0000 - accuracy: 0.8897 - precision: 0.5764 - recall: 0.8409 - auc: 0.9381 - prc: 0.7732 - val_loss: 0.3689 - val_tp: 451.0000 - val_fp: 251.0000 - val_tn: 2939.0000 - val_fn: 231.0000 - val_accuracy: 0.8755 - val_precision: 0.6425 - val_recall: 0.6613 - val_auc: 0.8823 - val_prc: 0.6795\n",
            "Epoch 13/50\n",
            "417/417 [==============================] - 20s 48ms/step - loss: 0.3020 - tp: 1607.0000 - fp: 1066.0000 - tn: 10364.0000 - fn: 285.0000 - accuracy: 0.8986 - precision: 0.6012 - recall: 0.8494 - auc: 0.9441 - prc: 0.7915 - val_loss: 0.3230 - val_tp: 465.0000 - val_fp: 200.0000 - val_tn: 2990.0000 - val_fn: 217.0000 - val_accuracy: 0.8923 - val_precision: 0.6992 - val_recall: 0.6818 - val_auc: 0.8942 - val_prc: 0.7107\n",
            "Epoch 14/50\n",
            "417/417 [==============================] - 17s 42ms/step - loss: 0.3007 - tp: 1607.0000 - fp: 1102.0000 - tn: 10328.0000 - fn: 285.0000 - accuracy: 0.8959 - precision: 0.5932 - recall: 0.8494 - auc: 0.9449 - prc: 0.7941 - val_loss: 0.3664 - val_tp: 488.0000 - val_fp: 251.0000 - val_tn: 2939.0000 - val_fn: 194.0000 - val_accuracy: 0.8851 - val_precision: 0.6604 - val_recall: 0.7155 - val_auc: 0.8946 - val_prc: 0.7024\n",
            "Epoch 15/50\n",
            "417/417 [==============================] - 19s 46ms/step - loss: 0.2792 - tp: 1642.0000 - fp: 928.0000 - tn: 10502.0000 - fn: 250.0000 - accuracy: 0.9116 - precision: 0.6389 - recall: 0.8679 - auc: 0.9517 - prc: 0.8132 - val_loss: 0.3827 - val_tp: 501.0000 - val_fp: 276.0000 - val_tn: 2914.0000 - val_fn: 181.0000 - val_accuracy: 0.8820 - val_precision: 0.6448 - val_recall: 0.7346 - val_auc: 0.9036 - val_prc: 0.6951\n",
            "Epoch 16/50\n",
            "417/417 [==============================] - 19s 46ms/step - loss: 0.2790 - tp: 1627.0000 - fp: 936.0000 - tn: 10494.0000 - fn: 265.0000 - accuracy: 0.9098 - precision: 0.6348 - recall: 0.8599 - auc: 0.9526 - prc: 0.8162 - val_loss: 0.3418 - val_tp: 498.0000 - val_fp: 237.0000 - val_tn: 2953.0000 - val_fn: 184.0000 - val_accuracy: 0.8913 - val_precision: 0.6776 - val_recall: 0.7302 - val_auc: 0.8992 - val_prc: 0.7201\n",
            "Epoch 17/50\n",
            "417/417 [==============================] - 17s 42ms/step - loss: 0.2686 - tp: 1641.0000 - fp: 913.0000 - tn: 10517.0000 - fn: 251.0000 - accuracy: 0.9126 - precision: 0.6425 - recall: 0.8673 - auc: 0.9554 - prc: 0.8264 - val_loss: 0.3298 - val_tp: 480.0000 - val_fp: 219.0000 - val_tn: 2971.0000 - val_fn: 202.0000 - val_accuracy: 0.8913 - val_precision: 0.6867 - val_recall: 0.7038 - val_auc: 0.9025 - val_prc: 0.7349\n",
            "Epoch 18/50\n",
            "417/417 [==============================] - 19s 46ms/step - loss: 0.2640 - tp: 1651.0000 - fp: 804.0000 - tn: 10626.0000 - fn: 241.0000 - accuracy: 0.9216 - precision: 0.6725 - recall: 0.8726 - auc: 0.9566 - prc: 0.8342 - val_loss: 0.3321 - val_tp: 492.0000 - val_fp: 214.0000 - val_tn: 2976.0000 - val_fn: 190.0000 - val_accuracy: 0.8957 - val_precision: 0.6969 - val_recall: 0.7214 - val_auc: 0.9023 - val_prc: 0.7364\n",
            "Epoch 19/50\n",
            "417/417 [==============================] - 19s 46ms/step - loss: 0.2614 - tp: 1652.0000 - fp: 892.0000 - tn: 10538.0000 - fn: 240.0000 - accuracy: 0.9150 - precision: 0.6494 - recall: 0.8732 - auc: 0.9586 - prc: 0.8272 - val_loss: 0.3238 - val_tp: 486.0000 - val_fp: 203.0000 - val_tn: 2987.0000 - val_fn: 196.0000 - val_accuracy: 0.8970 - val_precision: 0.7054 - val_recall: 0.7126 - val_auc: 0.9062 - val_prc: 0.7365\n",
            "Epoch 20/50\n",
            "417/417 [==============================] - 17s 42ms/step - loss: 0.2553 - tp: 1654.0000 - fp: 823.0000 - tn: 10607.0000 - fn: 238.0000 - accuracy: 0.9204 - precision: 0.6677 - recall: 0.8742 - auc: 0.9599 - prc: 0.8415 - val_loss: 0.3240 - val_tp: 513.0000 - val_fp: 235.0000 - val_tn: 2955.0000 - val_fn: 169.0000 - val_accuracy: 0.8957 - val_precision: 0.6858 - val_recall: 0.7522 - val_auc: 0.9115 - val_prc: 0.7507\n",
            "Epoch 21/50\n",
            "417/417 [==============================] - 19s 46ms/step - loss: 0.2377 - tp: 1678.0000 - fp: 776.0000 - tn: 10654.0000 - fn: 214.0000 - accuracy: 0.9257 - precision: 0.6838 - recall: 0.8869 - auc: 0.9657 - prc: 0.8495 - val_loss: 0.3199 - val_tp: 480.0000 - val_fp: 186.0000 - val_tn: 3004.0000 - val_fn: 202.0000 - val_accuracy: 0.8998 - val_precision: 0.7207 - val_recall: 0.7038 - val_auc: 0.9045 - val_prc: 0.7486\n",
            "Epoch 22/50\n",
            "417/417 [==============================] - 19s 46ms/step - loss: 0.2400 - tp: 1668.0000 - fp: 785.0000 - tn: 10645.0000 - fn: 224.0000 - accuracy: 0.9243 - precision: 0.6800 - recall: 0.8816 - auc: 0.9648 - prc: 0.8476 - val_loss: 0.3678 - val_tp: 543.0000 - val_fp: 277.0000 - val_tn: 2913.0000 - val_fn: 139.0000 - val_accuracy: 0.8926 - val_precision: 0.6622 - val_recall: 0.7962 - val_auc: 0.9180 - val_prc: 0.7401\n",
            "Epoch 23/50\n",
            "417/417 [==============================] - 17s 42ms/step - loss: 0.2329 - tp: 1682.0000 - fp: 737.0000 - tn: 10693.0000 - fn: 210.0000 - accuracy: 0.9289 - precision: 0.6953 - recall: 0.8890 - auc: 0.9671 - prc: 0.8548 - val_loss: 0.3430 - val_tp: 532.0000 - val_fp: 263.0000 - val_tn: 2927.0000 - val_fn: 150.0000 - val_accuracy: 0.8933 - val_precision: 0.6692 - val_recall: 0.7801 - val_auc: 0.9145 - val_prc: 0.7518\n",
            "Epoch 24/50\n",
            "417/417 [==============================] - 17s 42ms/step - loss: 0.2286 - tp: 1694.0000 - fp: 749.0000 - tn: 10681.0000 - fn: 198.0000 - accuracy: 0.9289 - precision: 0.6934 - recall: 0.8953 - auc: 0.9676 - prc: 0.8579 - val_loss: 0.3298 - val_tp: 504.0000 - val_fp: 214.0000 - val_tn: 2976.0000 - val_fn: 178.0000 - val_accuracy: 0.8988 - val_precision: 0.7019 - val_recall: 0.7390 - val_auc: 0.9097 - val_prc: 0.7523\n",
            "Epoch 25/50\n",
            "417/417 [==============================] - 19s 46ms/step - loss: 0.2300 - tp: 1676.0000 - fp: 731.0000 - tn: 10699.0000 - fn: 216.0000 - accuracy: 0.9289 - precision: 0.6963 - recall: 0.8858 - auc: 0.9678 - prc: 0.8623 - val_loss: 0.3369 - val_tp: 505.0000 - val_fp: 213.0000 - val_tn: 2977.0000 - val_fn: 177.0000 - val_accuracy: 0.8993 - val_precision: 0.7033 - val_recall: 0.7405 - val_auc: 0.9076 - val_prc: 0.7433\n",
            "Epoch 26/50\n",
            "417/417 [==============================] - 20s 48ms/step - loss: 0.2226 - tp: 1692.0000 - fp: 715.0000 - tn: 10715.0000 - fn: 200.0000 - accuracy: 0.9313 - precision: 0.7029 - recall: 0.8943 - auc: 0.9698 - prc: 0.8599 - val_loss: 0.3091 - val_tp: 475.0000 - val_fp: 148.0000 - val_tn: 3042.0000 - val_fn: 207.0000 - val_accuracy: 0.9083 - val_precision: 0.7624 - val_recall: 0.6965 - val_auc: 0.9109 - val_prc: 0.7531\n",
            "Epoch 27/50\n",
            "417/417 [==============================] - 19s 46ms/step - loss: 0.2226 - tp: 1697.0000 - fp: 725.0000 - tn: 10705.0000 - fn: 195.0000 - accuracy: 0.9309 - precision: 0.7007 - recall: 0.8969 - auc: 0.9694 - prc: 0.8633 - val_loss: 0.3135 - val_tp: 483.0000 - val_fp: 161.0000 - val_tn: 3029.0000 - val_fn: 199.0000 - val_accuracy: 0.9070 - val_precision: 0.7500 - val_recall: 0.7082 - val_auc: 0.9073 - val_prc: 0.7500\n",
            "Epoch 28/50\n",
            "417/417 [==============================] - 19s 46ms/step - loss: 0.2091 - tp: 1711.0000 - fp: 681.0000 - tn: 10749.0000 - fn: 181.0000 - accuracy: 0.9353 - precision: 0.7153 - recall: 0.9043 - auc: 0.9732 - prc: 0.8695 - val_loss: 0.3370 - val_tp: 518.0000 - val_fp: 214.0000 - val_tn: 2976.0000 - val_fn: 164.0000 - val_accuracy: 0.9024 - val_precision: 0.7077 - val_recall: 0.7595 - val_auc: 0.9120 - val_prc: 0.7450\n",
            "Epoch 29/50\n",
            "417/417 [==============================] - 19s 46ms/step - loss: 0.2086 - tp: 1714.0000 - fp: 689.0000 - tn: 10741.0000 - fn: 178.0000 - accuracy: 0.9349 - precision: 0.7133 - recall: 0.9059 - auc: 0.9736 - prc: 0.8741 - val_loss: 0.3694 - val_tp: 517.0000 - val_fp: 279.0000 - val_tn: 2911.0000 - val_fn: 165.0000 - val_accuracy: 0.8853 - val_precision: 0.6495 - val_recall: 0.7581 - val_auc: 0.9058 - val_prc: 0.7255\n",
            "Epoch 30/50\n",
            "417/417 [==============================] - 19s 46ms/step - loss: 0.2079 - tp: 1720.0000 - fp: 717.0000 - tn: 10713.0000 - fn: 172.0000 - accuracy: 0.9333 - precision: 0.7058 - recall: 0.9091 - auc: 0.9736 - prc: 0.8750 - val_loss: 0.3289 - val_tp: 505.0000 - val_fp: 192.0000 - val_tn: 2998.0000 - val_fn: 177.0000 - val_accuracy: 0.9047 - val_precision: 0.7245 - val_recall: 0.7405 - val_auc: 0.9119 - val_prc: 0.7521\n",
            "Epoch 31/50\n",
            "417/417 [==============================] - 19s 46ms/step - loss: 0.1983 - tp: 1721.0000 - fp: 631.0000 - tn: 10799.0000 - fn: 171.0000 - accuracy: 0.9398 - precision: 0.7317 - recall: 0.9096 - auc: 0.9758 - prc: 0.8823 - val_loss: 0.3503 - val_tp: 530.0000 - val_fp: 253.0000 - val_tn: 2937.0000 - val_fn: 152.0000 - val_accuracy: 0.8954 - val_precision: 0.6769 - val_recall: 0.7771 - val_auc: 0.9126 - val_prc: 0.7489\n",
            "Epoch 32/50\n",
            "417/417 [==============================] - 19s 46ms/step - loss: 0.1974 - tp: 1717.0000 - fp: 643.0000 - tn: 10787.0000 - fn: 175.0000 - accuracy: 0.9386 - precision: 0.7275 - recall: 0.9075 - auc: 0.9760 - prc: 0.8789 - val_loss: 0.3416 - val_tp: 524.0000 - val_fp: 227.0000 - val_tn: 2963.0000 - val_fn: 158.0000 - val_accuracy: 0.9006 - val_precision: 0.6977 - val_recall: 0.7683 - val_auc: 0.9133 - val_prc: 0.7516\n",
            "Epoch 33/50\n",
            "417/417 [==============================] - 17s 42ms/step - loss: 0.2017 - tp: 1715.0000 - fp: 653.0000 - tn: 10777.0000 - fn: 177.0000 - accuracy: 0.9377 - precision: 0.7242 - recall: 0.9064 - auc: 0.9753 - prc: 0.8813 - val_loss: 0.3199 - val_tp: 513.0000 - val_fp: 187.0000 - val_tn: 3003.0000 - val_fn: 169.0000 - val_accuracy: 0.9081 - val_precision: 0.7329 - val_recall: 0.7522 - val_auc: 0.9183 - val_prc: 0.7579\n",
            "Epoch 34/50\n",
            "417/417 [==============================] - 17s 42ms/step - loss: 0.2020 - tp: 1722.0000 - fp: 675.0000 - tn: 10755.0000 - fn: 170.0000 - accuracy: 0.9366 - precision: 0.7184 - recall: 0.9101 - auc: 0.9751 - prc: 0.8808 - val_loss: 0.3328 - val_tp: 504.0000 - val_fp: 173.0000 - val_tn: 3017.0000 - val_fn: 178.0000 - val_accuracy: 0.9093 - val_precision: 0.7445 - val_recall: 0.7390 - val_auc: 0.9153 - val_prc: 0.7482\n",
            "Epoch 35/50\n",
            "417/417 [==============================] - 19s 46ms/step - loss: 0.1921 - tp: 1715.0000 - fp: 644.0000 - tn: 10786.0000 - fn: 177.0000 - accuracy: 0.9384 - precision: 0.7270 - recall: 0.9064 - auc: 0.9776 - prc: 0.8870 - val_loss: 0.3497 - val_tp: 499.0000 - val_fp: 166.0000 - val_tn: 3024.0000 - val_fn: 183.0000 - val_accuracy: 0.9099 - val_precision: 0.7504 - val_recall: 0.7317 - val_auc: 0.9124 - val_prc: 0.7480\n",
            "Epoch 36/50\n",
            "417/417 [==============================] - 19s 46ms/step - loss: 0.1859 - tp: 1732.0000 - fp: 590.0000 - tn: 10840.0000 - fn: 160.0000 - accuracy: 0.9437 - precision: 0.7459 - recall: 0.9154 - auc: 0.9790 - prc: 0.8911 - val_loss: 0.3537 - val_tp: 518.0000 - val_fp: 231.0000 - val_tn: 2959.0000 - val_fn: 164.0000 - val_accuracy: 0.8980 - val_precision: 0.6916 - val_recall: 0.7595 - val_auc: 0.9144 - val_prc: 0.7460\n"
          ]
        },
        {
          "output_type": "display_data",
          "data": {
            "text/plain": [
              "<IPython.core.display.HTML object>"
            ],
            "text/html": [
              "Waiting for W&B process to finish... <strong style=\"color:green\">(success).</strong>"
            ]
          },
          "metadata": {}
        },
        {
          "output_type": "display_data",
          "data": {
            "text/plain": [
              "VBox(children=(Label(value='0.003 MB of 0.003 MB uploaded (0.000 MB deduped)\\r'), FloatProgress(value=1.0, max…"
            ],
            "application/vnd.jupyter.widget-view+json": {
              "version_major": 2,
              "version_minor": 0,
              "model_id": "3493229ba9f542df9c0c61613d64637f"
            }
          },
          "metadata": {}
        },
        {
          "output_type": "display_data",
          "data": {
            "text/plain": [
              "<IPython.core.display.HTML object>"
            ],
            "text/html": [
              "<style>\n",
              "    table.wandb td:nth-child(1) { padding: 0 10px; text-align: left ; width: auto;} td:nth-child(2) {text-align: left ; width: 100%}\n",
              "    .wandb-row { display: flex; flex-direction: row; flex-wrap: wrap; justify-content: flex-start; width: 100% }\n",
              "    .wandb-col { display: flex; flex-direction: column; flex-basis: 100%; flex: 1; padding: 10px; }\n",
              "    </style>\n",
              "<div class=\"wandb-row\"><div class=\"wandb-col\"><h3>Run history:</h3><br/><table class=\"wandb\"><tr><td>accuracy</td><td>▁▁▂▂▃▄▅▅▆▆▆▇▇▇▇▇▇▇▇▇█▇██████████████</td></tr><tr><td>auc</td><td>▁▁▂▂▃▄▅▆▆▆▆▇▇▇▇▇▇▇▇▇████████████████</td></tr><tr><td>epoch</td><td>▁▁▁▂▂▂▂▂▃▃▃▃▃▄▄▄▄▄▅▅▅▅▅▆▆▆▆▆▇▇▇▇▇███</td></tr><tr><td>fn</td><td>█▆▅▅▅▄▄▄▃▃▃▃▂▂▂▂▂▂▂▂▂▂▂▁▂▁▁▁▁▁▁▁▁▁▁▁</td></tr><tr><td>fp</td><td>█▆▆▅▅▄▃▃▃▂▂▂▂▂▂▂▂▁▂▁▁▁▁▁▁▁▁▁▁▁▁▁▁▁▁▁</td></tr><tr><td>loss</td><td>█▇▇▆▆▅▅▄▄▄▃▃▃▃▂▂▂▂▂▂▂▂▂▂▂▂▂▁▁▁▁▁▁▁▁▁</td></tr><tr><td>prc</td><td>▂▁▂▂▃▃▄▅▅▆▆▆▇▇▇▇▇▇▇▇▇▇██████████████</td></tr><tr><td>precision</td><td>▁▁▁▂▂▃▃▄▄▅▅▅▆▆▆▆▆▇▇▇▇▇▇▇▇▇▇██▇██████</td></tr><tr><td>recall</td><td>▁▁▂▂▃▃▄▄▅▅▅▆▆▆▆▆▆▇▇▇▇▇▇▇▇▇▇█████████</td></tr><tr><td>tn</td><td>▆▁▂▂▃▄▅▅▆▆▆▇▇▇▇▇▇▇▇▇████████████████</td></tr><tr><td>tp</td><td>█▁▁▂▂▃▃▄▄▄▄▅▅▅▆▅▆▆▆▆▆▆▆▆▆▆▆▇▇▇▇▇▇▇▇▇</td></tr><tr><td>val_accuracy</td><td>▁▂▃▂▃▆▅▄▆▆▆▇▇▇▇▇▇▇▇▇█▇▇█████▇█▇█████</td></tr><tr><td>val_auc</td><td>▁▂▂▃▄▅▆▆▇▇▇▇▇▇▇▇▇▇██▇███████▇███████</td></tr><tr><td>val_fn</td><td>▅▅▆▄▃█▂▂▂▂▂▄▃▃▂▂▃▂▃▂▃▁▁▂▂▃▃▂▂▂▁▂▂▂▂▂</td></tr><tr><td>val_fp</td><td>█▇▆▇▆▁▅▆▄▄▄▂▂▂▃▂▂▂▂▂▂▃▂▂▂▁▁▂▃▂▂▂▂▁▁▂</td></tr><tr><td>val_loss</td><td>█▇▆▇▅▂▅▇▃▄▄▃▁▃▃▂▂▂▁▁▁▃▂▂▂▁▁▂▃▂▂▂▁▂▂▂</td></tr><tr><td>val_prc</td><td>▁▂▂▃▄▅▆▅▆▆▇▇▇▇▇▇████████████▇███████</td></tr><tr><td>val_precision</td><td>▁▁▂▂▃▇▄▃▅▅▅▆▇▆▆▇▇▇▇▇▇▆▆▇▇██▇▆▇▇▇▇██▇</td></tr><tr><td>val_recall</td><td>▄▄▃▅▆▁▇▇▇▇▇▅▆▆▇▇▆▇▆▇▆██▇▇▆▆▇▇▇█▇▇▇▇▇</td></tr><tr><td>val_tn</td><td>▁▂▃▂▃█▄▃▅▅▅▇▇▇▆▇▇▇▇▇▇▆▇▇▇██▇▆▇▇▇▇██▇</td></tr><tr><td>val_tp</td><td>▄▄▃▅▆▁▇▇▇▇▇▅▆▆▇▇▆▇▆▇▆██▇▇▆▆▇▇▇█▇▇▇▇▇</td></tr></table><br/></div><div class=\"wandb-col\"><h3>Run summary:</h3><br/><table class=\"wandb\"><tr><td>GFLOPs</td><td>0.00011</td></tr><tr><td>accuracy</td><td>0.9437</td></tr><tr><td>auc</td><td>0.979</td></tr><tr><td>best_epoch</td><td>25</td></tr><tr><td>best_val_loss</td><td>0.30914</td></tr><tr><td>epoch</td><td>35</td></tr><tr><td>fn</td><td>160.0</td></tr><tr><td>fp</td><td>590.0</td></tr><tr><td>loss</td><td>0.18593</td></tr><tr><td>prc</td><td>0.89109</td></tr><tr><td>precision</td><td>0.74591</td></tr><tr><td>recall</td><td>0.91543</td></tr><tr><td>tn</td><td>10840.0</td></tr><tr><td>tp</td><td>1732.0</td></tr><tr><td>val_accuracy</td><td>0.89799</td></tr><tr><td>val_auc</td><td>0.91436</td></tr><tr><td>val_fn</td><td>164.0</td></tr><tr><td>val_fp</td><td>231.0</td></tr><tr><td>val_loss</td><td>0.3537</td></tr><tr><td>val_prc</td><td>0.74599</td></tr><tr><td>val_precision</td><td>0.69159</td></tr><tr><td>val_recall</td><td>0.75953</td></tr><tr><td>val_tn</td><td>2959.0</td></tr><tr><td>val_tp</td><td>518.0</td></tr></table><br/></div></div>"
            ]
          },
          "metadata": {}
        },
        {
          "output_type": "display_data",
          "data": {
            "text/plain": [
              "<IPython.core.display.HTML object>"
            ],
            "text/html": [
              "Synced <strong style=\"color:#cdcd00\">devoted-sweep-26</strong>: <a href=\"https://wandb.ai/mindadeepam/medusa-sweeps/runs/nafiay1k\" target=\"_blank\">https://wandb.ai/mindadeepam/medusa-sweeps/runs/nafiay1k</a><br/>Synced 5 W&B file(s), 1 media file(s), 0 artifact file(s) and 0 other file(s)"
            ]
          },
          "metadata": {}
        },
        {
          "output_type": "display_data",
          "data": {
            "text/plain": [
              "<IPython.core.display.HTML object>"
            ],
            "text/html": [
              "Find logs at: <code>./wandb/run-20220831_192143-nafiay1k/logs</code>"
            ]
          },
          "metadata": {}
        }
      ]
    },
    {
      "cell_type": "code",
      "source": [
        "# wandb.agent(sweep_id, function=my_train_func)"
      ],
      "metadata": {
        "id": "QJfzeyxXhUd1"
      },
      "execution_count": null,
      "outputs": []
    },
    {
      "cell_type": "markdown",
      "metadata": {
        "id": "uYpVGo4ATTkp"
      },
      "source": [
        "## plot model metrics"
      ]
    },
    {
      "cell_type": "markdown",
      "metadata": {
        "id": "cu35heiaZ-SY"
      },
      "source": [
        "#### plot training loss for train and test data"
      ]
    },
    {
      "cell_type": "code",
      "execution_count": null,
      "metadata": {
        "id": "D6XJ9n3baxCc"
      },
      "outputs": [],
      "source": [
        "for i, history in enumerate(histories):\n",
        "  plot_metrics(histories[i],i+1)"
      ]
    },
    {
      "cell_type": "markdown",
      "metadata": {
        "id": "Q5577auQvwbO"
      },
      "source": [
        "# Load and test model"
      ]
    },
    {
      "cell_type": "markdown",
      "metadata": {
        "id": "u2mHcGfb39DS"
      },
      "source": [
        "## utils"
      ]
    },
    {
      "cell_type": "code",
      "execution_count": null,
      "metadata": {
        "id": "psWdZKpw4lB1"
      },
      "outputs": [],
      "source": [
        "def loadModelFromCheckpoint(checkpoint_filepath=None, validate=False):\n",
        "  'returns model with weights. also evaluates against val_data if validate=True '\n",
        "\n",
        "  if(checkpoint_filepath==None):\n",
        "    print(\"Pass a filepath to checkpoint_filepath\")\n",
        "    return\n",
        "    \n",
        "  model = create_model()\n",
        "  model.load_weights(checkpoint_filepath)\n",
        "\n",
        "  if validate==True:\n",
        "    val_data = getValData()\n",
        "    val_ds = getBatchedDataset(val_data, batch_size=64)\n",
        "    print(\"Model Evaluation: \\n\", model.evaluate(val_ds))\n",
        "\n",
        "  return model"
      ]
    },
    {
      "cell_type": "code",
      "execution_count": null,
      "metadata": {
        "id": "3v2UPbCo7LWw"
      },
      "outputs": [],
      "source": [
        "def loadModel(model_path=None, validate=False):\n",
        "\n",
        "  if(model_path==None):\n",
        "    print(\"Pass a filepath to model_path\")\n",
        "    return\n",
        "\n",
        "  custom_objects = ({\"tf_normalize\": tf_normalize})\n",
        "  with tf.keras.utils.custom_object_scope(custom_objects):\n",
        "    load_model = tf.keras.models.load_model(model_path)\n",
        "\n",
        "  if validate==True:\n",
        "    val_data = getValData()\n",
        "    val_ds = getBatchedDataset(val_data, batch_size=64)\n",
        "    print(\"Model Evaluation: \\n\", model.evaluate(val_ds))\n",
        "  \n",
        "  return model"
      ]
    },
    {
      "cell_type": "markdown",
      "metadata": {
        "id": "4O83hdk63Q0R"
      },
      "source": [
        "## load from drive"
      ]
    },
    {
      "cell_type": "code",
      "execution_count": null,
      "metadata": {
        "id": "NrmBgQuoGSFm"
      },
      "outputs": [],
      "source": [
        "# model = create_model()\n",
        "# config = model.get_config()\n",
        "# config\n",
        "\n",
        "# custom_objects = ({\"tf_normalize\": tf_normalize})\n",
        "# with tf.keras.utils.custom_object_scope(custom_objects):\n",
        "#     new_model = tf.keras.Sequential().from_config(config)\n",
        "\n",
        "'isse saved model load ni hoga: ye karke ig model weights load kar sakte hai'"
      ]
    },
    {
      "cell_type": "code",
      "execution_count": null,
      "metadata": {
        "id": "3cNen11jvypR"
      },
      "outputs": [],
      "source": [
        "def folder_download(folder_id):\n",
        "  # authenticate\n",
        "  from google.colab import auth\n",
        "  auth.authenticate_user()\n",
        "  # get folder_name\n",
        "  from googleapiclient.discovery import build\n",
        "  service = build('drive', 'v3')\n",
        "  folder_name = service.files().get(fileId=folder_id).execute()['name']\n",
        "  # import library and download\n",
        "  ! wget -qnc https://github.com/segnolin/google-drive-folder-downloader/raw/master/download.py\n",
        "  from download import download_folder\n",
        "  download_folder(service, folder_id, './', folder_name)\n",
        "  return folder_name"
      ]
    },
    {
      "cell_type": "code",
      "execution_count": null,
      "metadata": {
        "id": "8DOhvRnPv_qD"
      },
      "outputs": [],
      "source": [
        "folder_download('1-kM4C1Ju8sW-VALL74fM48MgLmOehuRV')"
      ]
    },
    {
      "cell_type": "code",
      "execution_count": null,
      "metadata": {
        "id": "zRh6afcVOJs2"
      },
      "outputs": [],
      "source": [
        "load_model = loadModel('char-tok-class-weights/model2', validate=True)"
      ]
    },
    {
      "cell_type": "code",
      "execution_count": null,
      "metadata": {
        "id": "JleuPWYy1KER"
      },
      "outputs": [],
      "source": [
        "# load_model.summary()\n",
        "# tf.keras.utils.plot_model(model, show_shapes=True)"
      ]
    },
    {
      "cell_type": "code",
      "execution_count": null,
      "metadata": {
        "id": "M-4S1dpwkIYo"
      },
      "outputs": [],
      "source": [
        "sample = np.array(['ksakas sdbfjkas knfalkclaskco dals jfjdd', 'oyee kaha se hai tu', 'choro sharma ke bete ko bolna padle', 'randi madarchod suno ji', '49213702194', 'chodke mat jao mujhe', 'chodke rakhdunga tujhe '])\n",
        "print(sample.shape)\n",
        "samplers = sample.reshape(-1,1)\n",
        "# print(samplers, samplers.shape)\n",
        "\n",
        "# print(load_model.predict(sample))\n",
        "load_model.predict(samplers)"
      ]
    },
    {
      "cell_type": "code",
      "execution_count": null,
      "metadata": {
        "id": "H9B1LuEwRBk1"
      },
      "outputs": [],
      "source": [
        "# load_model.layers[3](load_model.layers[2](load_model.layers[1](load_model.layers[0](sample))))"
      ]
    },
    {
      "cell_type": "markdown",
      "metadata": {
        "id": "zXxgvtQ62vEr"
      },
      "source": [
        "## load artifact from wandb"
      ]
    },
    {
      "cell_type": "code",
      "execution_count": null,
      "metadata": {
        "colab": {
          "base_uri": "https://localhost:8080/",
          "height": 70
        },
        "id": "ZP3xRNYzqUq3",
        "outputId": "0623fdd3-b99c-4cbd-9024-91765ed62a6a"
      },
      "outputs": [
        {
          "data": {
            "text/html": [
              "Tracking run with wandb version 0.13.1"
            ],
            "text/plain": [
              "<IPython.core.display.HTML object>"
            ]
          },
          "metadata": {},
          "output_type": "display_data"
        },
        {
          "data": {
            "text/html": [
              "Run data is saved locally in <code>/content/wandb/run-20220810_090057-1e5wcv37</code>"
            ],
            "text/plain": [
              "<IPython.core.display.HTML object>"
            ]
          },
          "metadata": {},
          "output_type": "display_data"
        },
        {
          "data": {
            "text/html": [
              "Syncing run <strong><a href=\"https://wandb.ai/mindadeepam/uncategorized/runs/1e5wcv37\" target=\"_blank\">rose-plant-2</a></strong> to <a href=\"https://wandb.ai/mindadeepam/uncategorized\" target=\"_blank\">Weights & Biases</a> (<a href=\"https://wandb.me/run\" target=\"_blank\">docs</a>)<br/>"
            ],
            "text/plain": [
              "<IPython.core.display.HTML object>"
            ]
          },
          "metadata": {},
          "output_type": "display_data"
        }
      ],
      "source": [
        "import wandb\n",
        "run = wandb.init()"
      ]
    },
    {
      "cell_type": "code",
      "execution_count": null,
      "metadata": {
        "id": "e3qWCxHSj4ro"
      },
      "outputs": [],
      "source": [
        "artifact = run.use_artifact('mindadeepam/medusa/model-weights_only:v21', type='model')\n",
        "# dir(artifact)"
      ]
    },
    {
      "cell_type": "code",
      "execution_count": null,
      "metadata": {
        "id": "Y5wx-yjSjzoc"
      },
      "outputs": [],
      "source": [
        "artifact_dir = artifact.download()"
      ]
    },
    {
      "cell_type": "code",
      "execution_count": null,
      "metadata": {
        "id": "smuTgWYz_tQG"
      },
      "outputs": [],
      "source": [
        "load_model = loadModel('artifacts/model-weights_only:v21')\n",
        "model_ch = loadModelFromCheckpoint('artifacts/model-weights_only:v21')\n",
        "### how can both be possible from same dir????"
      ]
    },
    {
      "cell_type": "code",
      "execution_count": null,
      "metadata": {
        "colab": {
          "base_uri": "https://localhost:8080/"
        },
        "id": "MdY0VNrskUjQ",
        "outputId": "0b63c39f-5fb2-44e7-9400-fcc9ad86bd3f"
      },
      "outputs": [
        {
          "data": {
            "text/plain": [
              "array([[0.13954812]], dtype=float32)"
            ]
          },
          "execution_count": 105,
          "metadata": {},
          "output_type": "execute_result"
        }
      ],
      "source": [
        "load_model.predict([\"\"])"
      ]
    },
    {
      "cell_type": "code",
      "execution_count": null,
      "metadata": {
        "colab": {
          "base_uri": "https://localhost:8080/"
        },
        "id": "aYujTFaSAFuR",
        "outputId": "9efef2f4-980f-4f55-b2e1-bfc1c8329824"
      },
      "outputs": [
        {
          "data": {
            "text/plain": [
              "array([[0.06186688]], dtype=float32)"
            ]
          },
          "execution_count": 108,
          "metadata": {},
          "output_type": "execute_result"
        }
      ],
      "source": [
        "model_ch.predict([''])"
      ]
    },
    {
      "cell_type": "code",
      "execution_count": null,
      "metadata": {
        "colab": {
          "base_uri": "https://localhost:8080/"
        },
        "id": "hpsZUUk9ALx5",
        "outputId": "ccd8f19c-4fe0-4d7e-8a9c-0b0cdaa93f2c"
      },
      "outputs": [
        {
          "data": {
            "text/plain": [
              "<keras.engine.sequential.Sequential at 0x7f353c8f1150>"
            ]
          },
          "execution_count": 110,
          "metadata": {},
          "output_type": "execute_result"
        }
      ],
      "source": [
        "loadModelFromCheckpoint('tmp/model_checkpoint')"
      ]
    },
    {
      "cell_type": "code",
      "execution_count": null,
      "metadata": {
        "id": "1Mfgx3CnB8Pe"
      },
      "outputs": [],
      "source": []
    }
  ],
  "metadata": {
    "colab": {
      "collapsed_sections": [
        "j43wcWwdU-Zc",
        "sjc4p3iVVGMY",
        "FlygH0Gn12dJ",
        "Dzb041R31-HO",
        "uYFjpkPHEVB0",
        "aYy4tghdawTG",
        "Ce69upNvmyFq",
        "uYpVGo4ATTkp",
        "Q5577auQvwbO",
        "u2mHcGfb39DS",
        "4O83hdk63Q0R",
        "zXxgvtQ62vEr"
      ],
      "provenance": []
    },
    "gpuClass": "standard",
    "kernelspec": {
      "display_name": "Python 3",
      "name": "python3"
    },
    "language_info": {
      "name": "python"
    },
    "widgets": {
      "application/vnd.jupyter.widget-state+json": {
        "4d0ac2d2bc8847179e83e11a5ed85997": {
          "model_module": "@jupyter-widgets/controls",
          "model_name": "VBoxModel",
          "model_module_version": "1.5.0",
          "state": {
            "_dom_classes": [],
            "_model_module": "@jupyter-widgets/controls",
            "_model_module_version": "1.5.0",
            "_model_name": "VBoxModel",
            "_view_count": null,
            "_view_module": "@jupyter-widgets/controls",
            "_view_module_version": "1.5.0",
            "_view_name": "VBoxView",
            "box_style": "",
            "children": [
              "IPY_MODEL_2c657be3c917429097f6bec1fbc8c85f",
              "IPY_MODEL_c5147825e2674297ab99bd11dbb5d2ad"
            ],
            "layout": "IPY_MODEL_f5a1871362ac4d64a9ecd58d43dba205"
          }
        },
        "2c657be3c917429097f6bec1fbc8c85f": {
          "model_module": "@jupyter-widgets/controls",
          "model_name": "LabelModel",
          "model_module_version": "1.5.0",
          "state": {
            "_dom_classes": [],
            "_model_module": "@jupyter-widgets/controls",
            "_model_module_version": "1.5.0",
            "_model_name": "LabelModel",
            "_view_count": null,
            "_view_module": "@jupyter-widgets/controls",
            "_view_module_version": "1.5.0",
            "_view_name": "LabelView",
            "description": "",
            "description_tooltip": null,
            "layout": "IPY_MODEL_5a9d5d48c70e431abf687a96b2f8e0bd",
            "placeholder": "​",
            "style": "IPY_MODEL_efd5cb9f98644db38ad371e62ed18dc5",
            "value": "0.041 MB of 0.041 MB uploaded (0.000 MB deduped)\r"
          }
        },
        "c5147825e2674297ab99bd11dbb5d2ad": {
          "model_module": "@jupyter-widgets/controls",
          "model_name": "FloatProgressModel",
          "model_module_version": "1.5.0",
          "state": {
            "_dom_classes": [],
            "_model_module": "@jupyter-widgets/controls",
            "_model_module_version": "1.5.0",
            "_model_name": "FloatProgressModel",
            "_view_count": null,
            "_view_module": "@jupyter-widgets/controls",
            "_view_module_version": "1.5.0",
            "_view_name": "ProgressView",
            "bar_style": "",
            "description": "",
            "description_tooltip": null,
            "layout": "IPY_MODEL_10bc9101bfb44dd49e4dcbeb3b6bc147",
            "max": 1,
            "min": 0,
            "orientation": "horizontal",
            "style": "IPY_MODEL_9104d8d8847f491896708d415ddfe2ea",
            "value": 1
          }
        },
        "f5a1871362ac4d64a9ecd58d43dba205": {
          "model_module": "@jupyter-widgets/base",
          "model_name": "LayoutModel",
          "model_module_version": "1.2.0",
          "state": {
            "_model_module": "@jupyter-widgets/base",
            "_model_module_version": "1.2.0",
            "_model_name": "LayoutModel",
            "_view_count": null,
            "_view_module": "@jupyter-widgets/base",
            "_view_module_version": "1.2.0",
            "_view_name": "LayoutView",
            "align_content": null,
            "align_items": null,
            "align_self": null,
            "border": null,
            "bottom": null,
            "display": null,
            "flex": null,
            "flex_flow": null,
            "grid_area": null,
            "grid_auto_columns": null,
            "grid_auto_flow": null,
            "grid_auto_rows": null,
            "grid_column": null,
            "grid_gap": null,
            "grid_row": null,
            "grid_template_areas": null,
            "grid_template_columns": null,
            "grid_template_rows": null,
            "height": null,
            "justify_content": null,
            "justify_items": null,
            "left": null,
            "margin": null,
            "max_height": null,
            "max_width": null,
            "min_height": null,
            "min_width": null,
            "object_fit": null,
            "object_position": null,
            "order": null,
            "overflow": null,
            "overflow_x": null,
            "overflow_y": null,
            "padding": null,
            "right": null,
            "top": null,
            "visibility": null,
            "width": null
          }
        },
        "5a9d5d48c70e431abf687a96b2f8e0bd": {
          "model_module": "@jupyter-widgets/base",
          "model_name": "LayoutModel",
          "model_module_version": "1.2.0",
          "state": {
            "_model_module": "@jupyter-widgets/base",
            "_model_module_version": "1.2.0",
            "_model_name": "LayoutModel",
            "_view_count": null,
            "_view_module": "@jupyter-widgets/base",
            "_view_module_version": "1.2.0",
            "_view_name": "LayoutView",
            "align_content": null,
            "align_items": null,
            "align_self": null,
            "border": null,
            "bottom": null,
            "display": null,
            "flex": null,
            "flex_flow": null,
            "grid_area": null,
            "grid_auto_columns": null,
            "grid_auto_flow": null,
            "grid_auto_rows": null,
            "grid_column": null,
            "grid_gap": null,
            "grid_row": null,
            "grid_template_areas": null,
            "grid_template_columns": null,
            "grid_template_rows": null,
            "height": null,
            "justify_content": null,
            "justify_items": null,
            "left": null,
            "margin": null,
            "max_height": null,
            "max_width": null,
            "min_height": null,
            "min_width": null,
            "object_fit": null,
            "object_position": null,
            "order": null,
            "overflow": null,
            "overflow_x": null,
            "overflow_y": null,
            "padding": null,
            "right": null,
            "top": null,
            "visibility": null,
            "width": null
          }
        },
        "efd5cb9f98644db38ad371e62ed18dc5": {
          "model_module": "@jupyter-widgets/controls",
          "model_name": "DescriptionStyleModel",
          "model_module_version": "1.5.0",
          "state": {
            "_model_module": "@jupyter-widgets/controls",
            "_model_module_version": "1.5.0",
            "_model_name": "DescriptionStyleModel",
            "_view_count": null,
            "_view_module": "@jupyter-widgets/base",
            "_view_module_version": "1.2.0",
            "_view_name": "StyleView",
            "description_width": ""
          }
        },
        "10bc9101bfb44dd49e4dcbeb3b6bc147": {
          "model_module": "@jupyter-widgets/base",
          "model_name": "LayoutModel",
          "model_module_version": "1.2.0",
          "state": {
            "_model_module": "@jupyter-widgets/base",
            "_model_module_version": "1.2.0",
            "_model_name": "LayoutModel",
            "_view_count": null,
            "_view_module": "@jupyter-widgets/base",
            "_view_module_version": "1.2.0",
            "_view_name": "LayoutView",
            "align_content": null,
            "align_items": null,
            "align_self": null,
            "border": null,
            "bottom": null,
            "display": null,
            "flex": null,
            "flex_flow": null,
            "grid_area": null,
            "grid_auto_columns": null,
            "grid_auto_flow": null,
            "grid_auto_rows": null,
            "grid_column": null,
            "grid_gap": null,
            "grid_row": null,
            "grid_template_areas": null,
            "grid_template_columns": null,
            "grid_template_rows": null,
            "height": null,
            "justify_content": null,
            "justify_items": null,
            "left": null,
            "margin": null,
            "max_height": null,
            "max_width": null,
            "min_height": null,
            "min_width": null,
            "object_fit": null,
            "object_position": null,
            "order": null,
            "overflow": null,
            "overflow_x": null,
            "overflow_y": null,
            "padding": null,
            "right": null,
            "top": null,
            "visibility": null,
            "width": null
          }
        },
        "9104d8d8847f491896708d415ddfe2ea": {
          "model_module": "@jupyter-widgets/controls",
          "model_name": "ProgressStyleModel",
          "model_module_version": "1.5.0",
          "state": {
            "_model_module": "@jupyter-widgets/controls",
            "_model_module_version": "1.5.0",
            "_model_name": "ProgressStyleModel",
            "_view_count": null,
            "_view_module": "@jupyter-widgets/base",
            "_view_module_version": "1.2.0",
            "_view_name": "StyleView",
            "bar_color": null,
            "description_width": ""
          }
        },
        "b53a5d6f1f834844bbc18948c28cadb3": {
          "model_module": "@jupyter-widgets/controls",
          "model_name": "VBoxModel",
          "model_module_version": "1.5.0",
          "state": {
            "_dom_classes": [],
            "_model_module": "@jupyter-widgets/controls",
            "_model_module_version": "1.5.0",
            "_model_name": "VBoxModel",
            "_view_count": null,
            "_view_module": "@jupyter-widgets/controls",
            "_view_module_version": "1.5.0",
            "_view_name": "VBoxView",
            "box_style": "",
            "children": [
              "IPY_MODEL_0b0a92c0e89644958da9e42b5102fece",
              "IPY_MODEL_6dd16984eaed46ebbc7a14747c4b6604"
            ],
            "layout": "IPY_MODEL_027b6bcf343f41d7a8c4269a75c73209"
          }
        },
        "0b0a92c0e89644958da9e42b5102fece": {
          "model_module": "@jupyter-widgets/controls",
          "model_name": "LabelModel",
          "model_module_version": "1.5.0",
          "state": {
            "_dom_classes": [],
            "_model_module": "@jupyter-widgets/controls",
            "_model_module_version": "1.5.0",
            "_model_name": "LabelModel",
            "_view_count": null,
            "_view_module": "@jupyter-widgets/controls",
            "_view_module_version": "1.5.0",
            "_view_name": "LabelView",
            "description": "",
            "description_tooltip": null,
            "layout": "IPY_MODEL_72d33befb7184f7d808de1ce7c05d50d",
            "placeholder": "​",
            "style": "IPY_MODEL_e0d4b78027a248aab0bf7eda4dd52c48",
            "value": "0.043 MB of 0.043 MB uploaded (0.000 MB deduped)\r"
          }
        },
        "6dd16984eaed46ebbc7a14747c4b6604": {
          "model_module": "@jupyter-widgets/controls",
          "model_name": "FloatProgressModel",
          "model_module_version": "1.5.0",
          "state": {
            "_dom_classes": [],
            "_model_module": "@jupyter-widgets/controls",
            "_model_module_version": "1.5.0",
            "_model_name": "FloatProgressModel",
            "_view_count": null,
            "_view_module": "@jupyter-widgets/controls",
            "_view_module_version": "1.5.0",
            "_view_name": "ProgressView",
            "bar_style": "",
            "description": "",
            "description_tooltip": null,
            "layout": "IPY_MODEL_729da6057ba142af80f7f9aeb819aa42",
            "max": 1,
            "min": 0,
            "orientation": "horizontal",
            "style": "IPY_MODEL_0c23f6040bab42e9886ff46e01fa1c72",
            "value": 1
          }
        },
        "027b6bcf343f41d7a8c4269a75c73209": {
          "model_module": "@jupyter-widgets/base",
          "model_name": "LayoutModel",
          "model_module_version": "1.2.0",
          "state": {
            "_model_module": "@jupyter-widgets/base",
            "_model_module_version": "1.2.0",
            "_model_name": "LayoutModel",
            "_view_count": null,
            "_view_module": "@jupyter-widgets/base",
            "_view_module_version": "1.2.0",
            "_view_name": "LayoutView",
            "align_content": null,
            "align_items": null,
            "align_self": null,
            "border": null,
            "bottom": null,
            "display": null,
            "flex": null,
            "flex_flow": null,
            "grid_area": null,
            "grid_auto_columns": null,
            "grid_auto_flow": null,
            "grid_auto_rows": null,
            "grid_column": null,
            "grid_gap": null,
            "grid_row": null,
            "grid_template_areas": null,
            "grid_template_columns": null,
            "grid_template_rows": null,
            "height": null,
            "justify_content": null,
            "justify_items": null,
            "left": null,
            "margin": null,
            "max_height": null,
            "max_width": null,
            "min_height": null,
            "min_width": null,
            "object_fit": null,
            "object_position": null,
            "order": null,
            "overflow": null,
            "overflow_x": null,
            "overflow_y": null,
            "padding": null,
            "right": null,
            "top": null,
            "visibility": null,
            "width": null
          }
        },
        "72d33befb7184f7d808de1ce7c05d50d": {
          "model_module": "@jupyter-widgets/base",
          "model_name": "LayoutModel",
          "model_module_version": "1.2.0",
          "state": {
            "_model_module": "@jupyter-widgets/base",
            "_model_module_version": "1.2.0",
            "_model_name": "LayoutModel",
            "_view_count": null,
            "_view_module": "@jupyter-widgets/base",
            "_view_module_version": "1.2.0",
            "_view_name": "LayoutView",
            "align_content": null,
            "align_items": null,
            "align_self": null,
            "border": null,
            "bottom": null,
            "display": null,
            "flex": null,
            "flex_flow": null,
            "grid_area": null,
            "grid_auto_columns": null,
            "grid_auto_flow": null,
            "grid_auto_rows": null,
            "grid_column": null,
            "grid_gap": null,
            "grid_row": null,
            "grid_template_areas": null,
            "grid_template_columns": null,
            "grid_template_rows": null,
            "height": null,
            "justify_content": null,
            "justify_items": null,
            "left": null,
            "margin": null,
            "max_height": null,
            "max_width": null,
            "min_height": null,
            "min_width": null,
            "object_fit": null,
            "object_position": null,
            "order": null,
            "overflow": null,
            "overflow_x": null,
            "overflow_y": null,
            "padding": null,
            "right": null,
            "top": null,
            "visibility": null,
            "width": null
          }
        },
        "e0d4b78027a248aab0bf7eda4dd52c48": {
          "model_module": "@jupyter-widgets/controls",
          "model_name": "DescriptionStyleModel",
          "model_module_version": "1.5.0",
          "state": {
            "_model_module": "@jupyter-widgets/controls",
            "_model_module_version": "1.5.0",
            "_model_name": "DescriptionStyleModel",
            "_view_count": null,
            "_view_module": "@jupyter-widgets/base",
            "_view_module_version": "1.2.0",
            "_view_name": "StyleView",
            "description_width": ""
          }
        },
        "729da6057ba142af80f7f9aeb819aa42": {
          "model_module": "@jupyter-widgets/base",
          "model_name": "LayoutModel",
          "model_module_version": "1.2.0",
          "state": {
            "_model_module": "@jupyter-widgets/base",
            "_model_module_version": "1.2.0",
            "_model_name": "LayoutModel",
            "_view_count": null,
            "_view_module": "@jupyter-widgets/base",
            "_view_module_version": "1.2.0",
            "_view_name": "LayoutView",
            "align_content": null,
            "align_items": null,
            "align_self": null,
            "border": null,
            "bottom": null,
            "display": null,
            "flex": null,
            "flex_flow": null,
            "grid_area": null,
            "grid_auto_columns": null,
            "grid_auto_flow": null,
            "grid_auto_rows": null,
            "grid_column": null,
            "grid_gap": null,
            "grid_row": null,
            "grid_template_areas": null,
            "grid_template_columns": null,
            "grid_template_rows": null,
            "height": null,
            "justify_content": null,
            "justify_items": null,
            "left": null,
            "margin": null,
            "max_height": null,
            "max_width": null,
            "min_height": null,
            "min_width": null,
            "object_fit": null,
            "object_position": null,
            "order": null,
            "overflow": null,
            "overflow_x": null,
            "overflow_y": null,
            "padding": null,
            "right": null,
            "top": null,
            "visibility": null,
            "width": null
          }
        },
        "0c23f6040bab42e9886ff46e01fa1c72": {
          "model_module": "@jupyter-widgets/controls",
          "model_name": "ProgressStyleModel",
          "model_module_version": "1.5.0",
          "state": {
            "_model_module": "@jupyter-widgets/controls",
            "_model_module_version": "1.5.0",
            "_model_name": "ProgressStyleModel",
            "_view_count": null,
            "_view_module": "@jupyter-widgets/base",
            "_view_module_version": "1.2.0",
            "_view_name": "StyleView",
            "bar_color": null,
            "description_width": ""
          }
        },
        "dadfd585230b4dd594510b3e1ff8cc40": {
          "model_module": "@jupyter-widgets/controls",
          "model_name": "VBoxModel",
          "model_module_version": "1.5.0",
          "state": {
            "_dom_classes": [],
            "_model_module": "@jupyter-widgets/controls",
            "_model_module_version": "1.5.0",
            "_model_name": "VBoxModel",
            "_view_count": null,
            "_view_module": "@jupyter-widgets/controls",
            "_view_module_version": "1.5.0",
            "_view_name": "VBoxView",
            "box_style": "",
            "children": [
              "IPY_MODEL_c1e3695ccfb84ce885fe9903051b2270",
              "IPY_MODEL_f4eb19f51e9048e09e98d0afb14bb2f1"
            ],
            "layout": "IPY_MODEL_80a65cee7e814342b87ccf3e7fd535d5"
          }
        },
        "c1e3695ccfb84ce885fe9903051b2270": {
          "model_module": "@jupyter-widgets/controls",
          "model_name": "LabelModel",
          "model_module_version": "1.5.0",
          "state": {
            "_dom_classes": [],
            "_model_module": "@jupyter-widgets/controls",
            "_model_module_version": "1.5.0",
            "_model_name": "LabelModel",
            "_view_count": null,
            "_view_module": "@jupyter-widgets/controls",
            "_view_module_version": "1.5.0",
            "_view_name": "LabelView",
            "description": "",
            "description_tooltip": null,
            "layout": "IPY_MODEL_5a50543feb0a4fe7884426cda9037bd3",
            "placeholder": "​",
            "style": "IPY_MODEL_8ff38b3e6f304e8bb54cb2ca6e87573d",
            "value": "0.036 MB of 0.036 MB uploaded (0.000 MB deduped)\r"
          }
        },
        "f4eb19f51e9048e09e98d0afb14bb2f1": {
          "model_module": "@jupyter-widgets/controls",
          "model_name": "FloatProgressModel",
          "model_module_version": "1.5.0",
          "state": {
            "_dom_classes": [],
            "_model_module": "@jupyter-widgets/controls",
            "_model_module_version": "1.5.0",
            "_model_name": "FloatProgressModel",
            "_view_count": null,
            "_view_module": "@jupyter-widgets/controls",
            "_view_module_version": "1.5.0",
            "_view_name": "ProgressView",
            "bar_style": "",
            "description": "",
            "description_tooltip": null,
            "layout": "IPY_MODEL_48d56962d90247fd8bb79debc55b1ce1",
            "max": 1,
            "min": 0,
            "orientation": "horizontal",
            "style": "IPY_MODEL_2e00046aa2c345438f4e7f36fc673cc4",
            "value": 1
          }
        },
        "80a65cee7e814342b87ccf3e7fd535d5": {
          "model_module": "@jupyter-widgets/base",
          "model_name": "LayoutModel",
          "model_module_version": "1.2.0",
          "state": {
            "_model_module": "@jupyter-widgets/base",
            "_model_module_version": "1.2.0",
            "_model_name": "LayoutModel",
            "_view_count": null,
            "_view_module": "@jupyter-widgets/base",
            "_view_module_version": "1.2.0",
            "_view_name": "LayoutView",
            "align_content": null,
            "align_items": null,
            "align_self": null,
            "border": null,
            "bottom": null,
            "display": null,
            "flex": null,
            "flex_flow": null,
            "grid_area": null,
            "grid_auto_columns": null,
            "grid_auto_flow": null,
            "grid_auto_rows": null,
            "grid_column": null,
            "grid_gap": null,
            "grid_row": null,
            "grid_template_areas": null,
            "grid_template_columns": null,
            "grid_template_rows": null,
            "height": null,
            "justify_content": null,
            "justify_items": null,
            "left": null,
            "margin": null,
            "max_height": null,
            "max_width": null,
            "min_height": null,
            "min_width": null,
            "object_fit": null,
            "object_position": null,
            "order": null,
            "overflow": null,
            "overflow_x": null,
            "overflow_y": null,
            "padding": null,
            "right": null,
            "top": null,
            "visibility": null,
            "width": null
          }
        },
        "5a50543feb0a4fe7884426cda9037bd3": {
          "model_module": "@jupyter-widgets/base",
          "model_name": "LayoutModel",
          "model_module_version": "1.2.0",
          "state": {
            "_model_module": "@jupyter-widgets/base",
            "_model_module_version": "1.2.0",
            "_model_name": "LayoutModel",
            "_view_count": null,
            "_view_module": "@jupyter-widgets/base",
            "_view_module_version": "1.2.0",
            "_view_name": "LayoutView",
            "align_content": null,
            "align_items": null,
            "align_self": null,
            "border": null,
            "bottom": null,
            "display": null,
            "flex": null,
            "flex_flow": null,
            "grid_area": null,
            "grid_auto_columns": null,
            "grid_auto_flow": null,
            "grid_auto_rows": null,
            "grid_column": null,
            "grid_gap": null,
            "grid_row": null,
            "grid_template_areas": null,
            "grid_template_columns": null,
            "grid_template_rows": null,
            "height": null,
            "justify_content": null,
            "justify_items": null,
            "left": null,
            "margin": null,
            "max_height": null,
            "max_width": null,
            "min_height": null,
            "min_width": null,
            "object_fit": null,
            "object_position": null,
            "order": null,
            "overflow": null,
            "overflow_x": null,
            "overflow_y": null,
            "padding": null,
            "right": null,
            "top": null,
            "visibility": null,
            "width": null
          }
        },
        "8ff38b3e6f304e8bb54cb2ca6e87573d": {
          "model_module": "@jupyter-widgets/controls",
          "model_name": "DescriptionStyleModel",
          "model_module_version": "1.5.0",
          "state": {
            "_model_module": "@jupyter-widgets/controls",
            "_model_module_version": "1.5.0",
            "_model_name": "DescriptionStyleModel",
            "_view_count": null,
            "_view_module": "@jupyter-widgets/base",
            "_view_module_version": "1.2.0",
            "_view_name": "StyleView",
            "description_width": ""
          }
        },
        "48d56962d90247fd8bb79debc55b1ce1": {
          "model_module": "@jupyter-widgets/base",
          "model_name": "LayoutModel",
          "model_module_version": "1.2.0",
          "state": {
            "_model_module": "@jupyter-widgets/base",
            "_model_module_version": "1.2.0",
            "_model_name": "LayoutModel",
            "_view_count": null,
            "_view_module": "@jupyter-widgets/base",
            "_view_module_version": "1.2.0",
            "_view_name": "LayoutView",
            "align_content": null,
            "align_items": null,
            "align_self": null,
            "border": null,
            "bottom": null,
            "display": null,
            "flex": null,
            "flex_flow": null,
            "grid_area": null,
            "grid_auto_columns": null,
            "grid_auto_flow": null,
            "grid_auto_rows": null,
            "grid_column": null,
            "grid_gap": null,
            "grid_row": null,
            "grid_template_areas": null,
            "grid_template_columns": null,
            "grid_template_rows": null,
            "height": null,
            "justify_content": null,
            "justify_items": null,
            "left": null,
            "margin": null,
            "max_height": null,
            "max_width": null,
            "min_height": null,
            "min_width": null,
            "object_fit": null,
            "object_position": null,
            "order": null,
            "overflow": null,
            "overflow_x": null,
            "overflow_y": null,
            "padding": null,
            "right": null,
            "top": null,
            "visibility": null,
            "width": null
          }
        },
        "2e00046aa2c345438f4e7f36fc673cc4": {
          "model_module": "@jupyter-widgets/controls",
          "model_name": "ProgressStyleModel",
          "model_module_version": "1.5.0",
          "state": {
            "_model_module": "@jupyter-widgets/controls",
            "_model_module_version": "1.5.0",
            "_model_name": "ProgressStyleModel",
            "_view_count": null,
            "_view_module": "@jupyter-widgets/base",
            "_view_module_version": "1.2.0",
            "_view_name": "StyleView",
            "bar_color": null,
            "description_width": ""
          }
        },
        "69290cbbf028456982dfcc436c452431": {
          "model_module": "@jupyter-widgets/controls",
          "model_name": "VBoxModel",
          "model_module_version": "1.5.0",
          "state": {
            "_dom_classes": [],
            "_model_module": "@jupyter-widgets/controls",
            "_model_module_version": "1.5.0",
            "_model_name": "VBoxModel",
            "_view_count": null,
            "_view_module": "@jupyter-widgets/controls",
            "_view_module_version": "1.5.0",
            "_view_name": "VBoxView",
            "box_style": "",
            "children": [
              "IPY_MODEL_a6c54fd5e3464d9287f51b71f0eb0cd4",
              "IPY_MODEL_619b88757f624ac0a68eb124ebcb7b91"
            ],
            "layout": "IPY_MODEL_8d0135d2eb044f058780ca4ea14a5f7c"
          }
        },
        "a6c54fd5e3464d9287f51b71f0eb0cd4": {
          "model_module": "@jupyter-widgets/controls",
          "model_name": "LabelModel",
          "model_module_version": "1.5.0",
          "state": {
            "_dom_classes": [],
            "_model_module": "@jupyter-widgets/controls",
            "_model_module_version": "1.5.0",
            "_model_name": "LabelModel",
            "_view_count": null,
            "_view_module": "@jupyter-widgets/controls",
            "_view_module_version": "1.5.0",
            "_view_name": "LabelView",
            "description": "",
            "description_tooltip": null,
            "layout": "IPY_MODEL_47ed850b3c0e473a963bbb5fd7f6c97c",
            "placeholder": "​",
            "style": "IPY_MODEL_7e0ae411d3e840a2a1bdce158d8b86f2",
            "value": "0.042 MB of 0.042 MB uploaded (0.000 MB deduped)\r"
          }
        },
        "619b88757f624ac0a68eb124ebcb7b91": {
          "model_module": "@jupyter-widgets/controls",
          "model_name": "FloatProgressModel",
          "model_module_version": "1.5.0",
          "state": {
            "_dom_classes": [],
            "_model_module": "@jupyter-widgets/controls",
            "_model_module_version": "1.5.0",
            "_model_name": "FloatProgressModel",
            "_view_count": null,
            "_view_module": "@jupyter-widgets/controls",
            "_view_module_version": "1.5.0",
            "_view_name": "ProgressView",
            "bar_style": "",
            "description": "",
            "description_tooltip": null,
            "layout": "IPY_MODEL_3a9f4257dad54700b2153300e0e9e97a",
            "max": 1,
            "min": 0,
            "orientation": "horizontal",
            "style": "IPY_MODEL_3437480dd6ad4ae3a6cce3be965ae9fc",
            "value": 1
          }
        },
        "8d0135d2eb044f058780ca4ea14a5f7c": {
          "model_module": "@jupyter-widgets/base",
          "model_name": "LayoutModel",
          "model_module_version": "1.2.0",
          "state": {
            "_model_module": "@jupyter-widgets/base",
            "_model_module_version": "1.2.0",
            "_model_name": "LayoutModel",
            "_view_count": null,
            "_view_module": "@jupyter-widgets/base",
            "_view_module_version": "1.2.0",
            "_view_name": "LayoutView",
            "align_content": null,
            "align_items": null,
            "align_self": null,
            "border": null,
            "bottom": null,
            "display": null,
            "flex": null,
            "flex_flow": null,
            "grid_area": null,
            "grid_auto_columns": null,
            "grid_auto_flow": null,
            "grid_auto_rows": null,
            "grid_column": null,
            "grid_gap": null,
            "grid_row": null,
            "grid_template_areas": null,
            "grid_template_columns": null,
            "grid_template_rows": null,
            "height": null,
            "justify_content": null,
            "justify_items": null,
            "left": null,
            "margin": null,
            "max_height": null,
            "max_width": null,
            "min_height": null,
            "min_width": null,
            "object_fit": null,
            "object_position": null,
            "order": null,
            "overflow": null,
            "overflow_x": null,
            "overflow_y": null,
            "padding": null,
            "right": null,
            "top": null,
            "visibility": null,
            "width": null
          }
        },
        "47ed850b3c0e473a963bbb5fd7f6c97c": {
          "model_module": "@jupyter-widgets/base",
          "model_name": "LayoutModel",
          "model_module_version": "1.2.0",
          "state": {
            "_model_module": "@jupyter-widgets/base",
            "_model_module_version": "1.2.0",
            "_model_name": "LayoutModel",
            "_view_count": null,
            "_view_module": "@jupyter-widgets/base",
            "_view_module_version": "1.2.0",
            "_view_name": "LayoutView",
            "align_content": null,
            "align_items": null,
            "align_self": null,
            "border": null,
            "bottom": null,
            "display": null,
            "flex": null,
            "flex_flow": null,
            "grid_area": null,
            "grid_auto_columns": null,
            "grid_auto_flow": null,
            "grid_auto_rows": null,
            "grid_column": null,
            "grid_gap": null,
            "grid_row": null,
            "grid_template_areas": null,
            "grid_template_columns": null,
            "grid_template_rows": null,
            "height": null,
            "justify_content": null,
            "justify_items": null,
            "left": null,
            "margin": null,
            "max_height": null,
            "max_width": null,
            "min_height": null,
            "min_width": null,
            "object_fit": null,
            "object_position": null,
            "order": null,
            "overflow": null,
            "overflow_x": null,
            "overflow_y": null,
            "padding": null,
            "right": null,
            "top": null,
            "visibility": null,
            "width": null
          }
        },
        "7e0ae411d3e840a2a1bdce158d8b86f2": {
          "model_module": "@jupyter-widgets/controls",
          "model_name": "DescriptionStyleModel",
          "model_module_version": "1.5.0",
          "state": {
            "_model_module": "@jupyter-widgets/controls",
            "_model_module_version": "1.5.0",
            "_model_name": "DescriptionStyleModel",
            "_view_count": null,
            "_view_module": "@jupyter-widgets/base",
            "_view_module_version": "1.2.0",
            "_view_name": "StyleView",
            "description_width": ""
          }
        },
        "3a9f4257dad54700b2153300e0e9e97a": {
          "model_module": "@jupyter-widgets/base",
          "model_name": "LayoutModel",
          "model_module_version": "1.2.0",
          "state": {
            "_model_module": "@jupyter-widgets/base",
            "_model_module_version": "1.2.0",
            "_model_name": "LayoutModel",
            "_view_count": null,
            "_view_module": "@jupyter-widgets/base",
            "_view_module_version": "1.2.0",
            "_view_name": "LayoutView",
            "align_content": null,
            "align_items": null,
            "align_self": null,
            "border": null,
            "bottom": null,
            "display": null,
            "flex": null,
            "flex_flow": null,
            "grid_area": null,
            "grid_auto_columns": null,
            "grid_auto_flow": null,
            "grid_auto_rows": null,
            "grid_column": null,
            "grid_gap": null,
            "grid_row": null,
            "grid_template_areas": null,
            "grid_template_columns": null,
            "grid_template_rows": null,
            "height": null,
            "justify_content": null,
            "justify_items": null,
            "left": null,
            "margin": null,
            "max_height": null,
            "max_width": null,
            "min_height": null,
            "min_width": null,
            "object_fit": null,
            "object_position": null,
            "order": null,
            "overflow": null,
            "overflow_x": null,
            "overflow_y": null,
            "padding": null,
            "right": null,
            "top": null,
            "visibility": null,
            "width": null
          }
        },
        "3437480dd6ad4ae3a6cce3be965ae9fc": {
          "model_module": "@jupyter-widgets/controls",
          "model_name": "ProgressStyleModel",
          "model_module_version": "1.5.0",
          "state": {
            "_model_module": "@jupyter-widgets/controls",
            "_model_module_version": "1.5.0",
            "_model_name": "ProgressStyleModel",
            "_view_count": null,
            "_view_module": "@jupyter-widgets/base",
            "_view_module_version": "1.2.0",
            "_view_name": "StyleView",
            "bar_color": null,
            "description_width": ""
          }
        },
        "3b1c9bd3c5ed4e0da8d9bfe53f532d85": {
          "model_module": "@jupyter-widgets/controls",
          "model_name": "VBoxModel",
          "model_module_version": "1.5.0",
          "state": {
            "_dom_classes": [],
            "_model_module": "@jupyter-widgets/controls",
            "_model_module_version": "1.5.0",
            "_model_name": "VBoxModel",
            "_view_count": null,
            "_view_module": "@jupyter-widgets/controls",
            "_view_module_version": "1.5.0",
            "_view_name": "VBoxView",
            "box_style": "",
            "children": [
              "IPY_MODEL_07a9bdfd6f034d4ab3039176e6186a39",
              "IPY_MODEL_9755ff50c4524ea2bc005b42acd45c61"
            ],
            "layout": "IPY_MODEL_0b3eed4f297744df9ba8a378ce95bca0"
          }
        },
        "07a9bdfd6f034d4ab3039176e6186a39": {
          "model_module": "@jupyter-widgets/controls",
          "model_name": "LabelModel",
          "model_module_version": "1.5.0",
          "state": {
            "_dom_classes": [],
            "_model_module": "@jupyter-widgets/controls",
            "_model_module_version": "1.5.0",
            "_model_name": "LabelModel",
            "_view_count": null,
            "_view_module": "@jupyter-widgets/controls",
            "_view_module_version": "1.5.0",
            "_view_name": "LabelView",
            "description": "",
            "description_tooltip": null,
            "layout": "IPY_MODEL_a84c38e570014081aa7f3c7962ff6567",
            "placeholder": "​",
            "style": "IPY_MODEL_ebe854f67a6e4ea3805cb8a8591baed8",
            "value": "0.041 MB of 0.041 MB uploaded (0.000 MB deduped)\r"
          }
        },
        "9755ff50c4524ea2bc005b42acd45c61": {
          "model_module": "@jupyter-widgets/controls",
          "model_name": "FloatProgressModel",
          "model_module_version": "1.5.0",
          "state": {
            "_dom_classes": [],
            "_model_module": "@jupyter-widgets/controls",
            "_model_module_version": "1.5.0",
            "_model_name": "FloatProgressModel",
            "_view_count": null,
            "_view_module": "@jupyter-widgets/controls",
            "_view_module_version": "1.5.0",
            "_view_name": "ProgressView",
            "bar_style": "",
            "description": "",
            "description_tooltip": null,
            "layout": "IPY_MODEL_ea91543420ee4ca8b6781b04087f144a",
            "max": 1,
            "min": 0,
            "orientation": "horizontal",
            "style": "IPY_MODEL_bf0360e7a2244b0a90a26df7c644ccc9",
            "value": 1
          }
        },
        "0b3eed4f297744df9ba8a378ce95bca0": {
          "model_module": "@jupyter-widgets/base",
          "model_name": "LayoutModel",
          "model_module_version": "1.2.0",
          "state": {
            "_model_module": "@jupyter-widgets/base",
            "_model_module_version": "1.2.0",
            "_model_name": "LayoutModel",
            "_view_count": null,
            "_view_module": "@jupyter-widgets/base",
            "_view_module_version": "1.2.0",
            "_view_name": "LayoutView",
            "align_content": null,
            "align_items": null,
            "align_self": null,
            "border": null,
            "bottom": null,
            "display": null,
            "flex": null,
            "flex_flow": null,
            "grid_area": null,
            "grid_auto_columns": null,
            "grid_auto_flow": null,
            "grid_auto_rows": null,
            "grid_column": null,
            "grid_gap": null,
            "grid_row": null,
            "grid_template_areas": null,
            "grid_template_columns": null,
            "grid_template_rows": null,
            "height": null,
            "justify_content": null,
            "justify_items": null,
            "left": null,
            "margin": null,
            "max_height": null,
            "max_width": null,
            "min_height": null,
            "min_width": null,
            "object_fit": null,
            "object_position": null,
            "order": null,
            "overflow": null,
            "overflow_x": null,
            "overflow_y": null,
            "padding": null,
            "right": null,
            "top": null,
            "visibility": null,
            "width": null
          }
        },
        "a84c38e570014081aa7f3c7962ff6567": {
          "model_module": "@jupyter-widgets/base",
          "model_name": "LayoutModel",
          "model_module_version": "1.2.0",
          "state": {
            "_model_module": "@jupyter-widgets/base",
            "_model_module_version": "1.2.0",
            "_model_name": "LayoutModel",
            "_view_count": null,
            "_view_module": "@jupyter-widgets/base",
            "_view_module_version": "1.2.0",
            "_view_name": "LayoutView",
            "align_content": null,
            "align_items": null,
            "align_self": null,
            "border": null,
            "bottom": null,
            "display": null,
            "flex": null,
            "flex_flow": null,
            "grid_area": null,
            "grid_auto_columns": null,
            "grid_auto_flow": null,
            "grid_auto_rows": null,
            "grid_column": null,
            "grid_gap": null,
            "grid_row": null,
            "grid_template_areas": null,
            "grid_template_columns": null,
            "grid_template_rows": null,
            "height": null,
            "justify_content": null,
            "justify_items": null,
            "left": null,
            "margin": null,
            "max_height": null,
            "max_width": null,
            "min_height": null,
            "min_width": null,
            "object_fit": null,
            "object_position": null,
            "order": null,
            "overflow": null,
            "overflow_x": null,
            "overflow_y": null,
            "padding": null,
            "right": null,
            "top": null,
            "visibility": null,
            "width": null
          }
        },
        "ebe854f67a6e4ea3805cb8a8591baed8": {
          "model_module": "@jupyter-widgets/controls",
          "model_name": "DescriptionStyleModel",
          "model_module_version": "1.5.0",
          "state": {
            "_model_module": "@jupyter-widgets/controls",
            "_model_module_version": "1.5.0",
            "_model_name": "DescriptionStyleModel",
            "_view_count": null,
            "_view_module": "@jupyter-widgets/base",
            "_view_module_version": "1.2.0",
            "_view_name": "StyleView",
            "description_width": ""
          }
        },
        "ea91543420ee4ca8b6781b04087f144a": {
          "model_module": "@jupyter-widgets/base",
          "model_name": "LayoutModel",
          "model_module_version": "1.2.0",
          "state": {
            "_model_module": "@jupyter-widgets/base",
            "_model_module_version": "1.2.0",
            "_model_name": "LayoutModel",
            "_view_count": null,
            "_view_module": "@jupyter-widgets/base",
            "_view_module_version": "1.2.0",
            "_view_name": "LayoutView",
            "align_content": null,
            "align_items": null,
            "align_self": null,
            "border": null,
            "bottom": null,
            "display": null,
            "flex": null,
            "flex_flow": null,
            "grid_area": null,
            "grid_auto_columns": null,
            "grid_auto_flow": null,
            "grid_auto_rows": null,
            "grid_column": null,
            "grid_gap": null,
            "grid_row": null,
            "grid_template_areas": null,
            "grid_template_columns": null,
            "grid_template_rows": null,
            "height": null,
            "justify_content": null,
            "justify_items": null,
            "left": null,
            "margin": null,
            "max_height": null,
            "max_width": null,
            "min_height": null,
            "min_width": null,
            "object_fit": null,
            "object_position": null,
            "order": null,
            "overflow": null,
            "overflow_x": null,
            "overflow_y": null,
            "padding": null,
            "right": null,
            "top": null,
            "visibility": null,
            "width": null
          }
        },
        "bf0360e7a2244b0a90a26df7c644ccc9": {
          "model_module": "@jupyter-widgets/controls",
          "model_name": "ProgressStyleModel",
          "model_module_version": "1.5.0",
          "state": {
            "_model_module": "@jupyter-widgets/controls",
            "_model_module_version": "1.5.0",
            "_model_name": "ProgressStyleModel",
            "_view_count": null,
            "_view_module": "@jupyter-widgets/base",
            "_view_module_version": "1.2.0",
            "_view_name": "StyleView",
            "bar_color": null,
            "description_width": ""
          }
        },
        "6e340a2959df42a9bf4f9cf9eeefc3c4": {
          "model_module": "@jupyter-widgets/controls",
          "model_name": "VBoxModel",
          "model_module_version": "1.5.0",
          "state": {
            "_dom_classes": [],
            "_model_module": "@jupyter-widgets/controls",
            "_model_module_version": "1.5.0",
            "_model_name": "VBoxModel",
            "_view_count": null,
            "_view_module": "@jupyter-widgets/controls",
            "_view_module_version": "1.5.0",
            "_view_name": "VBoxView",
            "box_style": "",
            "children": [
              "IPY_MODEL_bd29e30dd49c45fa9f16eb94221e7f7e",
              "IPY_MODEL_29a425a4531a4b6896e2085da8aa792f"
            ],
            "layout": "IPY_MODEL_d8ea5d812b44414faa22f617bdb80849"
          }
        },
        "bd29e30dd49c45fa9f16eb94221e7f7e": {
          "model_module": "@jupyter-widgets/controls",
          "model_name": "LabelModel",
          "model_module_version": "1.5.0",
          "state": {
            "_dom_classes": [],
            "_model_module": "@jupyter-widgets/controls",
            "_model_module_version": "1.5.0",
            "_model_name": "LabelModel",
            "_view_count": null,
            "_view_module": "@jupyter-widgets/controls",
            "_view_module_version": "1.5.0",
            "_view_name": "LabelView",
            "description": "",
            "description_tooltip": null,
            "layout": "IPY_MODEL_2e42134cf31142ceab4a929d504b2b29",
            "placeholder": "​",
            "style": "IPY_MODEL_d841161e9b174fea81dde134dad6d778",
            "value": "0.033 MB of 0.033 MB uploaded (0.000 MB deduped)\r"
          }
        },
        "29a425a4531a4b6896e2085da8aa792f": {
          "model_module": "@jupyter-widgets/controls",
          "model_name": "FloatProgressModel",
          "model_module_version": "1.5.0",
          "state": {
            "_dom_classes": [],
            "_model_module": "@jupyter-widgets/controls",
            "_model_module_version": "1.5.0",
            "_model_name": "FloatProgressModel",
            "_view_count": null,
            "_view_module": "@jupyter-widgets/controls",
            "_view_module_version": "1.5.0",
            "_view_name": "ProgressView",
            "bar_style": "",
            "description": "",
            "description_tooltip": null,
            "layout": "IPY_MODEL_0792ebc5d5874c04b83926b1f7b9033e",
            "max": 1,
            "min": 0,
            "orientation": "horizontal",
            "style": "IPY_MODEL_9010f2d5238348288d82a6bda8a2cc18",
            "value": 1
          }
        },
        "d8ea5d812b44414faa22f617bdb80849": {
          "model_module": "@jupyter-widgets/base",
          "model_name": "LayoutModel",
          "model_module_version": "1.2.0",
          "state": {
            "_model_module": "@jupyter-widgets/base",
            "_model_module_version": "1.2.0",
            "_model_name": "LayoutModel",
            "_view_count": null,
            "_view_module": "@jupyter-widgets/base",
            "_view_module_version": "1.2.0",
            "_view_name": "LayoutView",
            "align_content": null,
            "align_items": null,
            "align_self": null,
            "border": null,
            "bottom": null,
            "display": null,
            "flex": null,
            "flex_flow": null,
            "grid_area": null,
            "grid_auto_columns": null,
            "grid_auto_flow": null,
            "grid_auto_rows": null,
            "grid_column": null,
            "grid_gap": null,
            "grid_row": null,
            "grid_template_areas": null,
            "grid_template_columns": null,
            "grid_template_rows": null,
            "height": null,
            "justify_content": null,
            "justify_items": null,
            "left": null,
            "margin": null,
            "max_height": null,
            "max_width": null,
            "min_height": null,
            "min_width": null,
            "object_fit": null,
            "object_position": null,
            "order": null,
            "overflow": null,
            "overflow_x": null,
            "overflow_y": null,
            "padding": null,
            "right": null,
            "top": null,
            "visibility": null,
            "width": null
          }
        },
        "2e42134cf31142ceab4a929d504b2b29": {
          "model_module": "@jupyter-widgets/base",
          "model_name": "LayoutModel",
          "model_module_version": "1.2.0",
          "state": {
            "_model_module": "@jupyter-widgets/base",
            "_model_module_version": "1.2.0",
            "_model_name": "LayoutModel",
            "_view_count": null,
            "_view_module": "@jupyter-widgets/base",
            "_view_module_version": "1.2.0",
            "_view_name": "LayoutView",
            "align_content": null,
            "align_items": null,
            "align_self": null,
            "border": null,
            "bottom": null,
            "display": null,
            "flex": null,
            "flex_flow": null,
            "grid_area": null,
            "grid_auto_columns": null,
            "grid_auto_flow": null,
            "grid_auto_rows": null,
            "grid_column": null,
            "grid_gap": null,
            "grid_row": null,
            "grid_template_areas": null,
            "grid_template_columns": null,
            "grid_template_rows": null,
            "height": null,
            "justify_content": null,
            "justify_items": null,
            "left": null,
            "margin": null,
            "max_height": null,
            "max_width": null,
            "min_height": null,
            "min_width": null,
            "object_fit": null,
            "object_position": null,
            "order": null,
            "overflow": null,
            "overflow_x": null,
            "overflow_y": null,
            "padding": null,
            "right": null,
            "top": null,
            "visibility": null,
            "width": null
          }
        },
        "d841161e9b174fea81dde134dad6d778": {
          "model_module": "@jupyter-widgets/controls",
          "model_name": "DescriptionStyleModel",
          "model_module_version": "1.5.0",
          "state": {
            "_model_module": "@jupyter-widgets/controls",
            "_model_module_version": "1.5.0",
            "_model_name": "DescriptionStyleModel",
            "_view_count": null,
            "_view_module": "@jupyter-widgets/base",
            "_view_module_version": "1.2.0",
            "_view_name": "StyleView",
            "description_width": ""
          }
        },
        "0792ebc5d5874c04b83926b1f7b9033e": {
          "model_module": "@jupyter-widgets/base",
          "model_name": "LayoutModel",
          "model_module_version": "1.2.0",
          "state": {
            "_model_module": "@jupyter-widgets/base",
            "_model_module_version": "1.2.0",
            "_model_name": "LayoutModel",
            "_view_count": null,
            "_view_module": "@jupyter-widgets/base",
            "_view_module_version": "1.2.0",
            "_view_name": "LayoutView",
            "align_content": null,
            "align_items": null,
            "align_self": null,
            "border": null,
            "bottom": null,
            "display": null,
            "flex": null,
            "flex_flow": null,
            "grid_area": null,
            "grid_auto_columns": null,
            "grid_auto_flow": null,
            "grid_auto_rows": null,
            "grid_column": null,
            "grid_gap": null,
            "grid_row": null,
            "grid_template_areas": null,
            "grid_template_columns": null,
            "grid_template_rows": null,
            "height": null,
            "justify_content": null,
            "justify_items": null,
            "left": null,
            "margin": null,
            "max_height": null,
            "max_width": null,
            "min_height": null,
            "min_width": null,
            "object_fit": null,
            "object_position": null,
            "order": null,
            "overflow": null,
            "overflow_x": null,
            "overflow_y": null,
            "padding": null,
            "right": null,
            "top": null,
            "visibility": null,
            "width": null
          }
        },
        "9010f2d5238348288d82a6bda8a2cc18": {
          "model_module": "@jupyter-widgets/controls",
          "model_name": "ProgressStyleModel",
          "model_module_version": "1.5.0",
          "state": {
            "_model_module": "@jupyter-widgets/controls",
            "_model_module_version": "1.5.0",
            "_model_name": "ProgressStyleModel",
            "_view_count": null,
            "_view_module": "@jupyter-widgets/base",
            "_view_module_version": "1.2.0",
            "_view_name": "StyleView",
            "bar_color": null,
            "description_width": ""
          }
        },
        "6fad187ed646489a9c96486f65323689": {
          "model_module": "@jupyter-widgets/controls",
          "model_name": "VBoxModel",
          "model_module_version": "1.5.0",
          "state": {
            "_dom_classes": [],
            "_model_module": "@jupyter-widgets/controls",
            "_model_module_version": "1.5.0",
            "_model_name": "VBoxModel",
            "_view_count": null,
            "_view_module": "@jupyter-widgets/controls",
            "_view_module_version": "1.5.0",
            "_view_name": "VBoxView",
            "box_style": "",
            "children": [
              "IPY_MODEL_dab377889f624f7aa4d0a44760f1b38a",
              "IPY_MODEL_7b658235df204e8887d6f295e9642b7c"
            ],
            "layout": "IPY_MODEL_29250a1f43974cf79b174ef6a369defd"
          }
        },
        "dab377889f624f7aa4d0a44760f1b38a": {
          "model_module": "@jupyter-widgets/controls",
          "model_name": "LabelModel",
          "model_module_version": "1.5.0",
          "state": {
            "_dom_classes": [],
            "_model_module": "@jupyter-widgets/controls",
            "_model_module_version": "1.5.0",
            "_model_name": "LabelModel",
            "_view_count": null,
            "_view_module": "@jupyter-widgets/controls",
            "_view_module_version": "1.5.0",
            "_view_name": "LabelView",
            "description": "",
            "description_tooltip": null,
            "layout": "IPY_MODEL_98797cde4d8f4369b687f0088514c003",
            "placeholder": "​",
            "style": "IPY_MODEL_6b3d7dedc7e849619fc751bf9cebc0c8",
            "value": "0.048 MB of 0.048 MB uploaded (0.000 MB deduped)\r"
          }
        },
        "7b658235df204e8887d6f295e9642b7c": {
          "model_module": "@jupyter-widgets/controls",
          "model_name": "FloatProgressModel",
          "model_module_version": "1.5.0",
          "state": {
            "_dom_classes": [],
            "_model_module": "@jupyter-widgets/controls",
            "_model_module_version": "1.5.0",
            "_model_name": "FloatProgressModel",
            "_view_count": null,
            "_view_module": "@jupyter-widgets/controls",
            "_view_module_version": "1.5.0",
            "_view_name": "ProgressView",
            "bar_style": "",
            "description": "",
            "description_tooltip": null,
            "layout": "IPY_MODEL_2be8dc2a8fcc4d94b495c1a7c2d86e1e",
            "max": 1,
            "min": 0,
            "orientation": "horizontal",
            "style": "IPY_MODEL_1a53a90699ca496891f230ae40ecd635",
            "value": 1
          }
        },
        "29250a1f43974cf79b174ef6a369defd": {
          "model_module": "@jupyter-widgets/base",
          "model_name": "LayoutModel",
          "model_module_version": "1.2.0",
          "state": {
            "_model_module": "@jupyter-widgets/base",
            "_model_module_version": "1.2.0",
            "_model_name": "LayoutModel",
            "_view_count": null,
            "_view_module": "@jupyter-widgets/base",
            "_view_module_version": "1.2.0",
            "_view_name": "LayoutView",
            "align_content": null,
            "align_items": null,
            "align_self": null,
            "border": null,
            "bottom": null,
            "display": null,
            "flex": null,
            "flex_flow": null,
            "grid_area": null,
            "grid_auto_columns": null,
            "grid_auto_flow": null,
            "grid_auto_rows": null,
            "grid_column": null,
            "grid_gap": null,
            "grid_row": null,
            "grid_template_areas": null,
            "grid_template_columns": null,
            "grid_template_rows": null,
            "height": null,
            "justify_content": null,
            "justify_items": null,
            "left": null,
            "margin": null,
            "max_height": null,
            "max_width": null,
            "min_height": null,
            "min_width": null,
            "object_fit": null,
            "object_position": null,
            "order": null,
            "overflow": null,
            "overflow_x": null,
            "overflow_y": null,
            "padding": null,
            "right": null,
            "top": null,
            "visibility": null,
            "width": null
          }
        },
        "98797cde4d8f4369b687f0088514c003": {
          "model_module": "@jupyter-widgets/base",
          "model_name": "LayoutModel",
          "model_module_version": "1.2.0",
          "state": {
            "_model_module": "@jupyter-widgets/base",
            "_model_module_version": "1.2.0",
            "_model_name": "LayoutModel",
            "_view_count": null,
            "_view_module": "@jupyter-widgets/base",
            "_view_module_version": "1.2.0",
            "_view_name": "LayoutView",
            "align_content": null,
            "align_items": null,
            "align_self": null,
            "border": null,
            "bottom": null,
            "display": null,
            "flex": null,
            "flex_flow": null,
            "grid_area": null,
            "grid_auto_columns": null,
            "grid_auto_flow": null,
            "grid_auto_rows": null,
            "grid_column": null,
            "grid_gap": null,
            "grid_row": null,
            "grid_template_areas": null,
            "grid_template_columns": null,
            "grid_template_rows": null,
            "height": null,
            "justify_content": null,
            "justify_items": null,
            "left": null,
            "margin": null,
            "max_height": null,
            "max_width": null,
            "min_height": null,
            "min_width": null,
            "object_fit": null,
            "object_position": null,
            "order": null,
            "overflow": null,
            "overflow_x": null,
            "overflow_y": null,
            "padding": null,
            "right": null,
            "top": null,
            "visibility": null,
            "width": null
          }
        },
        "6b3d7dedc7e849619fc751bf9cebc0c8": {
          "model_module": "@jupyter-widgets/controls",
          "model_name": "DescriptionStyleModel",
          "model_module_version": "1.5.0",
          "state": {
            "_model_module": "@jupyter-widgets/controls",
            "_model_module_version": "1.5.0",
            "_model_name": "DescriptionStyleModel",
            "_view_count": null,
            "_view_module": "@jupyter-widgets/base",
            "_view_module_version": "1.2.0",
            "_view_name": "StyleView",
            "description_width": ""
          }
        },
        "2be8dc2a8fcc4d94b495c1a7c2d86e1e": {
          "model_module": "@jupyter-widgets/base",
          "model_name": "LayoutModel",
          "model_module_version": "1.2.0",
          "state": {
            "_model_module": "@jupyter-widgets/base",
            "_model_module_version": "1.2.0",
            "_model_name": "LayoutModel",
            "_view_count": null,
            "_view_module": "@jupyter-widgets/base",
            "_view_module_version": "1.2.0",
            "_view_name": "LayoutView",
            "align_content": null,
            "align_items": null,
            "align_self": null,
            "border": null,
            "bottom": null,
            "display": null,
            "flex": null,
            "flex_flow": null,
            "grid_area": null,
            "grid_auto_columns": null,
            "grid_auto_flow": null,
            "grid_auto_rows": null,
            "grid_column": null,
            "grid_gap": null,
            "grid_row": null,
            "grid_template_areas": null,
            "grid_template_columns": null,
            "grid_template_rows": null,
            "height": null,
            "justify_content": null,
            "justify_items": null,
            "left": null,
            "margin": null,
            "max_height": null,
            "max_width": null,
            "min_height": null,
            "min_width": null,
            "object_fit": null,
            "object_position": null,
            "order": null,
            "overflow": null,
            "overflow_x": null,
            "overflow_y": null,
            "padding": null,
            "right": null,
            "top": null,
            "visibility": null,
            "width": null
          }
        },
        "1a53a90699ca496891f230ae40ecd635": {
          "model_module": "@jupyter-widgets/controls",
          "model_name": "ProgressStyleModel",
          "model_module_version": "1.5.0",
          "state": {
            "_model_module": "@jupyter-widgets/controls",
            "_model_module_version": "1.5.0",
            "_model_name": "ProgressStyleModel",
            "_view_count": null,
            "_view_module": "@jupyter-widgets/base",
            "_view_module_version": "1.2.0",
            "_view_name": "StyleView",
            "bar_color": null,
            "description_width": ""
          }
        },
        "f264f028dbcb43d7bde6a7bcdb8f718b": {
          "model_module": "@jupyter-widgets/controls",
          "model_name": "VBoxModel",
          "model_module_version": "1.5.0",
          "state": {
            "_dom_classes": [],
            "_model_module": "@jupyter-widgets/controls",
            "_model_module_version": "1.5.0",
            "_model_name": "VBoxModel",
            "_view_count": null,
            "_view_module": "@jupyter-widgets/controls",
            "_view_module_version": "1.5.0",
            "_view_name": "VBoxView",
            "box_style": "",
            "children": [
              "IPY_MODEL_79d7883430f54658bf2035c886d64f40",
              "IPY_MODEL_97d734e01f8746849ada2f42dfd8005c"
            ],
            "layout": "IPY_MODEL_4c93d2860b72421d9392568d119e75df"
          }
        },
        "79d7883430f54658bf2035c886d64f40": {
          "model_module": "@jupyter-widgets/controls",
          "model_name": "LabelModel",
          "model_module_version": "1.5.0",
          "state": {
            "_dom_classes": [],
            "_model_module": "@jupyter-widgets/controls",
            "_model_module_version": "1.5.0",
            "_model_name": "LabelModel",
            "_view_count": null,
            "_view_module": "@jupyter-widgets/controls",
            "_view_module_version": "1.5.0",
            "_view_name": "LabelView",
            "description": "",
            "description_tooltip": null,
            "layout": "IPY_MODEL_780e23713a0445b699056af272876c7d",
            "placeholder": "​",
            "style": "IPY_MODEL_633c4940d8ff4114955fc311481fbf3c",
            "value": "0.045 MB of 0.045 MB uploaded (0.000 MB deduped)\r"
          }
        },
        "97d734e01f8746849ada2f42dfd8005c": {
          "model_module": "@jupyter-widgets/controls",
          "model_name": "FloatProgressModel",
          "model_module_version": "1.5.0",
          "state": {
            "_dom_classes": [],
            "_model_module": "@jupyter-widgets/controls",
            "_model_module_version": "1.5.0",
            "_model_name": "FloatProgressModel",
            "_view_count": null,
            "_view_module": "@jupyter-widgets/controls",
            "_view_module_version": "1.5.0",
            "_view_name": "ProgressView",
            "bar_style": "",
            "description": "",
            "description_tooltip": null,
            "layout": "IPY_MODEL_d8660a0a00a94c33940343f70e73ce8e",
            "max": 1,
            "min": 0,
            "orientation": "horizontal",
            "style": "IPY_MODEL_f352bc62425343ec8265d75c6fb8100e",
            "value": 1
          }
        },
        "4c93d2860b72421d9392568d119e75df": {
          "model_module": "@jupyter-widgets/base",
          "model_name": "LayoutModel",
          "model_module_version": "1.2.0",
          "state": {
            "_model_module": "@jupyter-widgets/base",
            "_model_module_version": "1.2.0",
            "_model_name": "LayoutModel",
            "_view_count": null,
            "_view_module": "@jupyter-widgets/base",
            "_view_module_version": "1.2.0",
            "_view_name": "LayoutView",
            "align_content": null,
            "align_items": null,
            "align_self": null,
            "border": null,
            "bottom": null,
            "display": null,
            "flex": null,
            "flex_flow": null,
            "grid_area": null,
            "grid_auto_columns": null,
            "grid_auto_flow": null,
            "grid_auto_rows": null,
            "grid_column": null,
            "grid_gap": null,
            "grid_row": null,
            "grid_template_areas": null,
            "grid_template_columns": null,
            "grid_template_rows": null,
            "height": null,
            "justify_content": null,
            "justify_items": null,
            "left": null,
            "margin": null,
            "max_height": null,
            "max_width": null,
            "min_height": null,
            "min_width": null,
            "object_fit": null,
            "object_position": null,
            "order": null,
            "overflow": null,
            "overflow_x": null,
            "overflow_y": null,
            "padding": null,
            "right": null,
            "top": null,
            "visibility": null,
            "width": null
          }
        },
        "780e23713a0445b699056af272876c7d": {
          "model_module": "@jupyter-widgets/base",
          "model_name": "LayoutModel",
          "model_module_version": "1.2.0",
          "state": {
            "_model_module": "@jupyter-widgets/base",
            "_model_module_version": "1.2.0",
            "_model_name": "LayoutModel",
            "_view_count": null,
            "_view_module": "@jupyter-widgets/base",
            "_view_module_version": "1.2.0",
            "_view_name": "LayoutView",
            "align_content": null,
            "align_items": null,
            "align_self": null,
            "border": null,
            "bottom": null,
            "display": null,
            "flex": null,
            "flex_flow": null,
            "grid_area": null,
            "grid_auto_columns": null,
            "grid_auto_flow": null,
            "grid_auto_rows": null,
            "grid_column": null,
            "grid_gap": null,
            "grid_row": null,
            "grid_template_areas": null,
            "grid_template_columns": null,
            "grid_template_rows": null,
            "height": null,
            "justify_content": null,
            "justify_items": null,
            "left": null,
            "margin": null,
            "max_height": null,
            "max_width": null,
            "min_height": null,
            "min_width": null,
            "object_fit": null,
            "object_position": null,
            "order": null,
            "overflow": null,
            "overflow_x": null,
            "overflow_y": null,
            "padding": null,
            "right": null,
            "top": null,
            "visibility": null,
            "width": null
          }
        },
        "633c4940d8ff4114955fc311481fbf3c": {
          "model_module": "@jupyter-widgets/controls",
          "model_name": "DescriptionStyleModel",
          "model_module_version": "1.5.0",
          "state": {
            "_model_module": "@jupyter-widgets/controls",
            "_model_module_version": "1.5.0",
            "_model_name": "DescriptionStyleModel",
            "_view_count": null,
            "_view_module": "@jupyter-widgets/base",
            "_view_module_version": "1.2.0",
            "_view_name": "StyleView",
            "description_width": ""
          }
        },
        "d8660a0a00a94c33940343f70e73ce8e": {
          "model_module": "@jupyter-widgets/base",
          "model_name": "LayoutModel",
          "model_module_version": "1.2.0",
          "state": {
            "_model_module": "@jupyter-widgets/base",
            "_model_module_version": "1.2.0",
            "_model_name": "LayoutModel",
            "_view_count": null,
            "_view_module": "@jupyter-widgets/base",
            "_view_module_version": "1.2.0",
            "_view_name": "LayoutView",
            "align_content": null,
            "align_items": null,
            "align_self": null,
            "border": null,
            "bottom": null,
            "display": null,
            "flex": null,
            "flex_flow": null,
            "grid_area": null,
            "grid_auto_columns": null,
            "grid_auto_flow": null,
            "grid_auto_rows": null,
            "grid_column": null,
            "grid_gap": null,
            "grid_row": null,
            "grid_template_areas": null,
            "grid_template_columns": null,
            "grid_template_rows": null,
            "height": null,
            "justify_content": null,
            "justify_items": null,
            "left": null,
            "margin": null,
            "max_height": null,
            "max_width": null,
            "min_height": null,
            "min_width": null,
            "object_fit": null,
            "object_position": null,
            "order": null,
            "overflow": null,
            "overflow_x": null,
            "overflow_y": null,
            "padding": null,
            "right": null,
            "top": null,
            "visibility": null,
            "width": null
          }
        },
        "f352bc62425343ec8265d75c6fb8100e": {
          "model_module": "@jupyter-widgets/controls",
          "model_name": "ProgressStyleModel",
          "model_module_version": "1.5.0",
          "state": {
            "_model_module": "@jupyter-widgets/controls",
            "_model_module_version": "1.5.0",
            "_model_name": "ProgressStyleModel",
            "_view_count": null,
            "_view_module": "@jupyter-widgets/base",
            "_view_module_version": "1.2.0",
            "_view_name": "StyleView",
            "bar_color": null,
            "description_width": ""
          }
        },
        "1cd509a3661e45a38efe77c94bb9302b": {
          "model_module": "@jupyter-widgets/controls",
          "model_name": "VBoxModel",
          "model_module_version": "1.5.0",
          "state": {
            "_dom_classes": [],
            "_model_module": "@jupyter-widgets/controls",
            "_model_module_version": "1.5.0",
            "_model_name": "VBoxModel",
            "_view_count": null,
            "_view_module": "@jupyter-widgets/controls",
            "_view_module_version": "1.5.0",
            "_view_name": "VBoxView",
            "box_style": "",
            "children": [
              "IPY_MODEL_512a5900e7a24d79ad645b4635c26eb9",
              "IPY_MODEL_d6956a5becb84b14a515fbd1170be4da"
            ],
            "layout": "IPY_MODEL_c7cdf290734845288ea29a7db220f99c"
          }
        },
        "512a5900e7a24d79ad645b4635c26eb9": {
          "model_module": "@jupyter-widgets/controls",
          "model_name": "LabelModel",
          "model_module_version": "1.5.0",
          "state": {
            "_dom_classes": [],
            "_model_module": "@jupyter-widgets/controls",
            "_model_module_version": "1.5.0",
            "_model_name": "LabelModel",
            "_view_count": null,
            "_view_module": "@jupyter-widgets/controls",
            "_view_module_version": "1.5.0",
            "_view_name": "LabelView",
            "description": "",
            "description_tooltip": null,
            "layout": "IPY_MODEL_780af00b046e465ab338114ff754eeff",
            "placeholder": "​",
            "style": "IPY_MODEL_a9cf21617e3b4b4a808603ae5005a765",
            "value": "0.043 MB of 0.043 MB uploaded (0.000 MB deduped)\r"
          }
        },
        "d6956a5becb84b14a515fbd1170be4da": {
          "model_module": "@jupyter-widgets/controls",
          "model_name": "FloatProgressModel",
          "model_module_version": "1.5.0",
          "state": {
            "_dom_classes": [],
            "_model_module": "@jupyter-widgets/controls",
            "_model_module_version": "1.5.0",
            "_model_name": "FloatProgressModel",
            "_view_count": null,
            "_view_module": "@jupyter-widgets/controls",
            "_view_module_version": "1.5.0",
            "_view_name": "ProgressView",
            "bar_style": "",
            "description": "",
            "description_tooltip": null,
            "layout": "IPY_MODEL_2ccb802a096b41748d3ceaec9a3b1501",
            "max": 1,
            "min": 0,
            "orientation": "horizontal",
            "style": "IPY_MODEL_553648478bfd4c34844543fe1f5cb5e3",
            "value": 1
          }
        },
        "c7cdf290734845288ea29a7db220f99c": {
          "model_module": "@jupyter-widgets/base",
          "model_name": "LayoutModel",
          "model_module_version": "1.2.0",
          "state": {
            "_model_module": "@jupyter-widgets/base",
            "_model_module_version": "1.2.0",
            "_model_name": "LayoutModel",
            "_view_count": null,
            "_view_module": "@jupyter-widgets/base",
            "_view_module_version": "1.2.0",
            "_view_name": "LayoutView",
            "align_content": null,
            "align_items": null,
            "align_self": null,
            "border": null,
            "bottom": null,
            "display": null,
            "flex": null,
            "flex_flow": null,
            "grid_area": null,
            "grid_auto_columns": null,
            "grid_auto_flow": null,
            "grid_auto_rows": null,
            "grid_column": null,
            "grid_gap": null,
            "grid_row": null,
            "grid_template_areas": null,
            "grid_template_columns": null,
            "grid_template_rows": null,
            "height": null,
            "justify_content": null,
            "justify_items": null,
            "left": null,
            "margin": null,
            "max_height": null,
            "max_width": null,
            "min_height": null,
            "min_width": null,
            "object_fit": null,
            "object_position": null,
            "order": null,
            "overflow": null,
            "overflow_x": null,
            "overflow_y": null,
            "padding": null,
            "right": null,
            "top": null,
            "visibility": null,
            "width": null
          }
        },
        "780af00b046e465ab338114ff754eeff": {
          "model_module": "@jupyter-widgets/base",
          "model_name": "LayoutModel",
          "model_module_version": "1.2.0",
          "state": {
            "_model_module": "@jupyter-widgets/base",
            "_model_module_version": "1.2.0",
            "_model_name": "LayoutModel",
            "_view_count": null,
            "_view_module": "@jupyter-widgets/base",
            "_view_module_version": "1.2.0",
            "_view_name": "LayoutView",
            "align_content": null,
            "align_items": null,
            "align_self": null,
            "border": null,
            "bottom": null,
            "display": null,
            "flex": null,
            "flex_flow": null,
            "grid_area": null,
            "grid_auto_columns": null,
            "grid_auto_flow": null,
            "grid_auto_rows": null,
            "grid_column": null,
            "grid_gap": null,
            "grid_row": null,
            "grid_template_areas": null,
            "grid_template_columns": null,
            "grid_template_rows": null,
            "height": null,
            "justify_content": null,
            "justify_items": null,
            "left": null,
            "margin": null,
            "max_height": null,
            "max_width": null,
            "min_height": null,
            "min_width": null,
            "object_fit": null,
            "object_position": null,
            "order": null,
            "overflow": null,
            "overflow_x": null,
            "overflow_y": null,
            "padding": null,
            "right": null,
            "top": null,
            "visibility": null,
            "width": null
          }
        },
        "a9cf21617e3b4b4a808603ae5005a765": {
          "model_module": "@jupyter-widgets/controls",
          "model_name": "DescriptionStyleModel",
          "model_module_version": "1.5.0",
          "state": {
            "_model_module": "@jupyter-widgets/controls",
            "_model_module_version": "1.5.0",
            "_model_name": "DescriptionStyleModel",
            "_view_count": null,
            "_view_module": "@jupyter-widgets/base",
            "_view_module_version": "1.2.0",
            "_view_name": "StyleView",
            "description_width": ""
          }
        },
        "2ccb802a096b41748d3ceaec9a3b1501": {
          "model_module": "@jupyter-widgets/base",
          "model_name": "LayoutModel",
          "model_module_version": "1.2.0",
          "state": {
            "_model_module": "@jupyter-widgets/base",
            "_model_module_version": "1.2.0",
            "_model_name": "LayoutModel",
            "_view_count": null,
            "_view_module": "@jupyter-widgets/base",
            "_view_module_version": "1.2.0",
            "_view_name": "LayoutView",
            "align_content": null,
            "align_items": null,
            "align_self": null,
            "border": null,
            "bottom": null,
            "display": null,
            "flex": null,
            "flex_flow": null,
            "grid_area": null,
            "grid_auto_columns": null,
            "grid_auto_flow": null,
            "grid_auto_rows": null,
            "grid_column": null,
            "grid_gap": null,
            "grid_row": null,
            "grid_template_areas": null,
            "grid_template_columns": null,
            "grid_template_rows": null,
            "height": null,
            "justify_content": null,
            "justify_items": null,
            "left": null,
            "margin": null,
            "max_height": null,
            "max_width": null,
            "min_height": null,
            "min_width": null,
            "object_fit": null,
            "object_position": null,
            "order": null,
            "overflow": null,
            "overflow_x": null,
            "overflow_y": null,
            "padding": null,
            "right": null,
            "top": null,
            "visibility": null,
            "width": null
          }
        },
        "553648478bfd4c34844543fe1f5cb5e3": {
          "model_module": "@jupyter-widgets/controls",
          "model_name": "ProgressStyleModel",
          "model_module_version": "1.5.0",
          "state": {
            "_model_module": "@jupyter-widgets/controls",
            "_model_module_version": "1.5.0",
            "_model_name": "ProgressStyleModel",
            "_view_count": null,
            "_view_module": "@jupyter-widgets/base",
            "_view_module_version": "1.2.0",
            "_view_name": "StyleView",
            "bar_color": null,
            "description_width": ""
          }
        },
        "3493229ba9f542df9c0c61613d64637f": {
          "model_module": "@jupyter-widgets/controls",
          "model_name": "VBoxModel",
          "model_module_version": "1.5.0",
          "state": {
            "_dom_classes": [],
            "_model_module": "@jupyter-widgets/controls",
            "_model_module_version": "1.5.0",
            "_model_name": "VBoxModel",
            "_view_count": null,
            "_view_module": "@jupyter-widgets/controls",
            "_view_module_version": "1.5.0",
            "_view_name": "VBoxView",
            "box_style": "",
            "children": [
              "IPY_MODEL_f1fcb7cae03d403db9086c25951635f2",
              "IPY_MODEL_b1dadb2785ee4f2ab46523f892f141b1"
            ],
            "layout": "IPY_MODEL_fb09fa767a33448c94586c4f16140953"
          }
        },
        "f1fcb7cae03d403db9086c25951635f2": {
          "model_module": "@jupyter-widgets/controls",
          "model_name": "LabelModel",
          "model_module_version": "1.5.0",
          "state": {
            "_dom_classes": [],
            "_model_module": "@jupyter-widgets/controls",
            "_model_module_version": "1.5.0",
            "_model_name": "LabelModel",
            "_view_count": null,
            "_view_module": "@jupyter-widgets/controls",
            "_view_module_version": "1.5.0",
            "_view_name": "LabelView",
            "description": "",
            "description_tooltip": null,
            "layout": "IPY_MODEL_d7c7b2af6465418bb2e17cc990c86c71",
            "placeholder": "​",
            "style": "IPY_MODEL_a770bef1075a4210b38965c044e7bcf7",
            "value": "0.047 MB of 0.047 MB uploaded (0.000 MB deduped)\r"
          }
        },
        "b1dadb2785ee4f2ab46523f892f141b1": {
          "model_module": "@jupyter-widgets/controls",
          "model_name": "FloatProgressModel",
          "model_module_version": "1.5.0",
          "state": {
            "_dom_classes": [],
            "_model_module": "@jupyter-widgets/controls",
            "_model_module_version": "1.5.0",
            "_model_name": "FloatProgressModel",
            "_view_count": null,
            "_view_module": "@jupyter-widgets/controls",
            "_view_module_version": "1.5.0",
            "_view_name": "ProgressView",
            "bar_style": "",
            "description": "",
            "description_tooltip": null,
            "layout": "IPY_MODEL_069c615c19a04f94848ea2aab42e06ab",
            "max": 1,
            "min": 0,
            "orientation": "horizontal",
            "style": "IPY_MODEL_45caa0831eeb426bb9dd2c044590fbc0",
            "value": 1
          }
        },
        "fb09fa767a33448c94586c4f16140953": {
          "model_module": "@jupyter-widgets/base",
          "model_name": "LayoutModel",
          "model_module_version": "1.2.0",
          "state": {
            "_model_module": "@jupyter-widgets/base",
            "_model_module_version": "1.2.0",
            "_model_name": "LayoutModel",
            "_view_count": null,
            "_view_module": "@jupyter-widgets/base",
            "_view_module_version": "1.2.0",
            "_view_name": "LayoutView",
            "align_content": null,
            "align_items": null,
            "align_self": null,
            "border": null,
            "bottom": null,
            "display": null,
            "flex": null,
            "flex_flow": null,
            "grid_area": null,
            "grid_auto_columns": null,
            "grid_auto_flow": null,
            "grid_auto_rows": null,
            "grid_column": null,
            "grid_gap": null,
            "grid_row": null,
            "grid_template_areas": null,
            "grid_template_columns": null,
            "grid_template_rows": null,
            "height": null,
            "justify_content": null,
            "justify_items": null,
            "left": null,
            "margin": null,
            "max_height": null,
            "max_width": null,
            "min_height": null,
            "min_width": null,
            "object_fit": null,
            "object_position": null,
            "order": null,
            "overflow": null,
            "overflow_x": null,
            "overflow_y": null,
            "padding": null,
            "right": null,
            "top": null,
            "visibility": null,
            "width": null
          }
        },
        "d7c7b2af6465418bb2e17cc990c86c71": {
          "model_module": "@jupyter-widgets/base",
          "model_name": "LayoutModel",
          "model_module_version": "1.2.0",
          "state": {
            "_model_module": "@jupyter-widgets/base",
            "_model_module_version": "1.2.0",
            "_model_name": "LayoutModel",
            "_view_count": null,
            "_view_module": "@jupyter-widgets/base",
            "_view_module_version": "1.2.0",
            "_view_name": "LayoutView",
            "align_content": null,
            "align_items": null,
            "align_self": null,
            "border": null,
            "bottom": null,
            "display": null,
            "flex": null,
            "flex_flow": null,
            "grid_area": null,
            "grid_auto_columns": null,
            "grid_auto_flow": null,
            "grid_auto_rows": null,
            "grid_column": null,
            "grid_gap": null,
            "grid_row": null,
            "grid_template_areas": null,
            "grid_template_columns": null,
            "grid_template_rows": null,
            "height": null,
            "justify_content": null,
            "justify_items": null,
            "left": null,
            "margin": null,
            "max_height": null,
            "max_width": null,
            "min_height": null,
            "min_width": null,
            "object_fit": null,
            "object_position": null,
            "order": null,
            "overflow": null,
            "overflow_x": null,
            "overflow_y": null,
            "padding": null,
            "right": null,
            "top": null,
            "visibility": null,
            "width": null
          }
        },
        "a770bef1075a4210b38965c044e7bcf7": {
          "model_module": "@jupyter-widgets/controls",
          "model_name": "DescriptionStyleModel",
          "model_module_version": "1.5.0",
          "state": {
            "_model_module": "@jupyter-widgets/controls",
            "_model_module_version": "1.5.0",
            "_model_name": "DescriptionStyleModel",
            "_view_count": null,
            "_view_module": "@jupyter-widgets/base",
            "_view_module_version": "1.2.0",
            "_view_name": "StyleView",
            "description_width": ""
          }
        },
        "069c615c19a04f94848ea2aab42e06ab": {
          "model_module": "@jupyter-widgets/base",
          "model_name": "LayoutModel",
          "model_module_version": "1.2.0",
          "state": {
            "_model_module": "@jupyter-widgets/base",
            "_model_module_version": "1.2.0",
            "_model_name": "LayoutModel",
            "_view_count": null,
            "_view_module": "@jupyter-widgets/base",
            "_view_module_version": "1.2.0",
            "_view_name": "LayoutView",
            "align_content": null,
            "align_items": null,
            "align_self": null,
            "border": null,
            "bottom": null,
            "display": null,
            "flex": null,
            "flex_flow": null,
            "grid_area": null,
            "grid_auto_columns": null,
            "grid_auto_flow": null,
            "grid_auto_rows": null,
            "grid_column": null,
            "grid_gap": null,
            "grid_row": null,
            "grid_template_areas": null,
            "grid_template_columns": null,
            "grid_template_rows": null,
            "height": null,
            "justify_content": null,
            "justify_items": null,
            "left": null,
            "margin": null,
            "max_height": null,
            "max_width": null,
            "min_height": null,
            "min_width": null,
            "object_fit": null,
            "object_position": null,
            "order": null,
            "overflow": null,
            "overflow_x": null,
            "overflow_y": null,
            "padding": null,
            "right": null,
            "top": null,
            "visibility": null,
            "width": null
          }
        },
        "45caa0831eeb426bb9dd2c044590fbc0": {
          "model_module": "@jupyter-widgets/controls",
          "model_name": "ProgressStyleModel",
          "model_module_version": "1.5.0",
          "state": {
            "_model_module": "@jupyter-widgets/controls",
            "_model_module_version": "1.5.0",
            "_model_name": "ProgressStyleModel",
            "_view_count": null,
            "_view_module": "@jupyter-widgets/base",
            "_view_module_version": "1.2.0",
            "_view_name": "StyleView",
            "bar_color": null,
            "description_width": ""
          }
        }
      }
    }
  },
  "nbformat": 4,
  "nbformat_minor": 0
}